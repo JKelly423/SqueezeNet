{
 "cells": [
  {
   "cell_type": "code",
   "execution_count": 1,
   "metadata": {
    "collapsed": true
   },
   "outputs": [],
   "source": [
    "from DataPlug import DataPlug as dp\n",
    "from SqueezeNet import SqueezeNet as sq"
   ]
  },
  {
   "cell_type": "code",
   "execution_count": 2,
   "outputs": [],
   "source": [
    "squeeze = sq(\"SqueezeNet\")\n",
    "dataPlug = dp(\"DataPlug\")"
   ],
   "metadata": {
    "collapsed": false
   }
  },
  {
   "cell_type": "code",
   "execution_count": 11,
   "outputs": [
    {
     "name": "stdout",
     "output_type": "stream",
     "text": [
      "<praw.models.listing.generator.ListingGenerator object at 0x000001358E09CA00>\n"
     ]
    }
   ],
   "source": [
    "data = dataPlug.get_data(\"wallstreetbets\", 5)\n",
    "\n",
    "print(data)"
   ],
   "metadata": {
    "collapsed": false
   }
  },
  {
   "cell_type": "code",
   "execution_count": 12,
   "outputs": [
    {
     "name": "stdout",
     "output_type": "stream",
     "text": [
      "=================\n",
      "title:Daily Discussion Thread for April 14, 2023\n",
      "score: 66\n",
      "id: 12lrws5\n",
      "url: https://www.reddit.com/r/wallstreetbets/comments/12lrws5/daily_discussion_thread_for_april_14_2023/\n",
      "body: **Find WallStreetBets on[](https://twitter.com/OPINION_IS_UNPOPULAR) [YouTube](https://www.youtube.com/channel/UCRPCE1kzX-JHzcAHfPSs87Q?sub_confirmation=1), [Twitch](https://www.twitch.tv/wsbverse), and [Discord](https://discord.gg/wsbverse)**\n",
      "\n",
      "Check out our [Earnings Thread](https://www.reddit.com/r/wallstreetbets/comments/127v2p3/most_anticipated_earnings_releases_for_the_week) and [Rules](https://www.reddit.com/r/wallstreetbets/wiki/contentguide).\n",
      "=================\n",
      "\n",
      "\n",
      "=================\n",
      "title:Kiss of Death…RIP BA\n",
      "score: 7977\n",
      "id: 12lkhrs\n",
      "url: https://i.redd.it/jvfty01eotta1.jpg\n",
      "body: \n",
      "=================\n",
      "\n",
      "\n",
      "=================\n",
      "title:Does anyone know where SBF is now?\n",
      "score: 3830\n",
      "id: 12lhx5v\n",
      "url: https://i.redd.it/af3lwbhf7tta1.jpg\n",
      "body: \n",
      "=================\n",
      "\n",
      "\n",
      "=================\n",
      "title:I'm dying laughing rn. WSJ has the DD. This is a real article.\n",
      "score: 5417\n",
      "id: 12l8ajy\n",
      "url: https://i.redd.it/6aikjooh7qta1.png\n",
      "body: \n",
      "=================\n",
      "\n",
      "\n",
      "=================\n",
      "title:We’ll see.\n",
      "score: 4169\n",
      "id: 12l1i3k\n",
      "url: https://i.redd.it/hnn2gp4wzqta1.jpg\n",
      "body: \n",
      "=================\n",
      "\n",
      "\n"
     ]
    }
   ],
   "source": [
    "for post in data:\n",
    "    print('=================')\n",
    "    print(f'title:{post.title}')\n",
    "    print(f'score: {post.score}')\n",
    "    print(f'id: {post.id}')\n",
    "    print(f'url: {post.url}')\n",
    "    print(f'body: {post.selftext}')\n",
    "    print('=================')\n",
    "    print('\\n')"
   ],
   "metadata": {
    "collapsed": false
   }
  }
 ],
 "metadata": {
  "kernelspec": {
   "display_name": "Python 3",
   "language": "python",
   "name": "python3"
  },
  "language_info": {
   "codemirror_mode": {
    "name": "ipython",
    "version": 2
   },
   "file_extension": ".py",
   "mimetype": "text/x-python",
   "name": "python",
   "nbconvert_exporter": "python",
   "pygments_lexer": "ipython2",
   "version": "2.7.6"
  }
 },
 "nbformat": 4,
 "nbformat_minor": 0
}
