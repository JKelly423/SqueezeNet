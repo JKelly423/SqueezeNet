{
 "cells": [
  {
   "cell_type": "code",
   "execution_count": 1,
   "metadata": {
    "collapsed": true
   },
   "outputs": [],
   "source": [
    "from DataPlug import DataPlug as dp\n",
    "from SqueezeNet import SqueezeNet as sq"
   ]
  },
  {
   "cell_type": "code",
   "execution_count": 2,
   "outputs": [],
   "source": [
    "squeeze = sq(\"SqueezeNet\")\n",
    "dataPlug = dp(\"DataPlug\")\n"
   ],
   "metadata": {
    "collapsed": false
   }
  },
  {
   "cell_type": "code",
   "execution_count": 3,
   "outputs": [
    {
     "name": "stdout",
     "output_type": "stream",
     "text": [
      "<praw.models.listing.generator.ListingGenerator object at 0x7f8f19ea7f40>\n"
     ]
    }
   ],
   "source": [
    "data = dataPlug.get_data(\"wallstreetbets\", 5)\n",
    "\n",
    "print(data)"
   ],
   "metadata": {
    "collapsed": false
   }
  },
  {
   "cell_type": "code",
   "execution_count": 4,
   "outputs": [
    {
     "name": "stdout",
     "output_type": "stream",
     "text": [
      "=================\n",
      "title:Daily Discussion Thread for April 14, 2023\n",
      "score: 77\n",
      "id: 12lrws5\n",
      "url: https://www.reddit.com/r/wallstreetbets/comments/12lrws5/daily_discussion_thread_for_april_14_2023/\n",
      "body: **Find WallStreetBets on[](https://twitter.com/OPINION_IS_UNPOPULAR) [YouTube](https://www.youtube.com/channel/UCRPCE1kzX-JHzcAHfPSs87Q?sub_confirmation=1), [Twitch](https://www.twitch.tv/wsbverse), and [Discord](https://discord.gg/wsbverse)**\n",
      "\n",
      "Check out our [Earnings Thread](https://www.reddit.com/r/wallstreetbets/comments/127v2p3/most_anticipated_earnings_releases_for_the_week) and [Rules](https://www.reddit.com/r/wallstreetbets/wiki/contentguide).\n",
      "=================\n",
      "\n",
      "\n",
      "=================\n",
      "title:Kiss of Death…RIP BA\n",
      "score: 9619\n",
      "id: 12lkhrs\n",
      "url: https://i.redd.it/jvfty01eotta1.jpg\n",
      "body: \n",
      "=================\n",
      "\n",
      "\n",
      "=================\n",
      "title:Does anyone know where SBF is now?\n",
      "score: 4330\n",
      "id: 12lhx5v\n",
      "url: https://i.redd.it/af3lwbhf7tta1.jpg\n",
      "body: \n",
      "=================\n",
      "\n",
      "\n",
      "=================\n",
      "title:I'm dying laughing rn. WSJ has the DD. This is a real article.\n",
      "score: 5585\n",
      "id: 12l8ajy\n",
      "url: https://i.redd.it/6aikjooh7qta1.png\n",
      "body: \n",
      "=================\n",
      "\n",
      "\n",
      "=================\n",
      "title:We’ll see.\n",
      "score: 4237\n",
      "id: 12l1i3k\n",
      "url: https://i.redd.it/hnn2gp4wzqta1.jpg\n",
      "body: \n",
      "=================\n",
      "\n",
      "\n"
     ]
    }
   ],
   "source": [
    "for post in data:\n",
    "    print('=================')\n",
    "    print(f'title:{post.title}')\n",
    "    print(f'score: {post.score}')\n",
    "    print(f'id: {post.id}')\n",
    "    print(f'url: {post.url}')\n",
    "    print(f'body: {post.selftext}')\n",
    "    print('=================')\n",
    "    print('\\n')"
   ],
   "metadata": {
    "collapsed": false
   }
  },
  {
   "cell_type": "code",
   "execution_count": 4,
   "outputs": [],
   "source": [
    "\n"
   ],
   "metadata": {
    "collapsed": false
   }
  },
  {
   "cell_type": "code",
   "execution_count": 7,
   "outputs": [
    {
     "data": {
      "text/plain": "           Date     Open       High      Low      Close  Adj Close    Volume\n0    2020-09-01   1.8250   1.955000   1.6925   1.912500   1.912500  92634400\n1    2020-09-02   1.9500   2.012500   1.7775   1.927500   1.927500  52044400\n2    2020-09-03   1.9700   2.112500   1.8100   1.955000   1.955000  57378000\n3    2020-09-04   1.9450   1.980000   1.7925   1.912500   1.912500  30648000\n4    2020-09-08   1.8875   2.070000   1.8700   1.925000   1.925000  39266400\n..          ...      ...        ...      ...        ...        ...       ...\n653  2023-04-06  22.0000  22.670000  21.7700  22.400000  22.400000   2506900\n654  2023-04-10  21.8500  22.430000  21.8200  22.370001  22.370001   2176100\n655  2023-04-11  22.5700  23.170000  22.4200  22.690001  22.690001   2540000\n656  2023-04-12  22.9000  23.280001  22.2600  22.260000  22.260000   2141100\n657  2023-04-13  22.5000  22.850000  22.3300  22.549999  22.549999   1800800\n\n[658 rows x 7 columns]",
      "text/html": "<div>\n<style scoped>\n    .dataframe tbody tr th:only-of-type {\n        vertical-align: middle;\n    }\n\n    .dataframe tbody tr th {\n        vertical-align: top;\n    }\n\n    .dataframe thead th {\n        text-align: right;\n    }\n</style>\n<table border=\"1\" class=\"dataframe\">\n  <thead>\n    <tr style=\"text-align: right;\">\n      <th></th>\n      <th>Date</th>\n      <th>Open</th>\n      <th>High</th>\n      <th>Low</th>\n      <th>Close</th>\n      <th>Adj Close</th>\n      <th>Volume</th>\n    </tr>\n  </thead>\n  <tbody>\n    <tr>\n      <th>0</th>\n      <td>2020-09-01</td>\n      <td>1.8250</td>\n      <td>1.955000</td>\n      <td>1.6925</td>\n      <td>1.912500</td>\n      <td>1.912500</td>\n      <td>92634400</td>\n    </tr>\n    <tr>\n      <th>1</th>\n      <td>2020-09-02</td>\n      <td>1.9500</td>\n      <td>2.012500</td>\n      <td>1.7775</td>\n      <td>1.927500</td>\n      <td>1.927500</td>\n      <td>52044400</td>\n    </tr>\n    <tr>\n      <th>2</th>\n      <td>2020-09-03</td>\n      <td>1.9700</td>\n      <td>2.112500</td>\n      <td>1.8100</td>\n      <td>1.955000</td>\n      <td>1.955000</td>\n      <td>57378000</td>\n    </tr>\n    <tr>\n      <th>3</th>\n      <td>2020-09-04</td>\n      <td>1.9450</td>\n      <td>1.980000</td>\n      <td>1.7925</td>\n      <td>1.912500</td>\n      <td>1.912500</td>\n      <td>30648000</td>\n    </tr>\n    <tr>\n      <th>4</th>\n      <td>2020-09-08</td>\n      <td>1.8875</td>\n      <td>2.070000</td>\n      <td>1.8700</td>\n      <td>1.925000</td>\n      <td>1.925000</td>\n      <td>39266400</td>\n    </tr>\n    <tr>\n      <th>...</th>\n      <td>...</td>\n      <td>...</td>\n      <td>...</td>\n      <td>...</td>\n      <td>...</td>\n      <td>...</td>\n      <td>...</td>\n    </tr>\n    <tr>\n      <th>653</th>\n      <td>2023-04-06</td>\n      <td>22.0000</td>\n      <td>22.670000</td>\n      <td>21.7700</td>\n      <td>22.400000</td>\n      <td>22.400000</td>\n      <td>2506900</td>\n    </tr>\n    <tr>\n      <th>654</th>\n      <td>2023-04-10</td>\n      <td>21.8500</td>\n      <td>22.430000</td>\n      <td>21.8200</td>\n      <td>22.370001</td>\n      <td>22.370001</td>\n      <td>2176100</td>\n    </tr>\n    <tr>\n      <th>655</th>\n      <td>2023-04-11</td>\n      <td>22.5700</td>\n      <td>23.170000</td>\n      <td>22.4200</td>\n      <td>22.690001</td>\n      <td>22.690001</td>\n      <td>2540000</td>\n    </tr>\n    <tr>\n      <th>656</th>\n      <td>2023-04-12</td>\n      <td>22.9000</td>\n      <td>23.280001</td>\n      <td>22.2600</td>\n      <td>22.260000</td>\n      <td>22.260000</td>\n      <td>2141100</td>\n    </tr>\n    <tr>\n      <th>657</th>\n      <td>2023-04-13</td>\n      <td>22.5000</td>\n      <td>22.850000</td>\n      <td>22.3300</td>\n      <td>22.549999</td>\n      <td>22.549999</td>\n      <td>1800800</td>\n    </tr>\n  </tbody>\n</table>\n<p>658 rows × 7 columns</p>\n</div>"
     },
     "execution_count": 7,
     "metadata": {},
     "output_type": "execute_result"
    }
   ],
   "source": [
    "dataPlug.get_price_datafrane()"
   ],
   "metadata": {
    "collapsed": false
   }
  }
 ],
 "metadata": {
  "kernelspec": {
   "display_name": "Python 3",
   "language": "python",
   "name": "python3"
  },
  "language_info": {
   "codemirror_mode": {
    "name": "ipython",
    "version": 2
   },
   "file_extension": ".py",
   "mimetype": "text/x-python",
   "name": "python",
   "nbconvert_exporter": "python",
   "pygments_lexer": "ipython2",
   "version": "2.7.6"
  }
 },
 "nbformat": 4,
 "nbformat_minor": 0
}
