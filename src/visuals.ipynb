{
 "cells": [
  {
   "cell_type": "code",
   "execution_count": 10,
   "metadata": {
    "collapsed": true
   },
   "outputs": [],
   "source": [
    "import pandas as pd\n",
    "import numpy as np\n",
    "\n",
    "# Custom Util Tools\n",
    "from DataPlug import DataPlug as dp\n",
    "from SqueezeNet import SqueezeNet as sq\n",
    "\n",
    "# Plotting tools\n",
    "import matplotlib.pyplot as plt\n",
    "%matplotlib inline"
   ]
  },
  {
   "cell_type": "code",
   "execution_count": 11,
   "outputs": [],
   "source": [
    "squeeze = sq(\"SqueezeNet\")\n",
    "dataPlug = dp(\"DataPlug\")"
   ],
   "metadata": {
    "collapsed": false
   }
  },
  {
   "cell_type": "code",
   "execution_count": 14,
   "outputs": [],
   "source": [
    "# If you want to load the mergedDF from a csv file\n",
    "dataPlug.mergedDF = pd.read_csv('../data/mergedDF.csv')\n",
    "dataPlug.mergedDF = dataPlug.mergedDF.drop('Unnamed: 0', axis=1)\n",
    "dataPlug.uneditedDF = dataPlug.mergedDF\n",
    "# Drop unused column info\n",
    "\n",
    "dataPlug.mergedDF = dataPlug.mergedDF.drop('Open', axis=1)\n",
    "dataPlug.mergedDF = dataPlug.mergedDF.drop('Low', axis=1)\n",
    "\n",
    "dataPlug.mergedDF = dataPlug.mergedDF.drop('Adj Close', axis=1)\n",
    "dataPlug.mergedDF = dataPlug.mergedDF.drop('title', axis=1)\n",
    "\n",
    "# Might need to keep this, not sure yet\n",
    "timestamp_info = dataPlug.mergedDF['timestamp']\n",
    "dataPlug.mergedDF = dataPlug.mergedDF.drop('timestamp', axis=1)\n"
   ],
   "metadata": {
    "collapsed": false
   }
  },
  {
   "cell_type": "code",
   "execution_count": 15,
   "outputs": [
    {
     "name": "stdout",
     "output_type": "stream",
     "text": [
      "dataPlug.uneditedDF\n"
     ]
    },
    {
     "data": {
      "text/plain": "       timestamp       Open       High      Low    Close  Adj Close  \\\n0     2012-04-11   5.330000   5.380000   5.2350   5.3175   3.603972   \n1     2012-04-12   5.325000   5.427500   5.3125   5.3900   3.653110   \n2     2012-04-17   5.455000   5.550000   5.4500   5.5375   3.753081   \n3     2012-04-19   5.562500   5.635000   5.5325   5.5725   3.776802   \n4     2012-04-20   5.607500   5.677500   5.5525   5.5950   3.792051   \n...          ...        ...        ...      ...      ...        ...   \n2155  2021-02-08  18.102501  18.165001  14.5050  15.0000  15.000000   \n2156  2021-02-09  14.152500  14.250000  11.6300  12.5775  12.577500   \n2157  2021-02-10  12.692500  15.707500  11.6375  12.8000  12.800000   \n2158  2021-02-11  12.502500  13.830000  12.0550  12.7750  12.775000   \n2159  2021-02-12  12.687500  13.810000  12.0125  13.1000  13.100000   \n\n         Volume                                              title      score  \\\n0      19562000         Earnings season is here.  Place your bets.  13.000000   \n1       8414800         GOOG - beat estimates, price barely rises.   2.000000   \n2      16022400  Anyone betting on VVUS and their potential app...   6.500000   \n3      14128400  EBAY posts higher 1Q net income and revenue, s...   7.000000   \n4      12587200  After HGSI spikes 97%, will share price drop a...   4.000000   \n...         ...                                                ...        ...   \n2155  102749200  I have $200 bucks, where can I yolo||SNDL 🚀||$...   1.113846   \n2156  107372400  Cindicator Capital Wants to Hire r/WallStreetB...   1.000714   \n2157  145820000  Weed to the moon.||Halo Collective $HCANF||HMN...   6.080738   \n2158   52226800  SNDL to the MOON 🚀🚀🚀🚀🚀🚀||DRAFT KING SHORTYS MU...   1.887141   \n2159   58293200  This only makes me want to buy MORE. Fuck the ...   1.002478   \n\n      num_comments  Positive_Sentiment  Negative_Sentiment  Neutral_Sentiment  \\\n0        22.000000            0.000000            0.000000           1.000000   \n1         0.000000            0.000000            0.000000           1.000000   \n2        10.500000            0.102500            0.000000           0.897500   \n3         4.000000            0.000000            0.000000           1.000000   \n4         0.000000            0.165000            0.158000           0.677000   \n...            ...                 ...                 ...                ...   \n2155      4.526374            0.152009            0.044976           0.800815   \n2156     17.286530            0.141212            0.050631           0.807442   \n2157     12.311236            0.150552            0.038095           0.808944   \n2158     19.164354            0.147041            0.043510           0.807590   \n2159     17.504364            0.132765            0.054883           0.809981   \n\n      Compound_Sentiment  \n0               0.000000  \n1               0.000000  \n2               0.238350  \n3               0.000000  \n4               0.025800  \n...                  ...  \n2155            0.150271  \n2156            0.130000  \n2157            0.163170  \n2158            0.145756  \n2159            0.118106  \n\n[2160 rows x 14 columns]",
      "text/html": "<div>\n<style scoped>\n    .dataframe tbody tr th:only-of-type {\n        vertical-align: middle;\n    }\n\n    .dataframe tbody tr th {\n        vertical-align: top;\n    }\n\n    .dataframe thead th {\n        text-align: right;\n    }\n</style>\n<table border=\"1\" class=\"dataframe\">\n  <thead>\n    <tr style=\"text-align: right;\">\n      <th></th>\n      <th>timestamp</th>\n      <th>Open</th>\n      <th>High</th>\n      <th>Low</th>\n      <th>Close</th>\n      <th>Adj Close</th>\n      <th>Volume</th>\n      <th>title</th>\n      <th>score</th>\n      <th>num_comments</th>\n      <th>Positive_Sentiment</th>\n      <th>Negative_Sentiment</th>\n      <th>Neutral_Sentiment</th>\n      <th>Compound_Sentiment</th>\n    </tr>\n  </thead>\n  <tbody>\n    <tr>\n      <th>0</th>\n      <td>2012-04-11</td>\n      <td>5.330000</td>\n      <td>5.380000</td>\n      <td>5.2350</td>\n      <td>5.3175</td>\n      <td>3.603972</td>\n      <td>19562000</td>\n      <td>Earnings season is here.  Place your bets.</td>\n      <td>13.000000</td>\n      <td>22.000000</td>\n      <td>0.000000</td>\n      <td>0.000000</td>\n      <td>1.000000</td>\n      <td>0.000000</td>\n    </tr>\n    <tr>\n      <th>1</th>\n      <td>2012-04-12</td>\n      <td>5.325000</td>\n      <td>5.427500</td>\n      <td>5.3125</td>\n      <td>5.3900</td>\n      <td>3.653110</td>\n      <td>8414800</td>\n      <td>GOOG - beat estimates, price barely rises.</td>\n      <td>2.000000</td>\n      <td>0.000000</td>\n      <td>0.000000</td>\n      <td>0.000000</td>\n      <td>1.000000</td>\n      <td>0.000000</td>\n    </tr>\n    <tr>\n      <th>2</th>\n      <td>2012-04-17</td>\n      <td>5.455000</td>\n      <td>5.550000</td>\n      <td>5.4500</td>\n      <td>5.5375</td>\n      <td>3.753081</td>\n      <td>16022400</td>\n      <td>Anyone betting on VVUS and their potential app...</td>\n      <td>6.500000</td>\n      <td>10.500000</td>\n      <td>0.102500</td>\n      <td>0.000000</td>\n      <td>0.897500</td>\n      <td>0.238350</td>\n    </tr>\n    <tr>\n      <th>3</th>\n      <td>2012-04-19</td>\n      <td>5.562500</td>\n      <td>5.635000</td>\n      <td>5.5325</td>\n      <td>5.5725</td>\n      <td>3.776802</td>\n      <td>14128400</td>\n      <td>EBAY posts higher 1Q net income and revenue, s...</td>\n      <td>7.000000</td>\n      <td>4.000000</td>\n      <td>0.000000</td>\n      <td>0.000000</td>\n      <td>1.000000</td>\n      <td>0.000000</td>\n    </tr>\n    <tr>\n      <th>4</th>\n      <td>2012-04-20</td>\n      <td>5.607500</td>\n      <td>5.677500</td>\n      <td>5.5525</td>\n      <td>5.5950</td>\n      <td>3.792051</td>\n      <td>12587200</td>\n      <td>After HGSI spikes 97%, will share price drop a...</td>\n      <td>4.000000</td>\n      <td>0.000000</td>\n      <td>0.165000</td>\n      <td>0.158000</td>\n      <td>0.677000</td>\n      <td>0.025800</td>\n    </tr>\n    <tr>\n      <th>...</th>\n      <td>...</td>\n      <td>...</td>\n      <td>...</td>\n      <td>...</td>\n      <td>...</td>\n      <td>...</td>\n      <td>...</td>\n      <td>...</td>\n      <td>...</td>\n      <td>...</td>\n      <td>...</td>\n      <td>...</td>\n      <td>...</td>\n      <td>...</td>\n    </tr>\n    <tr>\n      <th>2155</th>\n      <td>2021-02-08</td>\n      <td>18.102501</td>\n      <td>18.165001</td>\n      <td>14.5050</td>\n      <td>15.0000</td>\n      <td>15.000000</td>\n      <td>102749200</td>\n      <td>I have $200 bucks, where can I yolo||SNDL 🚀||$...</td>\n      <td>1.113846</td>\n      <td>4.526374</td>\n      <td>0.152009</td>\n      <td>0.044976</td>\n      <td>0.800815</td>\n      <td>0.150271</td>\n    </tr>\n    <tr>\n      <th>2156</th>\n      <td>2021-02-09</td>\n      <td>14.152500</td>\n      <td>14.250000</td>\n      <td>11.6300</td>\n      <td>12.5775</td>\n      <td>12.577500</td>\n      <td>107372400</td>\n      <td>Cindicator Capital Wants to Hire r/WallStreetB...</td>\n      <td>1.000714</td>\n      <td>17.286530</td>\n      <td>0.141212</td>\n      <td>0.050631</td>\n      <td>0.807442</td>\n      <td>0.130000</td>\n    </tr>\n    <tr>\n      <th>2157</th>\n      <td>2021-02-10</td>\n      <td>12.692500</td>\n      <td>15.707500</td>\n      <td>11.6375</td>\n      <td>12.8000</td>\n      <td>12.800000</td>\n      <td>145820000</td>\n      <td>Weed to the moon.||Halo Collective $HCANF||HMN...</td>\n      <td>6.080738</td>\n      <td>12.311236</td>\n      <td>0.150552</td>\n      <td>0.038095</td>\n      <td>0.808944</td>\n      <td>0.163170</td>\n    </tr>\n    <tr>\n      <th>2158</th>\n      <td>2021-02-11</td>\n      <td>12.502500</td>\n      <td>13.830000</td>\n      <td>12.0550</td>\n      <td>12.7750</td>\n      <td>12.775000</td>\n      <td>52226800</td>\n      <td>SNDL to the MOON 🚀🚀🚀🚀🚀🚀||DRAFT KING SHORTYS MU...</td>\n      <td>1.887141</td>\n      <td>19.164354</td>\n      <td>0.147041</td>\n      <td>0.043510</td>\n      <td>0.807590</td>\n      <td>0.145756</td>\n    </tr>\n    <tr>\n      <th>2159</th>\n      <td>2021-02-12</td>\n      <td>12.687500</td>\n      <td>13.810000</td>\n      <td>12.0125</td>\n      <td>13.1000</td>\n      <td>13.100000</td>\n      <td>58293200</td>\n      <td>This only makes me want to buy MORE. Fuck the ...</td>\n      <td>1.002478</td>\n      <td>17.504364</td>\n      <td>0.132765</td>\n      <td>0.054883</td>\n      <td>0.809981</td>\n      <td>0.118106</td>\n    </tr>\n  </tbody>\n</table>\n<p>2160 rows × 14 columns</p>\n</div>"
     },
     "metadata": {},
     "output_type": "display_data"
    },
    {
     "name": "stdout",
     "output_type": "stream",
     "text": [
      "dataPlug.mergedDF\n"
     ]
    },
    {
     "data": {
      "text/plain": "           High    Close     Volume      score  num_comments  \\\n0      5.380000   5.3175   19562000  13.000000     22.000000   \n1      5.427500   5.3900    8414800   2.000000      0.000000   \n2      5.550000   5.5375   16022400   6.500000     10.500000   \n3      5.635000   5.5725   14128400   7.000000      4.000000   \n4      5.677500   5.5950   12587200   4.000000      0.000000   \n...         ...      ...        ...        ...           ...   \n2155  18.165001  15.0000  102749200   1.113846      4.526374   \n2156  14.250000  12.5775  107372400   1.000714     17.286530   \n2157  15.707500  12.8000  145820000   6.080738     12.311236   \n2158  13.830000  12.7750   52226800   1.887141     19.164354   \n2159  13.810000  13.1000   58293200   1.002478     17.504364   \n\n      Positive_Sentiment  Negative_Sentiment  Neutral_Sentiment  \\\n0               0.000000            0.000000           1.000000   \n1               0.000000            0.000000           1.000000   \n2               0.102500            0.000000           0.897500   \n3               0.000000            0.000000           1.000000   \n4               0.165000            0.158000           0.677000   \n...                  ...                 ...                ...   \n2155            0.152009            0.044976           0.800815   \n2156            0.141212            0.050631           0.807442   \n2157            0.150552            0.038095           0.808944   \n2158            0.147041            0.043510           0.807590   \n2159            0.132765            0.054883           0.809981   \n\n      Compound_Sentiment  \n0               0.000000  \n1               0.000000  \n2               0.238350  \n3               0.000000  \n4               0.025800  \n...                  ...  \n2155            0.150271  \n2156            0.130000  \n2157            0.163170  \n2158            0.145756  \n2159            0.118106  \n\n[2160 rows x 9 columns]",
      "text/html": "<div>\n<style scoped>\n    .dataframe tbody tr th:only-of-type {\n        vertical-align: middle;\n    }\n\n    .dataframe tbody tr th {\n        vertical-align: top;\n    }\n\n    .dataframe thead th {\n        text-align: right;\n    }\n</style>\n<table border=\"1\" class=\"dataframe\">\n  <thead>\n    <tr style=\"text-align: right;\">\n      <th></th>\n      <th>High</th>\n      <th>Close</th>\n      <th>Volume</th>\n      <th>score</th>\n      <th>num_comments</th>\n      <th>Positive_Sentiment</th>\n      <th>Negative_Sentiment</th>\n      <th>Neutral_Sentiment</th>\n      <th>Compound_Sentiment</th>\n    </tr>\n  </thead>\n  <tbody>\n    <tr>\n      <th>0</th>\n      <td>5.380000</td>\n      <td>5.3175</td>\n      <td>19562000</td>\n      <td>13.000000</td>\n      <td>22.000000</td>\n      <td>0.000000</td>\n      <td>0.000000</td>\n      <td>1.000000</td>\n      <td>0.000000</td>\n    </tr>\n    <tr>\n      <th>1</th>\n      <td>5.427500</td>\n      <td>5.3900</td>\n      <td>8414800</td>\n      <td>2.000000</td>\n      <td>0.000000</td>\n      <td>0.000000</td>\n      <td>0.000000</td>\n      <td>1.000000</td>\n      <td>0.000000</td>\n    </tr>\n    <tr>\n      <th>2</th>\n      <td>5.550000</td>\n      <td>5.5375</td>\n      <td>16022400</td>\n      <td>6.500000</td>\n      <td>10.500000</td>\n      <td>0.102500</td>\n      <td>0.000000</td>\n      <td>0.897500</td>\n      <td>0.238350</td>\n    </tr>\n    <tr>\n      <th>3</th>\n      <td>5.635000</td>\n      <td>5.5725</td>\n      <td>14128400</td>\n      <td>7.000000</td>\n      <td>4.000000</td>\n      <td>0.000000</td>\n      <td>0.000000</td>\n      <td>1.000000</td>\n      <td>0.000000</td>\n    </tr>\n    <tr>\n      <th>4</th>\n      <td>5.677500</td>\n      <td>5.5950</td>\n      <td>12587200</td>\n      <td>4.000000</td>\n      <td>0.000000</td>\n      <td>0.165000</td>\n      <td>0.158000</td>\n      <td>0.677000</td>\n      <td>0.025800</td>\n    </tr>\n    <tr>\n      <th>...</th>\n      <td>...</td>\n      <td>...</td>\n      <td>...</td>\n      <td>...</td>\n      <td>...</td>\n      <td>...</td>\n      <td>...</td>\n      <td>...</td>\n      <td>...</td>\n    </tr>\n    <tr>\n      <th>2155</th>\n      <td>18.165001</td>\n      <td>15.0000</td>\n      <td>102749200</td>\n      <td>1.113846</td>\n      <td>4.526374</td>\n      <td>0.152009</td>\n      <td>0.044976</td>\n      <td>0.800815</td>\n      <td>0.150271</td>\n    </tr>\n    <tr>\n      <th>2156</th>\n      <td>14.250000</td>\n      <td>12.5775</td>\n      <td>107372400</td>\n      <td>1.000714</td>\n      <td>17.286530</td>\n      <td>0.141212</td>\n      <td>0.050631</td>\n      <td>0.807442</td>\n      <td>0.130000</td>\n    </tr>\n    <tr>\n      <th>2157</th>\n      <td>15.707500</td>\n      <td>12.8000</td>\n      <td>145820000</td>\n      <td>6.080738</td>\n      <td>12.311236</td>\n      <td>0.150552</td>\n      <td>0.038095</td>\n      <td>0.808944</td>\n      <td>0.163170</td>\n    </tr>\n    <tr>\n      <th>2158</th>\n      <td>13.830000</td>\n      <td>12.7750</td>\n      <td>52226800</td>\n      <td>1.887141</td>\n      <td>19.164354</td>\n      <td>0.147041</td>\n      <td>0.043510</td>\n      <td>0.807590</td>\n      <td>0.145756</td>\n    </tr>\n    <tr>\n      <th>2159</th>\n      <td>13.810000</td>\n      <td>13.1000</td>\n      <td>58293200</td>\n      <td>1.002478</td>\n      <td>17.504364</td>\n      <td>0.132765</td>\n      <td>0.054883</td>\n      <td>0.809981</td>\n      <td>0.118106</td>\n    </tr>\n  </tbody>\n</table>\n<p>2160 rows × 9 columns</p>\n</div>"
     },
     "metadata": {},
     "output_type": "display_data"
    }
   ],
   "source": [
    "print('dataPlug.uneditedDF')\n",
    "display(dataPlug.uneditedDF)\n",
    "print('dataPlug.mergedDF')\n",
    "display(dataPlug.mergedDF)"
   ],
   "metadata": {
    "collapsed": false
   }
  },
  {
   "cell_type": "code",
   "execution_count": null,
   "outputs": [],
   "source": [],
   "metadata": {
    "collapsed": false
   }
  }
 ],
 "metadata": {
  "kernelspec": {
   "display_name": "Python 3",
   "language": "python",
   "name": "python3"
  },
  "language_info": {
   "codemirror_mode": {
    "name": "ipython",
    "version": 2
   },
   "file_extension": ".py",
   "mimetype": "text/x-python",
   "name": "python",
   "nbconvert_exporter": "python",
   "pygments_lexer": "ipython2",
   "version": "2.7.6"
  }
 },
 "nbformat": 4,
 "nbformat_minor": 0
}
