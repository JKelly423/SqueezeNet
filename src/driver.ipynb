{
 "cells": [
  {
   "cell_type": "code",
   "execution_count": 1,
   "metadata": {
    "collapsed": true
   },
   "outputs": [
    {
     "name": "stderr",
     "output_type": "stream",
     "text": [
      "[nltk_data] Downloading package stopwords to\n",
      "[nltk_data]     C:\\Users\\jackk\\AppData\\Roaming\\nltk_data...\n",
      "[nltk_data]   Package stopwords is already up-to-date!\n"
     ]
    }
   ],
   "source": [
    "import pandas as pd\n",
    "import numpy as np\n",
    "\n",
    "from DataPlug import DataPlug as dp\n",
    "from SqueezeNet import SqueezeNet as sq\n",
    "\n",
    "# Util Imports\n",
    "import time # timer for sentiment analysis\n",
    "from tqdm import tqdm # progress bar for sentiment analysis"
   ]
  },
  {
   "cell_type": "code",
   "execution_count": 2,
   "outputs": [],
   "source": [
    "squeeze = sq(\"SqueezeNet\")\n",
    "dataPlug = dp(\"DataPlug\")\n"
   ],
   "metadata": {
    "collapsed": false
   }
  },
  {
   "cell_type": "code",
   "execution_count": 4,
   "outputs": [],
   "source": [
    "import datetime"
   ],
   "metadata": {
    "collapsed": false
   }
  },
  {
   "cell_type": "code",
   "execution_count": 6,
   "outputs": [
    {
     "data": {
      "text/plain": "                                                     title  score  \\\n0                                Whats going on with PLTR?      1   \n1        Need explanations on Level 2 data for GME, why...      1   \n2             XRT is being used as a laundry short machine      1   \n3                                                Airlines?      1   \n4                                               Buy TRXC 🚀      1   \n...                                                    ...    ...   \n1118858  EBAY posts higher 1Q net income and revenue, s...      7   \n1118859  Anyone betting on VVUS and their potential app...      1   \n1118860  My poorly timed opening position for AAPL earn...     12   \n1118861         GOOG - beat estimates, price barely rises.      2   \n1118862         Earnings season is here.  Place your bets.     13   \n\n         num_comments  timestamp  \n0                   2 2021-02-16  \n1                   2 2021-02-16  \n2                   2 2021-02-16  \n3                   2 2021-02-16  \n4                   2 2021-02-16  \n...               ...        ...  \n1118858             4 2012-04-19  \n1118859             0 2012-04-17  \n1118860            21 2012-04-17  \n1118861             0 2012-04-12  \n1118862            22 2012-04-11  \n\n[1118863 rows x 4 columns]",
      "text/html": "<div>\n<style scoped>\n    .dataframe tbody tr th:only-of-type {\n        vertical-align: middle;\n    }\n\n    .dataframe tbody tr th {\n        vertical-align: top;\n    }\n\n    .dataframe thead th {\n        text-align: right;\n    }\n</style>\n<table border=\"1\" class=\"dataframe\">\n  <thead>\n    <tr style=\"text-align: right;\">\n      <th></th>\n      <th>title</th>\n      <th>score</th>\n      <th>num_comments</th>\n      <th>timestamp</th>\n    </tr>\n  </thead>\n  <tbody>\n    <tr>\n      <th>0</th>\n      <td>Whats going on with PLTR?</td>\n      <td>1</td>\n      <td>2</td>\n      <td>2021-02-16</td>\n    </tr>\n    <tr>\n      <th>1</th>\n      <td>Need explanations on Level 2 data for GME, why...</td>\n      <td>1</td>\n      <td>2</td>\n      <td>2021-02-16</td>\n    </tr>\n    <tr>\n      <th>2</th>\n      <td>XRT is being used as a laundry short machine</td>\n      <td>1</td>\n      <td>2</td>\n      <td>2021-02-16</td>\n    </tr>\n    <tr>\n      <th>3</th>\n      <td>Airlines?</td>\n      <td>1</td>\n      <td>2</td>\n      <td>2021-02-16</td>\n    </tr>\n    <tr>\n      <th>4</th>\n      <td>Buy TRXC 🚀</td>\n      <td>1</td>\n      <td>2</td>\n      <td>2021-02-16</td>\n    </tr>\n    <tr>\n      <th>...</th>\n      <td>...</td>\n      <td>...</td>\n      <td>...</td>\n      <td>...</td>\n    </tr>\n    <tr>\n      <th>1118858</th>\n      <td>EBAY posts higher 1Q net income and revenue, s...</td>\n      <td>7</td>\n      <td>4</td>\n      <td>2012-04-19</td>\n    </tr>\n    <tr>\n      <th>1118859</th>\n      <td>Anyone betting on VVUS and their potential app...</td>\n      <td>1</td>\n      <td>0</td>\n      <td>2012-04-17</td>\n    </tr>\n    <tr>\n      <th>1118860</th>\n      <td>My poorly timed opening position for AAPL earn...</td>\n      <td>12</td>\n      <td>21</td>\n      <td>2012-04-17</td>\n    </tr>\n    <tr>\n      <th>1118861</th>\n      <td>GOOG - beat estimates, price barely rises.</td>\n      <td>2</td>\n      <td>0</td>\n      <td>2012-04-12</td>\n    </tr>\n    <tr>\n      <th>1118862</th>\n      <td>Earnings season is here.  Place your bets.</td>\n      <td>13</td>\n      <td>22</td>\n      <td>2012-04-11</td>\n    </tr>\n  </tbody>\n</table>\n<p>1118863 rows × 4 columns</p>\n</div>"
     },
     "metadata": {},
     "output_type": "display_data"
    },
    {
     "data": {
      "text/plain": "                                                     title  score  \\\n0                                Whats going on with PLTR?      1   \n1        Need explanations on Level 2 data for GME, why...      1   \n2             XRT is being used as a laundry short machine      1   \n3                                                Airlines?      1   \n4                                               Buy TRXC 🚀      1   \n...                                                    ...    ...   \n1118858  EBAY posts higher 1Q net income and revenue, s...      7   \n1118859  Anyone betting on VVUS and their potential app...      1   \n1118860  My poorly timed opening position for AAPL earn...     12   \n1118861         GOOG - beat estimates, price barely rises.      2   \n1118862         Earnings season is here.  Place your bets.     13   \n\n         num_comments  timestamp  \n0                   2 2021-02-16  \n1                   2 2021-02-16  \n2                   2 2021-02-16  \n3                   2 2021-02-16  \n4                   2 2021-02-16  \n...               ...        ...  \n1118858             4 2012-04-19  \n1118859             0 2012-04-17  \n1118860            21 2012-04-17  \n1118861             0 2012-04-12  \n1118862            22 2012-04-11  \n\n[1118863 rows x 4 columns]",
      "text/html": "<div>\n<style scoped>\n    .dataframe tbody tr th:only-of-type {\n        vertical-align: middle;\n    }\n\n    .dataframe tbody tr th {\n        vertical-align: top;\n    }\n\n    .dataframe thead th {\n        text-align: right;\n    }\n</style>\n<table border=\"1\" class=\"dataframe\">\n  <thead>\n    <tr style=\"text-align: right;\">\n      <th></th>\n      <th>title</th>\n      <th>score</th>\n      <th>num_comments</th>\n      <th>timestamp</th>\n    </tr>\n  </thead>\n  <tbody>\n    <tr>\n      <th>0</th>\n      <td>Whats going on with PLTR?</td>\n      <td>1</td>\n      <td>2</td>\n      <td>2021-02-16</td>\n    </tr>\n    <tr>\n      <th>1</th>\n      <td>Need explanations on Level 2 data for GME, why...</td>\n      <td>1</td>\n      <td>2</td>\n      <td>2021-02-16</td>\n    </tr>\n    <tr>\n      <th>2</th>\n      <td>XRT is being used as a laundry short machine</td>\n      <td>1</td>\n      <td>2</td>\n      <td>2021-02-16</td>\n    </tr>\n    <tr>\n      <th>3</th>\n      <td>Airlines?</td>\n      <td>1</td>\n      <td>2</td>\n      <td>2021-02-16</td>\n    </tr>\n    <tr>\n      <th>4</th>\n      <td>Buy TRXC 🚀</td>\n      <td>1</td>\n      <td>2</td>\n      <td>2021-02-16</td>\n    </tr>\n    <tr>\n      <th>...</th>\n      <td>...</td>\n      <td>...</td>\n      <td>...</td>\n      <td>...</td>\n    </tr>\n    <tr>\n      <th>1118858</th>\n      <td>EBAY posts higher 1Q net income and revenue, s...</td>\n      <td>7</td>\n      <td>4</td>\n      <td>2012-04-19</td>\n    </tr>\n    <tr>\n      <th>1118859</th>\n      <td>Anyone betting on VVUS and their potential app...</td>\n      <td>1</td>\n      <td>0</td>\n      <td>2012-04-17</td>\n    </tr>\n    <tr>\n      <th>1118860</th>\n      <td>My poorly timed opening position for AAPL earn...</td>\n      <td>12</td>\n      <td>21</td>\n      <td>2012-04-17</td>\n    </tr>\n    <tr>\n      <th>1118861</th>\n      <td>GOOG - beat estimates, price barely rises.</td>\n      <td>2</td>\n      <td>0</td>\n      <td>2012-04-12</td>\n    </tr>\n    <tr>\n      <th>1118862</th>\n      <td>Earnings season is here.  Place your bets.</td>\n      <td>13</td>\n      <td>22</td>\n      <td>2012-04-11</td>\n    </tr>\n  </tbody>\n</table>\n<p>1118863 rows × 4 columns</p>\n</div>"
     },
     "metadata": {},
     "output_type": "display_data"
    }
   ],
   "source": [
    "\n",
    "df = pd.read_csv('../data/r_wallstreetbets_posts.csv', dtype={'id': 'str', 'title': 'str', 'score': 'int', 'author': 'str','author_flair_text': 'str','removed_by': 'str', 'total_awards_received': 'str','awarders': 'str','created_utc': 'int', 'full_link': 'str', 'num_comments': 'int', 'over_18': 'bool'})\n",
    "# convert utc time to datetime\n",
    "df['created_utc'] = pd.to_datetime(df['created_utc'], unit='s')\n",
    "df['timestamp'] = df['created_utc'].astype('datetime64[ns]').dt.floor('H')\n",
    "\n",
    "# Market open 14:30 - 21:00 UTC\n",
    "def checkTime(x):\n",
    "    # If weekday is 4 (friday) and hour is past or equal to 21:00, return Monday's date (+3 days)\n",
    "    if (x.weekday() == 4) & (x.hour >= 21):\n",
    "        return x + datetime.timedelta(days=3)\n",
    "    # If weekday is 5 (Saturday), return Monday's date (+\n",
    "    elif x.weekday() == 5:\n",
    "        return x + datetime.timedelta(days=2)\n",
    "    # If weekday is 6 (Sunday), return Monday's date (+1 day)\n",
    "    elif x.weekday() == 6:\n",
    "        return x + datetime.timedelta(days=1)\n",
    "    # if hour is past 21:00, return tomorrow's date\n",
    "    elif (x.hour >= 21):\n",
    "        return x + datetime.timedelta(days=1)\n",
    "    # if between 14:30 and 21:00, and day is M,T,W,T,F return date of today\n",
    "    else:\n",
    "        return x\n",
    "\n",
    "df['timestamp'] = df['timestamp'].apply(lambda x: checkTime(x))\n",
    "\n",
    "df['timestamp'] = df['timestamp'].astype('datetime64[ns]').dt.floor('D')\n",
    "\n",
    "df.drop('author', inplace=True, axis=1)\n",
    "df.drop('created_utc', inplace=True, axis=1)\n",
    "df.drop('id', inplace=True, axis=1)\n",
    "df.drop('author_flair_text', inplace=True, axis=1)\n",
    "df.drop('removed_by', inplace=True, axis=1)\n",
    "df.drop('awarders', inplace=True, axis=1)\n",
    "df.drop('full_link', inplace=True, axis=1)\n",
    "df.drop('over_18', inplace=True, axis=1)\n",
    "df.drop('total_awards_received', inplace=True, axis=1)\n",
    "\n",
    "df['title'] = df['title'].apply(lambda x: str(x))\n",
    "\n",
    "display(df)\n"
   ],
   "metadata": {
    "collapsed": false
   }
  },
  {
   "cell_type": "code",
   "execution_count": 94,
   "outputs": [
    {
     "data": {
      "text/plain": "                                                        title      score  \\\ntimestamp                                                                  \n2012-04-11       [Earnings season is here.  Place your bets.]  13.000000   \n2012-04-12       [GOOG - beat estimates, price barely rises.]   2.000000   \n2012-04-16  [Anyone betting on VVUS and their potential ap...   1.000000   \n2012-04-17  [My poorly timed opening position for AAPL ear...  12.000000   \n2012-04-18  [EBAY posts higher 1Q net income and revenue, ...   7.000000   \n...                                                       ...        ...   \n2021-02-12  [$OCGN Ready for Take Off, Anyone else still h...   1.000281   \n2021-02-13  [AMC and GME should merge., When people say Po...   1.000828   \n2021-02-14  [Hello fellow retards, is anyone else unable t...   1.000318   \n2021-02-15  [Whats going on with PLTR?, Need explanations ...   1.284028   \n2021-02-16  [$EAT next up!, BNGO BNGO, Can y’all bad mamaj...   1.000000   \n\n            num_comments  \ntimestamp                 \n2012-04-11     22.000000  \n2012-04-12      0.000000  \n2012-04-16      0.000000  \n2012-04-17     21.000000  \n2012-04-18      4.000000  \n...                  ...  \n2021-02-12     13.948523  \n2021-02-13     28.408389  \n2021-02-14     10.579466  \n2021-02-15      9.929546  \n2021-02-16     55.344538  \n\n[3054 rows x 3 columns]",
      "text/html": "<div>\n<style scoped>\n    .dataframe tbody tr th:only-of-type {\n        vertical-align: middle;\n    }\n\n    .dataframe tbody tr th {\n        vertical-align: top;\n    }\n\n    .dataframe thead th {\n        text-align: right;\n    }\n</style>\n<table border=\"1\" class=\"dataframe\">\n  <thead>\n    <tr style=\"text-align: right;\">\n      <th></th>\n      <th>title</th>\n      <th>score</th>\n      <th>num_comments</th>\n    </tr>\n    <tr>\n      <th>timestamp</th>\n      <th></th>\n      <th></th>\n      <th></th>\n    </tr>\n  </thead>\n  <tbody>\n    <tr>\n      <th>2012-04-11</th>\n      <td>[Earnings season is here.  Place your bets.]</td>\n      <td>13.000000</td>\n      <td>22.000000</td>\n    </tr>\n    <tr>\n      <th>2012-04-12</th>\n      <td>[GOOG - beat estimates, price barely rises.]</td>\n      <td>2.000000</td>\n      <td>0.000000</td>\n    </tr>\n    <tr>\n      <th>2012-04-16</th>\n      <td>[Anyone betting on VVUS and their potential ap...</td>\n      <td>1.000000</td>\n      <td>0.000000</td>\n    </tr>\n    <tr>\n      <th>2012-04-17</th>\n      <td>[My poorly timed opening position for AAPL ear...</td>\n      <td>12.000000</td>\n      <td>21.000000</td>\n    </tr>\n    <tr>\n      <th>2012-04-18</th>\n      <td>[EBAY posts higher 1Q net income and revenue, ...</td>\n      <td>7.000000</td>\n      <td>4.000000</td>\n    </tr>\n    <tr>\n      <th>...</th>\n      <td>...</td>\n      <td>...</td>\n      <td>...</td>\n    </tr>\n    <tr>\n      <th>2021-02-12</th>\n      <td>[$OCGN Ready for Take Off, Anyone else still h...</td>\n      <td>1.000281</td>\n      <td>13.948523</td>\n    </tr>\n    <tr>\n      <th>2021-02-13</th>\n      <td>[AMC and GME should merge., When people say Po...</td>\n      <td>1.000828</td>\n      <td>28.408389</td>\n    </tr>\n    <tr>\n      <th>2021-02-14</th>\n      <td>[Hello fellow retards, is anyone else unable t...</td>\n      <td>1.000318</td>\n      <td>10.579466</td>\n    </tr>\n    <tr>\n      <th>2021-02-15</th>\n      <td>[Whats going on with PLTR?, Need explanations ...</td>\n      <td>1.284028</td>\n      <td>9.929546</td>\n    </tr>\n    <tr>\n      <th>2021-02-16</th>\n      <td>[$EAT next up!, BNGO BNGO, Can y’all bad mamaj...</td>\n      <td>1.000000</td>\n      <td>55.344538</td>\n    </tr>\n  </tbody>\n</table>\n<p>3054 rows × 3 columns</p>\n</div>"
     },
     "metadata": {},
     "output_type": "display_data"
    },
    {
     "data": {
      "text/plain": "                                                        title      score  \\\ntimestamp                                                                  \n2012-04-11         Earnings season is here.  Place your bets.  13.000000   \n2012-04-12         GOOG - beat estimates, price barely rises.   2.000000   \n2012-04-16  Anyone betting on VVUS and their potential app...   1.000000   \n2012-04-17  My poorly timed opening position for AAPL earn...  12.000000   \n2012-04-18  EBAY posts higher 1Q net income and revenue, s...   7.000000   \n...                                                       ...        ...   \n2021-02-12  $OCGN Ready for Take Off||Anyone else still ho...   1.000281   \n2021-02-13  AMC and GME should merge.||When people say Pol...   1.000828   \n2021-02-14  Hello fellow retards, is anyone else unable to...   1.000318   \n2021-02-15  Whats going on with PLTR?||Need explanations o...   1.284028   \n2021-02-16  $EAT next up!||BNGO BNGO||Can y’all bad mamaja...   1.000000   \n\n            num_comments  \ntimestamp                 \n2012-04-11     22.000000  \n2012-04-12      0.000000  \n2012-04-16      0.000000  \n2012-04-17     21.000000  \n2012-04-18      4.000000  \n...                  ...  \n2021-02-12     13.948523  \n2021-02-13     28.408389  \n2021-02-14     10.579466  \n2021-02-15      9.929546  \n2021-02-16     55.344538  \n\n[3054 rows x 3 columns]",
      "text/html": "<div>\n<style scoped>\n    .dataframe tbody tr th:only-of-type {\n        vertical-align: middle;\n    }\n\n    .dataframe tbody tr th {\n        vertical-align: top;\n    }\n\n    .dataframe thead th {\n        text-align: right;\n    }\n</style>\n<table border=\"1\" class=\"dataframe\">\n  <thead>\n    <tr style=\"text-align: right;\">\n      <th></th>\n      <th>title</th>\n      <th>score</th>\n      <th>num_comments</th>\n    </tr>\n    <tr>\n      <th>timestamp</th>\n      <th></th>\n      <th></th>\n      <th></th>\n    </tr>\n  </thead>\n  <tbody>\n    <tr>\n      <th>2012-04-11</th>\n      <td>Earnings season is here.  Place your bets.</td>\n      <td>13.000000</td>\n      <td>22.000000</td>\n    </tr>\n    <tr>\n      <th>2012-04-12</th>\n      <td>GOOG - beat estimates, price barely rises.</td>\n      <td>2.000000</td>\n      <td>0.000000</td>\n    </tr>\n    <tr>\n      <th>2012-04-16</th>\n      <td>Anyone betting on VVUS and their potential app...</td>\n      <td>1.000000</td>\n      <td>0.000000</td>\n    </tr>\n    <tr>\n      <th>2012-04-17</th>\n      <td>My poorly timed opening position for AAPL earn...</td>\n      <td>12.000000</td>\n      <td>21.000000</td>\n    </tr>\n    <tr>\n      <th>2012-04-18</th>\n      <td>EBAY posts higher 1Q net income and revenue, s...</td>\n      <td>7.000000</td>\n      <td>4.000000</td>\n    </tr>\n    <tr>\n      <th>...</th>\n      <td>...</td>\n      <td>...</td>\n      <td>...</td>\n    </tr>\n    <tr>\n      <th>2021-02-12</th>\n      <td>$OCGN Ready for Take Off||Anyone else still ho...</td>\n      <td>1.000281</td>\n      <td>13.948523</td>\n    </tr>\n    <tr>\n      <th>2021-02-13</th>\n      <td>AMC and GME should merge.||When people say Pol...</td>\n      <td>1.000828</td>\n      <td>28.408389</td>\n    </tr>\n    <tr>\n      <th>2021-02-14</th>\n      <td>Hello fellow retards, is anyone else unable to...</td>\n      <td>1.000318</td>\n      <td>10.579466</td>\n    </tr>\n    <tr>\n      <th>2021-02-15</th>\n      <td>Whats going on with PLTR?||Need explanations o...</td>\n      <td>1.284028</td>\n      <td>9.929546</td>\n    </tr>\n    <tr>\n      <th>2021-02-16</th>\n      <td>$EAT next up!||BNGO BNGO||Can y’all bad mamaja...</td>\n      <td>1.000000</td>\n      <td>55.344538</td>\n    </tr>\n  </tbody>\n</table>\n<p>3054 rows × 3 columns</p>\n</div>"
     },
     "metadata": {},
     "output_type": "display_data"
    }
   ],
   "source": [
    "agg_func = {'title': list, 'score': 'mean', 'num_comments': 'mean'}\n",
    "\n",
    "# Replace NaN values with 'NaN'\n",
    "#df['total_awards_received'] = df['total_awards_received'].fillna(0)\n",
    "# Group by date and aggregate\n",
    "df_new = df.groupby(df['timestamp']).aggregate(agg_func)\n",
    "display(df_new)\n",
    "# Join lists of titles, ids, urls, and bodies into one string per date to perform sentiment analysis.\n",
    "\n",
    "df_new['title'] = df_new['title'].apply(lambda x: '||'.join(x))\n",
    "\n",
    "\n",
    "display(df_new)"
   ],
   "metadata": {
    "collapsed": false
   }
  },
  {
   "cell_type": "code",
   "execution_count": 8,
   "outputs": [
    {
     "name": "stdout",
     "output_type": "stream",
     "text": [
      "title           1015951\n",
      "score              3385\n",
      "num_comments       2913\n",
      "timestamp          2237\n",
      "dtype: int64\n"
     ]
    },
    {
     "data": {
      "text/plain": "                                                     title  score  \\\n0                                Whats going on with PLTR?      1   \n1        Need explanations on Level 2 data for GME, why...      1   \n2             XRT is being used as a laundry short machine      1   \n3                                                Airlines?      1   \n4                                               Buy TRXC 🚀      1   \n...                                                    ...    ...   \n1118858  EBAY posts higher 1Q net income and revenue, s...      7   \n1118859  Anyone betting on VVUS and their potential app...      1   \n1118860  My poorly timed opening position for AAPL earn...     12   \n1118861         GOOG - beat estimates, price barely rises.      2   \n1118862         Earnings season is here.  Place your bets.     13   \n\n         num_comments  timestamp  \n0                   2 2021-02-16  \n1                   2 2021-02-16  \n2                   2 2021-02-16  \n3                   2 2021-02-16  \n4                   2 2021-02-16  \n...               ...        ...  \n1118858             4 2012-04-19  \n1118859             0 2012-04-17  \n1118860            21 2012-04-17  \n1118861             0 2012-04-12  \n1118862            22 2012-04-11  \n\n[1118863 rows x 4 columns]",
      "text/html": "<div>\n<style scoped>\n    .dataframe tbody tr th:only-of-type {\n        vertical-align: middle;\n    }\n\n    .dataframe tbody tr th {\n        vertical-align: top;\n    }\n\n    .dataframe thead th {\n        text-align: right;\n    }\n</style>\n<table border=\"1\" class=\"dataframe\">\n  <thead>\n    <tr style=\"text-align: right;\">\n      <th></th>\n      <th>title</th>\n      <th>score</th>\n      <th>num_comments</th>\n      <th>timestamp</th>\n    </tr>\n  </thead>\n  <tbody>\n    <tr>\n      <th>0</th>\n      <td>Whats going on with PLTR?</td>\n      <td>1</td>\n      <td>2</td>\n      <td>2021-02-16</td>\n    </tr>\n    <tr>\n      <th>1</th>\n      <td>Need explanations on Level 2 data for GME, why...</td>\n      <td>1</td>\n      <td>2</td>\n      <td>2021-02-16</td>\n    </tr>\n    <tr>\n      <th>2</th>\n      <td>XRT is being used as a laundry short machine</td>\n      <td>1</td>\n      <td>2</td>\n      <td>2021-02-16</td>\n    </tr>\n    <tr>\n      <th>3</th>\n      <td>Airlines?</td>\n      <td>1</td>\n      <td>2</td>\n      <td>2021-02-16</td>\n    </tr>\n    <tr>\n      <th>4</th>\n      <td>Buy TRXC 🚀</td>\n      <td>1</td>\n      <td>2</td>\n      <td>2021-02-16</td>\n    </tr>\n    <tr>\n      <th>...</th>\n      <td>...</td>\n      <td>...</td>\n      <td>...</td>\n      <td>...</td>\n    </tr>\n    <tr>\n      <th>1118858</th>\n      <td>EBAY posts higher 1Q net income and revenue, s...</td>\n      <td>7</td>\n      <td>4</td>\n      <td>2012-04-19</td>\n    </tr>\n    <tr>\n      <th>1118859</th>\n      <td>Anyone betting on VVUS and their potential app...</td>\n      <td>1</td>\n      <td>0</td>\n      <td>2012-04-17</td>\n    </tr>\n    <tr>\n      <th>1118860</th>\n      <td>My poorly timed opening position for AAPL earn...</td>\n      <td>12</td>\n      <td>21</td>\n      <td>2012-04-17</td>\n    </tr>\n    <tr>\n      <th>1118861</th>\n      <td>GOOG - beat estimates, price barely rises.</td>\n      <td>2</td>\n      <td>0</td>\n      <td>2012-04-12</td>\n    </tr>\n    <tr>\n      <th>1118862</th>\n      <td>Earnings season is here.  Place your bets.</td>\n      <td>13</td>\n      <td>22</td>\n      <td>2012-04-11</td>\n    </tr>\n  </tbody>\n</table>\n<p>1118863 rows × 4 columns</p>\n</div>"
     },
     "metadata": {},
     "output_type": "display_data"
    }
   ],
   "source": [
    "dataPlug.df = df\n",
    "\n",
    "print(dataPlug.df.nunique())\n",
    "\n",
    "display(dataPlug.df)"
   ],
   "metadata": {
    "collapsed": false
   }
  },
  {
   "cell_type": "code",
   "execution_count": 96,
   "outputs": [
    {
     "data": {
      "text/plain": "      timestamp       Open       High      Low    Close  Adj Close     Volume\n0    2012-04-11   5.330000   5.380000   5.2350   5.3175   3.603972   19562000\n1    2012-04-12   5.325000   5.427500   5.3125   5.3900   3.653110    8414800\n2    2012-04-13   5.375000   5.375000   5.2800   5.3075   3.597196    8956000\n3    2012-04-16   5.325000   5.452500   5.2425   5.4250   3.676833   13710000\n4    2012-04-17   5.455000   5.550000   5.4500   5.5375   3.753081   16022400\n...         ...        ...        ...      ...      ...        ...        ...\n2221 2021-02-08  18.102501  18.165001  14.5050  15.0000  15.000000  102749200\n2222 2021-02-09  14.152500  14.250000  11.6300  12.5775  12.577500  107372400\n2223 2021-02-10  12.692500  15.707500  11.6375  12.8000  12.800000  145820000\n2224 2021-02-11  12.502500  13.830000  12.0550  12.7750  12.775000   52226800\n2225 2021-02-12  12.687500  13.810000  12.0125  13.1000  13.100000   58293200\n\n[2226 rows x 7 columns]",
      "text/html": "<div>\n<style scoped>\n    .dataframe tbody tr th:only-of-type {\n        vertical-align: middle;\n    }\n\n    .dataframe tbody tr th {\n        vertical-align: top;\n    }\n\n    .dataframe thead th {\n        text-align: right;\n    }\n</style>\n<table border=\"1\" class=\"dataframe\">\n  <thead>\n    <tr style=\"text-align: right;\">\n      <th></th>\n      <th>timestamp</th>\n      <th>Open</th>\n      <th>High</th>\n      <th>Low</th>\n      <th>Close</th>\n      <th>Adj Close</th>\n      <th>Volume</th>\n    </tr>\n  </thead>\n  <tbody>\n    <tr>\n      <th>0</th>\n      <td>2012-04-11</td>\n      <td>5.330000</td>\n      <td>5.380000</td>\n      <td>5.2350</td>\n      <td>5.3175</td>\n      <td>3.603972</td>\n      <td>19562000</td>\n    </tr>\n    <tr>\n      <th>1</th>\n      <td>2012-04-12</td>\n      <td>5.325000</td>\n      <td>5.427500</td>\n      <td>5.3125</td>\n      <td>5.3900</td>\n      <td>3.653110</td>\n      <td>8414800</td>\n    </tr>\n    <tr>\n      <th>2</th>\n      <td>2012-04-13</td>\n      <td>5.375000</td>\n      <td>5.375000</td>\n      <td>5.2800</td>\n      <td>5.3075</td>\n      <td>3.597196</td>\n      <td>8956000</td>\n    </tr>\n    <tr>\n      <th>3</th>\n      <td>2012-04-16</td>\n      <td>5.325000</td>\n      <td>5.452500</td>\n      <td>5.2425</td>\n      <td>5.4250</td>\n      <td>3.676833</td>\n      <td>13710000</td>\n    </tr>\n    <tr>\n      <th>4</th>\n      <td>2012-04-17</td>\n      <td>5.455000</td>\n      <td>5.550000</td>\n      <td>5.4500</td>\n      <td>5.5375</td>\n      <td>3.753081</td>\n      <td>16022400</td>\n    </tr>\n    <tr>\n      <th>...</th>\n      <td>...</td>\n      <td>...</td>\n      <td>...</td>\n      <td>...</td>\n      <td>...</td>\n      <td>...</td>\n      <td>...</td>\n    </tr>\n    <tr>\n      <th>2221</th>\n      <td>2021-02-08</td>\n      <td>18.102501</td>\n      <td>18.165001</td>\n      <td>14.5050</td>\n      <td>15.0000</td>\n      <td>15.000000</td>\n      <td>102749200</td>\n    </tr>\n    <tr>\n      <th>2222</th>\n      <td>2021-02-09</td>\n      <td>14.152500</td>\n      <td>14.250000</td>\n      <td>11.6300</td>\n      <td>12.5775</td>\n      <td>12.577500</td>\n      <td>107372400</td>\n    </tr>\n    <tr>\n      <th>2223</th>\n      <td>2021-02-10</td>\n      <td>12.692500</td>\n      <td>15.707500</td>\n      <td>11.6375</td>\n      <td>12.8000</td>\n      <td>12.800000</td>\n      <td>145820000</td>\n    </tr>\n    <tr>\n      <th>2224</th>\n      <td>2021-02-11</td>\n      <td>12.502500</td>\n      <td>13.830000</td>\n      <td>12.0550</td>\n      <td>12.7750</td>\n      <td>12.775000</td>\n      <td>52226800</td>\n    </tr>\n    <tr>\n      <th>2225</th>\n      <td>2021-02-12</td>\n      <td>12.687500</td>\n      <td>13.810000</td>\n      <td>12.0125</td>\n      <td>13.1000</td>\n      <td>13.100000</td>\n      <td>58293200</td>\n    </tr>\n  </tbody>\n</table>\n<p>2226 rows × 7 columns</p>\n</div>"
     },
     "execution_count": 96,
     "metadata": {},
     "output_type": "execute_result"
    }
   ],
   "source": [
    "dataPlug.get_price_dataframe()"
   ],
   "metadata": {
    "collapsed": false
   }
  },
  {
   "cell_type": "code",
   "execution_count": null,
   "outputs": [],
   "source": [],
   "metadata": {
    "collapsed": false
   }
  },
  {
   "cell_type": "code",
   "execution_count": null,
   "outputs": [],
   "source": [
    "# Merge the dataframes\n",
    "dataPlug.merge_dataframes()\n",
    "\n",
    "\n",
    "display(dataPlug.mergedDF)"
   ],
   "metadata": {
    "collapsed": false
   }
  },
  {
   "cell_type": "code",
   "execution_count": null,
   "outputs": [],
   "source": [
    "dataPlug.df"
   ],
   "metadata": {
    "collapsed": false
   }
  },
  {
   "cell_type": "code",
   "execution_count": 9,
   "outputs": [
    {
     "name": "stderr",
     "output_type": "stream",
     "text": [
      "100%|██████████| 1118863/1118863 [06:51<00:00, 2716.26it/s]"
     ]
    },
    {
     "name": "stdout",
     "output_type": "stream",
     "text": [
      "Sentiment analysis took 411.9283 seconds total\n"
     ]
    },
    {
     "name": "stderr",
     "output_type": "stream",
     "text": [
      "\n"
     ]
    }
   ],
   "source": [
    "positive = []\n",
    "negative = []\n",
    "neutral = []\n",
    "compound = []\n",
    "\n",
    "\n",
    "\n",
    "begin = time.time() # timer for entire process\n",
    "\n",
    "\n",
    "for i in tqdm(range(0, len(dataPlug.df['title']))):\n",
    "    start = time.time() # timer for each iteration\n",
    "\n",
    "\n",
    "    text = dataPlug.df['title'][i]\n",
    "    clean_text = squeeze.clean_text(text)\n",
    "\n",
    "\n",
    "    score = squeeze.sentiment_analysis(clean_text)\n",
    "    # Add scores to array\n",
    "    positive.append(score['pos'])\n",
    "    negative.append(score['neg'])\n",
    "    neutral.append(score['neu'])\n",
    "    compound.append(score['compound'])\n",
    "\n",
    "\n",
    "\n",
    "\n",
    "    #print(f\"Completed {i} of {len(dataPlug.df['title'])} posts | {end - start:0.4f} seconds | {end - begin:0.4f} seconds total\")\n",
    "\n",
    "end = time.time() # end timer for each iteration\n",
    "print(f\"Sentiment analysis took {end - begin:0.4f} seconds total\")\n",
    "\n"
   ],
   "metadata": {
    "collapsed": false
   }
  },
  {
   "cell_type": "code",
   "execution_count": 10,
   "outputs": [
    {
     "name": "stdout",
     "output_type": "stream",
     "text": [
      "Done!\n"
     ]
    },
    {
     "data": {
      "text/plain": "                                                     title  \\\n0                                Whats going on with PLTR?   \n1        Need explanations on Level 2 data for GME, why...   \n2             XRT is being used as a laundry short machine   \n3                                                Airlines?   \n4                                               Buy TRXC 🚀   \n...                                                    ...   \n1118858  EBAY posts higher 1Q net income and revenue, s...   \n1118859  Anyone betting on VVUS and their potential app...   \n1118860  My poorly timed opening position for AAPL earn...   \n1118861         GOOG - beat estimates, price barely rises.   \n1118862         Earnings season is here.  Place your bets.   \n\n         Positive_Sentiment  Neutral_Sentiment  Negative_Sentiment  \\\n0                     0.000              1.000                 0.0   \n1                     0.000              1.000                 0.0   \n2                     0.000              1.000                 0.0   \n3                     0.000              1.000                 0.0   \n4                     0.000              1.000                 0.0   \n...                     ...                ...                 ...   \n1118858               0.000              1.000                 0.0   \n1118859               0.205              0.795                 0.0   \n1118860               0.000              1.000                 0.0   \n1118861               0.000              1.000                 0.0   \n1118862               0.000              1.000                 0.0   \n\n         Compound_Sentiment  score  num_comments  timestamp  \n0                    0.0000      1             2 2021-02-16  \n1                    0.0000      1             2 2021-02-16  \n2                    0.0000      1             2 2021-02-16  \n3                    0.0000      1             2 2021-02-16  \n4                    0.0000      1             2 2021-02-16  \n...                     ...    ...           ...        ...  \n1118858              0.0000      7             4 2012-04-19  \n1118859              0.4767      1             0 2012-04-17  \n1118860              0.0000     12            21 2012-04-17  \n1118861              0.0000      2             0 2012-04-12  \n1118862              0.0000     13            22 2012-04-11  \n\n[1118863 rows x 8 columns]",
      "text/html": "<div>\n<style scoped>\n    .dataframe tbody tr th:only-of-type {\n        vertical-align: middle;\n    }\n\n    .dataframe tbody tr th {\n        vertical-align: top;\n    }\n\n    .dataframe thead th {\n        text-align: right;\n    }\n</style>\n<table border=\"1\" class=\"dataframe\">\n  <thead>\n    <tr style=\"text-align: right;\">\n      <th></th>\n      <th>title</th>\n      <th>Positive_Sentiment</th>\n      <th>Neutral_Sentiment</th>\n      <th>Negative_Sentiment</th>\n      <th>Compound_Sentiment</th>\n      <th>score</th>\n      <th>num_comments</th>\n      <th>timestamp</th>\n    </tr>\n  </thead>\n  <tbody>\n    <tr>\n      <th>0</th>\n      <td>Whats going on with PLTR?</td>\n      <td>0.000</td>\n      <td>1.000</td>\n      <td>0.0</td>\n      <td>0.0000</td>\n      <td>1</td>\n      <td>2</td>\n      <td>2021-02-16</td>\n    </tr>\n    <tr>\n      <th>1</th>\n      <td>Need explanations on Level 2 data for GME, why...</td>\n      <td>0.000</td>\n      <td>1.000</td>\n      <td>0.0</td>\n      <td>0.0000</td>\n      <td>1</td>\n      <td>2</td>\n      <td>2021-02-16</td>\n    </tr>\n    <tr>\n      <th>2</th>\n      <td>XRT is being used as a laundry short machine</td>\n      <td>0.000</td>\n      <td>1.000</td>\n      <td>0.0</td>\n      <td>0.0000</td>\n      <td>1</td>\n      <td>2</td>\n      <td>2021-02-16</td>\n    </tr>\n    <tr>\n      <th>3</th>\n      <td>Airlines?</td>\n      <td>0.000</td>\n      <td>1.000</td>\n      <td>0.0</td>\n      <td>0.0000</td>\n      <td>1</td>\n      <td>2</td>\n      <td>2021-02-16</td>\n    </tr>\n    <tr>\n      <th>4</th>\n      <td>Buy TRXC 🚀</td>\n      <td>0.000</td>\n      <td>1.000</td>\n      <td>0.0</td>\n      <td>0.0000</td>\n      <td>1</td>\n      <td>2</td>\n      <td>2021-02-16</td>\n    </tr>\n    <tr>\n      <th>...</th>\n      <td>...</td>\n      <td>...</td>\n      <td>...</td>\n      <td>...</td>\n      <td>...</td>\n      <td>...</td>\n      <td>...</td>\n      <td>...</td>\n    </tr>\n    <tr>\n      <th>1118858</th>\n      <td>EBAY posts higher 1Q net income and revenue, s...</td>\n      <td>0.000</td>\n      <td>1.000</td>\n      <td>0.0</td>\n      <td>0.0000</td>\n      <td>7</td>\n      <td>4</td>\n      <td>2012-04-19</td>\n    </tr>\n    <tr>\n      <th>1118859</th>\n      <td>Anyone betting on VVUS and their potential app...</td>\n      <td>0.205</td>\n      <td>0.795</td>\n      <td>0.0</td>\n      <td>0.4767</td>\n      <td>1</td>\n      <td>0</td>\n      <td>2012-04-17</td>\n    </tr>\n    <tr>\n      <th>1118860</th>\n      <td>My poorly timed opening position for AAPL earn...</td>\n      <td>0.000</td>\n      <td>1.000</td>\n      <td>0.0</td>\n      <td>0.0000</td>\n      <td>12</td>\n      <td>21</td>\n      <td>2012-04-17</td>\n    </tr>\n    <tr>\n      <th>1118861</th>\n      <td>GOOG - beat estimates, price barely rises.</td>\n      <td>0.000</td>\n      <td>1.000</td>\n      <td>0.0</td>\n      <td>0.0000</td>\n      <td>2</td>\n      <td>0</td>\n      <td>2012-04-12</td>\n    </tr>\n    <tr>\n      <th>1118862</th>\n      <td>Earnings season is here.  Place your bets.</td>\n      <td>0.000</td>\n      <td>1.000</td>\n      <td>0.0</td>\n      <td>0.0000</td>\n      <td>13</td>\n      <td>22</td>\n      <td>2012-04-11</td>\n    </tr>\n  </tbody>\n</table>\n<p>1118863 rows × 8 columns</p>\n</div>"
     },
     "metadata": {},
     "output_type": "display_data"
    },
    {
     "name": "stdout",
     "output_type": "stream",
     "text": [
      "saved to ../data/all_posts_with_sentiment.csv\n"
     ]
    }
   ],
   "source": [
    "# Using DataFrame.insert() to add the sentiment columns to the dataframe\n",
    "dataPlug.df.insert(1, \"Compound_Sentiment\", compound, True)\n",
    "dataPlug.df.insert(1, \"Negative_Sentiment\", negative, True)\n",
    "dataPlug.df.insert(1, \"Neutral_Sentiment\", neutral, True)\n",
    "dataPlug.df.insert(1, \"Positive_Sentiment\", positive, True)\n",
    "print('Done!')\n",
    "\n",
    "display(dataPlug.df)\n",
    "dataPlug.df.to_csv('../data/all_posts_with_sentiment.csv')\n",
    "print(f'saved to ../data/all_posts_with_sentiment.csv')"
   ],
   "metadata": {
    "collapsed": false
   }
  },
  {
   "cell_type": "code",
   "execution_count": 11,
   "outputs": [
    {
     "data": {
      "text/plain": "                                                     title  \\\n0                                Whats going on with PLTR?   \n1        Need explanations on Level 2 data for GME, why...   \n2             XRT is being used as a laundry short machine   \n3                                                Airlines?   \n4                                               Buy TRXC 🚀   \n...                                                    ...   \n1118858  EBAY posts higher 1Q net income and revenue, s...   \n1118859  Anyone betting on VVUS and their potential app...   \n1118860  My poorly timed opening position for AAPL earn...   \n1118861         GOOG - beat estimates, price barely rises.   \n1118862         Earnings season is here.  Place your bets.   \n\n         Positive_Sentiment  Neutral_Sentiment  Negative_Sentiment  \\\n0                     0.000              1.000                 0.0   \n1                     0.000              1.000                 0.0   \n2                     0.000              1.000                 0.0   \n3                     0.000              1.000                 0.0   \n4                     0.000              1.000                 0.0   \n...                     ...                ...                 ...   \n1118858               0.000              1.000                 0.0   \n1118859               0.205              0.795                 0.0   \n1118860               0.000              1.000                 0.0   \n1118861               0.000              1.000                 0.0   \n1118862               0.000              1.000                 0.0   \n\n         Compound_Sentiment  score  num_comments  timestamp  \n0                    0.0000      1             2 2021-02-16  \n1                    0.0000      1             2 2021-02-16  \n2                    0.0000      1             2 2021-02-16  \n3                    0.0000      1             2 2021-02-16  \n4                    0.0000      1             2 2021-02-16  \n...                     ...    ...           ...        ...  \n1118858              0.0000      7             4 2012-04-19  \n1118859              0.4767      1             0 2012-04-17  \n1118860              0.0000     12            21 2012-04-17  \n1118861              0.0000      2             0 2012-04-12  \n1118862              0.0000     13            22 2012-04-11  \n\n[1118863 rows x 8 columns]",
      "text/html": "<div>\n<style scoped>\n    .dataframe tbody tr th:only-of-type {\n        vertical-align: middle;\n    }\n\n    .dataframe tbody tr th {\n        vertical-align: top;\n    }\n\n    .dataframe thead th {\n        text-align: right;\n    }\n</style>\n<table border=\"1\" class=\"dataframe\">\n  <thead>\n    <tr style=\"text-align: right;\">\n      <th></th>\n      <th>title</th>\n      <th>Positive_Sentiment</th>\n      <th>Neutral_Sentiment</th>\n      <th>Negative_Sentiment</th>\n      <th>Compound_Sentiment</th>\n      <th>score</th>\n      <th>num_comments</th>\n      <th>timestamp</th>\n    </tr>\n  </thead>\n  <tbody>\n    <tr>\n      <th>0</th>\n      <td>Whats going on with PLTR?</td>\n      <td>0.000</td>\n      <td>1.000</td>\n      <td>0.0</td>\n      <td>0.0000</td>\n      <td>1</td>\n      <td>2</td>\n      <td>2021-02-16</td>\n    </tr>\n    <tr>\n      <th>1</th>\n      <td>Need explanations on Level 2 data for GME, why...</td>\n      <td>0.000</td>\n      <td>1.000</td>\n      <td>0.0</td>\n      <td>0.0000</td>\n      <td>1</td>\n      <td>2</td>\n      <td>2021-02-16</td>\n    </tr>\n    <tr>\n      <th>2</th>\n      <td>XRT is being used as a laundry short machine</td>\n      <td>0.000</td>\n      <td>1.000</td>\n      <td>0.0</td>\n      <td>0.0000</td>\n      <td>1</td>\n      <td>2</td>\n      <td>2021-02-16</td>\n    </tr>\n    <tr>\n      <th>3</th>\n      <td>Airlines?</td>\n      <td>0.000</td>\n      <td>1.000</td>\n      <td>0.0</td>\n      <td>0.0000</td>\n      <td>1</td>\n      <td>2</td>\n      <td>2021-02-16</td>\n    </tr>\n    <tr>\n      <th>4</th>\n      <td>Buy TRXC 🚀</td>\n      <td>0.000</td>\n      <td>1.000</td>\n      <td>0.0</td>\n      <td>0.0000</td>\n      <td>1</td>\n      <td>2</td>\n      <td>2021-02-16</td>\n    </tr>\n    <tr>\n      <th>...</th>\n      <td>...</td>\n      <td>...</td>\n      <td>...</td>\n      <td>...</td>\n      <td>...</td>\n      <td>...</td>\n      <td>...</td>\n      <td>...</td>\n    </tr>\n    <tr>\n      <th>1118858</th>\n      <td>EBAY posts higher 1Q net income and revenue, s...</td>\n      <td>0.000</td>\n      <td>1.000</td>\n      <td>0.0</td>\n      <td>0.0000</td>\n      <td>7</td>\n      <td>4</td>\n      <td>2012-04-19</td>\n    </tr>\n    <tr>\n      <th>1118859</th>\n      <td>Anyone betting on VVUS and their potential app...</td>\n      <td>0.205</td>\n      <td>0.795</td>\n      <td>0.0</td>\n      <td>0.4767</td>\n      <td>1</td>\n      <td>0</td>\n      <td>2012-04-17</td>\n    </tr>\n    <tr>\n      <th>1118860</th>\n      <td>My poorly timed opening position for AAPL earn...</td>\n      <td>0.000</td>\n      <td>1.000</td>\n      <td>0.0</td>\n      <td>0.0000</td>\n      <td>12</td>\n      <td>21</td>\n      <td>2012-04-17</td>\n    </tr>\n    <tr>\n      <th>1118861</th>\n      <td>GOOG - beat estimates, price barely rises.</td>\n      <td>0.000</td>\n      <td>1.000</td>\n      <td>0.0</td>\n      <td>0.0000</td>\n      <td>2</td>\n      <td>0</td>\n      <td>2012-04-12</td>\n    </tr>\n    <tr>\n      <th>1118862</th>\n      <td>Earnings season is here.  Place your bets.</td>\n      <td>0.000</td>\n      <td>1.000</td>\n      <td>0.0</td>\n      <td>0.0000</td>\n      <td>13</td>\n      <td>22</td>\n      <td>2012-04-11</td>\n    </tr>\n  </tbody>\n</table>\n<p>1118863 rows × 8 columns</p>\n</div>"
     },
     "metadata": {},
     "output_type": "display_data"
    }
   ],
   "source": [
    "df = pd.read_csv('../data/all_posts_with_sentiment.csv')\n",
    "df.drop('Unnamed: 0', inplace=True, axis=1)\n",
    "df['title'] = df['title'].apply(lambda x: str(x))\n",
    "df['timestamp'] = df['timestamp'].astype('datetime64[ns]')\n",
    "display(df)\n",
    "\n"
   ],
   "metadata": {
    "collapsed": false
   }
  },
  {
   "cell_type": "code",
   "execution_count": 13,
   "outputs": [
    {
     "data": {
      "text/plain": "                                                        title      score  \\\ntimestamp                                                                  \n2012-04-11         Earnings season is here.  Place your bets.  13.000000   \n2012-04-12         GOOG - beat estimates, price barely rises.   2.000000   \n2012-04-17  Anyone betting on VVUS and their potential app...   6.500000   \n2012-04-19  EBAY posts higher 1Q net income and revenue, s...   7.000000   \n2012-04-20  After HGSI spikes 97%, will share price drop a...   4.000000   \n...                                                       ...        ...   \n2021-02-10  Weed to the moon.||Halo Collective $HCANF||HMN...   6.080738   \n2021-02-11  SNDL to the MOON 🚀🚀🚀🚀🚀🚀||DRAFT KING SHORTYS MU...   1.887141   \n2021-02-12  This only makes me want to buy MORE. Fuck the ...   1.002478   \n2021-02-15  SILVER AND PRECIOUS METALS MINING STOCKS ARE A...   1.003726   \n2021-02-16  Whats going on with PLTR?||Need explanations o...   1.432179   \n\n            num_comments  Positive_Sentiment  Negative_Sentiment  \\\ntimestamp                                                          \n2012-04-11     22.000000            0.000000            0.000000   \n2012-04-12      0.000000            0.000000            0.000000   \n2012-04-17     10.500000            0.102500            0.000000   \n2012-04-19      4.000000            0.000000            0.000000   \n2012-04-20      0.000000            0.165000            0.158000   \n...                  ...                 ...                 ...   \n2021-02-10     12.311236            0.150552            0.038095   \n2021-02-11     19.164354            0.147041            0.043510   \n2021-02-12     17.504364            0.132765            0.054883   \n2021-02-15     16.933894            0.135801            0.048314   \n2021-02-16     20.315326            0.132448            0.047748   \n\n            Neutral_Sentiment  Compound_Sentiment  \ntimestamp                                          \n2012-04-11           1.000000            0.000000  \n2012-04-12           1.000000            0.000000  \n2012-04-17           0.897500            0.238350  \n2012-04-19           1.000000            0.000000  \n2012-04-20           0.677000            0.025800  \n...                       ...                 ...  \n2021-02-10           0.808944            0.163170  \n2021-02-11           0.807590            0.145756  \n2021-02-12           0.809981            0.118106  \n2021-02-15           0.813401            0.125684  \n2021-02-16           0.815688            0.116658  \n\n[2237 rows x 7 columns]",
      "text/html": "<div>\n<style scoped>\n    .dataframe tbody tr th:only-of-type {\n        vertical-align: middle;\n    }\n\n    .dataframe tbody tr th {\n        vertical-align: top;\n    }\n\n    .dataframe thead th {\n        text-align: right;\n    }\n</style>\n<table border=\"1\" class=\"dataframe\">\n  <thead>\n    <tr style=\"text-align: right;\">\n      <th></th>\n      <th>title</th>\n      <th>score</th>\n      <th>num_comments</th>\n      <th>Positive_Sentiment</th>\n      <th>Negative_Sentiment</th>\n      <th>Neutral_Sentiment</th>\n      <th>Compound_Sentiment</th>\n    </tr>\n    <tr>\n      <th>timestamp</th>\n      <th></th>\n      <th></th>\n      <th></th>\n      <th></th>\n      <th></th>\n      <th></th>\n      <th></th>\n    </tr>\n  </thead>\n  <tbody>\n    <tr>\n      <th>2012-04-11</th>\n      <td>Earnings season is here.  Place your bets.</td>\n      <td>13.000000</td>\n      <td>22.000000</td>\n      <td>0.000000</td>\n      <td>0.000000</td>\n      <td>1.000000</td>\n      <td>0.000000</td>\n    </tr>\n    <tr>\n      <th>2012-04-12</th>\n      <td>GOOG - beat estimates, price barely rises.</td>\n      <td>2.000000</td>\n      <td>0.000000</td>\n      <td>0.000000</td>\n      <td>0.000000</td>\n      <td>1.000000</td>\n      <td>0.000000</td>\n    </tr>\n    <tr>\n      <th>2012-04-17</th>\n      <td>Anyone betting on VVUS and their potential app...</td>\n      <td>6.500000</td>\n      <td>10.500000</td>\n      <td>0.102500</td>\n      <td>0.000000</td>\n      <td>0.897500</td>\n      <td>0.238350</td>\n    </tr>\n    <tr>\n      <th>2012-04-19</th>\n      <td>EBAY posts higher 1Q net income and revenue, s...</td>\n      <td>7.000000</td>\n      <td>4.000000</td>\n      <td>0.000000</td>\n      <td>0.000000</td>\n      <td>1.000000</td>\n      <td>0.000000</td>\n    </tr>\n    <tr>\n      <th>2012-04-20</th>\n      <td>After HGSI spikes 97%, will share price drop a...</td>\n      <td>4.000000</td>\n      <td>0.000000</td>\n      <td>0.165000</td>\n      <td>0.158000</td>\n      <td>0.677000</td>\n      <td>0.025800</td>\n    </tr>\n    <tr>\n      <th>...</th>\n      <td>...</td>\n      <td>...</td>\n      <td>...</td>\n      <td>...</td>\n      <td>...</td>\n      <td>...</td>\n      <td>...</td>\n    </tr>\n    <tr>\n      <th>2021-02-10</th>\n      <td>Weed to the moon.||Halo Collective $HCANF||HMN...</td>\n      <td>6.080738</td>\n      <td>12.311236</td>\n      <td>0.150552</td>\n      <td>0.038095</td>\n      <td>0.808944</td>\n      <td>0.163170</td>\n    </tr>\n    <tr>\n      <th>2021-02-11</th>\n      <td>SNDL to the MOON 🚀🚀🚀🚀🚀🚀||DRAFT KING SHORTYS MU...</td>\n      <td>1.887141</td>\n      <td>19.164354</td>\n      <td>0.147041</td>\n      <td>0.043510</td>\n      <td>0.807590</td>\n      <td>0.145756</td>\n    </tr>\n    <tr>\n      <th>2021-02-12</th>\n      <td>This only makes me want to buy MORE. Fuck the ...</td>\n      <td>1.002478</td>\n      <td>17.504364</td>\n      <td>0.132765</td>\n      <td>0.054883</td>\n      <td>0.809981</td>\n      <td>0.118106</td>\n    </tr>\n    <tr>\n      <th>2021-02-15</th>\n      <td>SILVER AND PRECIOUS METALS MINING STOCKS ARE A...</td>\n      <td>1.003726</td>\n      <td>16.933894</td>\n      <td>0.135801</td>\n      <td>0.048314</td>\n      <td>0.813401</td>\n      <td>0.125684</td>\n    </tr>\n    <tr>\n      <th>2021-02-16</th>\n      <td>Whats going on with PLTR?||Need explanations o...</td>\n      <td>1.432179</td>\n      <td>20.315326</td>\n      <td>0.132448</td>\n      <td>0.047748</td>\n      <td>0.815688</td>\n      <td>0.116658</td>\n    </tr>\n  </tbody>\n</table>\n<p>2237 rows × 7 columns</p>\n</div>"
     },
     "metadata": {},
     "output_type": "display_data"
    }
   ],
   "source": [
    "agg_func = {'title': list, 'score': 'mean', 'num_comments': 'mean', 'Positive_Sentiment': 'mean', 'Negative_Sentiment': 'mean', 'Neutral_Sentiment': 'mean', 'Compound_Sentiment': 'mean'}\n",
    "\n",
    "# Replace NaN values with 'NaN'\n",
    "#df['total_awards_received'] = df['total_awards_received'].fillna(0)\n",
    "# Group by date and aggregate\n",
    "df_new = df.groupby(df['timestamp']).aggregate(agg_func)\n",
    "\n",
    "# Join lists of titles, ids, urls, and bodies into one string per date to perform sentiment analysis.\n",
    "\n",
    "df_new['title'] = df_new['title'].apply(lambda x: '||'.join(x))\n",
    "\n",
    "\n",
    "display(df_new)\n",
    "dataPlug.df = df_new"
   ],
   "metadata": {
    "collapsed": false
   }
  },
  {
   "cell_type": "code",
   "execution_count": 14,
   "outputs": [
    {
     "data": {
      "text/plain": "      timestamp       Open       High      Low    Close  Adj Close     Volume  \\\n0    2012-04-11   5.330000   5.380000   5.2350   5.3175   3.603972   19562000   \n1    2012-04-12   5.325000   5.427500   5.3125   5.3900   3.653110    8414800   \n2    2012-04-17   5.455000   5.550000   5.4500   5.5375   3.753081   16022400   \n3    2012-04-19   5.562500   5.635000   5.5325   5.5725   3.776802   14128400   \n4    2012-04-20   5.607500   5.677500   5.5525   5.5950   3.792051   12587200   \n...         ...        ...        ...      ...      ...        ...        ...   \n2155 2021-02-08  18.102501  18.165001  14.5050  15.0000  15.000000  102749200   \n2156 2021-02-09  14.152500  14.250000  11.6300  12.5775  12.577500  107372400   \n2157 2021-02-10  12.692500  15.707500  11.6375  12.8000  12.800000  145820000   \n2158 2021-02-11  12.502500  13.830000  12.0550  12.7750  12.775000   52226800   \n2159 2021-02-12  12.687500  13.810000  12.0125  13.1000  13.100000   58293200   \n\n                                                  title      score  \\\n0            Earnings season is here.  Place your bets.  13.000000   \n1            GOOG - beat estimates, price barely rises.   2.000000   \n2     Anyone betting on VVUS and their potential app...   6.500000   \n3     EBAY posts higher 1Q net income and revenue, s...   7.000000   \n4     After HGSI spikes 97%, will share price drop a...   4.000000   \n...                                                 ...        ...   \n2155  I have $200 bucks, where can I yolo||SNDL 🚀||$...   1.113846   \n2156  Cindicator Capital Wants to Hire r/WallStreetB...   1.000714   \n2157  Weed to the moon.||Halo Collective $HCANF||HMN...   6.080738   \n2158  SNDL to the MOON 🚀🚀🚀🚀🚀🚀||DRAFT KING SHORTYS MU...   1.887141   \n2159  This only makes me want to buy MORE. Fuck the ...   1.002478   \n\n      num_comments  Positive_Sentiment  Negative_Sentiment  Neutral_Sentiment  \\\n0        22.000000            0.000000            0.000000           1.000000   \n1         0.000000            0.000000            0.000000           1.000000   \n2        10.500000            0.102500            0.000000           0.897500   \n3         4.000000            0.000000            0.000000           1.000000   \n4         0.000000            0.165000            0.158000           0.677000   \n...            ...                 ...                 ...                ...   \n2155      4.526374            0.152009            0.044976           0.800815   \n2156     17.286530            0.141212            0.050631           0.807442   \n2157     12.311236            0.150552            0.038095           0.808944   \n2158     19.164354            0.147041            0.043510           0.807590   \n2159     17.504364            0.132765            0.054883           0.809981   \n\n      Compound_Sentiment  \n0               0.000000  \n1               0.000000  \n2               0.238350  \n3               0.000000  \n4               0.025800  \n...                  ...  \n2155            0.150271  \n2156            0.130000  \n2157            0.163170  \n2158            0.145756  \n2159            0.118106  \n\n[2160 rows x 14 columns]",
      "text/html": "<div>\n<style scoped>\n    .dataframe tbody tr th:only-of-type {\n        vertical-align: middle;\n    }\n\n    .dataframe tbody tr th {\n        vertical-align: top;\n    }\n\n    .dataframe thead th {\n        text-align: right;\n    }\n</style>\n<table border=\"1\" class=\"dataframe\">\n  <thead>\n    <tr style=\"text-align: right;\">\n      <th></th>\n      <th>timestamp</th>\n      <th>Open</th>\n      <th>High</th>\n      <th>Low</th>\n      <th>Close</th>\n      <th>Adj Close</th>\n      <th>Volume</th>\n      <th>title</th>\n      <th>score</th>\n      <th>num_comments</th>\n      <th>Positive_Sentiment</th>\n      <th>Negative_Sentiment</th>\n      <th>Neutral_Sentiment</th>\n      <th>Compound_Sentiment</th>\n    </tr>\n  </thead>\n  <tbody>\n    <tr>\n      <th>0</th>\n      <td>2012-04-11</td>\n      <td>5.330000</td>\n      <td>5.380000</td>\n      <td>5.2350</td>\n      <td>5.3175</td>\n      <td>3.603972</td>\n      <td>19562000</td>\n      <td>Earnings season is here.  Place your bets.</td>\n      <td>13.000000</td>\n      <td>22.000000</td>\n      <td>0.000000</td>\n      <td>0.000000</td>\n      <td>1.000000</td>\n      <td>0.000000</td>\n    </tr>\n    <tr>\n      <th>1</th>\n      <td>2012-04-12</td>\n      <td>5.325000</td>\n      <td>5.427500</td>\n      <td>5.3125</td>\n      <td>5.3900</td>\n      <td>3.653110</td>\n      <td>8414800</td>\n      <td>GOOG - beat estimates, price barely rises.</td>\n      <td>2.000000</td>\n      <td>0.000000</td>\n      <td>0.000000</td>\n      <td>0.000000</td>\n      <td>1.000000</td>\n      <td>0.000000</td>\n    </tr>\n    <tr>\n      <th>2</th>\n      <td>2012-04-17</td>\n      <td>5.455000</td>\n      <td>5.550000</td>\n      <td>5.4500</td>\n      <td>5.5375</td>\n      <td>3.753081</td>\n      <td>16022400</td>\n      <td>Anyone betting on VVUS and their potential app...</td>\n      <td>6.500000</td>\n      <td>10.500000</td>\n      <td>0.102500</td>\n      <td>0.000000</td>\n      <td>0.897500</td>\n      <td>0.238350</td>\n    </tr>\n    <tr>\n      <th>3</th>\n      <td>2012-04-19</td>\n      <td>5.562500</td>\n      <td>5.635000</td>\n      <td>5.5325</td>\n      <td>5.5725</td>\n      <td>3.776802</td>\n      <td>14128400</td>\n      <td>EBAY posts higher 1Q net income and revenue, s...</td>\n      <td>7.000000</td>\n      <td>4.000000</td>\n      <td>0.000000</td>\n      <td>0.000000</td>\n      <td>1.000000</td>\n      <td>0.000000</td>\n    </tr>\n    <tr>\n      <th>4</th>\n      <td>2012-04-20</td>\n      <td>5.607500</td>\n      <td>5.677500</td>\n      <td>5.5525</td>\n      <td>5.5950</td>\n      <td>3.792051</td>\n      <td>12587200</td>\n      <td>After HGSI spikes 97%, will share price drop a...</td>\n      <td>4.000000</td>\n      <td>0.000000</td>\n      <td>0.165000</td>\n      <td>0.158000</td>\n      <td>0.677000</td>\n      <td>0.025800</td>\n    </tr>\n    <tr>\n      <th>...</th>\n      <td>...</td>\n      <td>...</td>\n      <td>...</td>\n      <td>...</td>\n      <td>...</td>\n      <td>...</td>\n      <td>...</td>\n      <td>...</td>\n      <td>...</td>\n      <td>...</td>\n      <td>...</td>\n      <td>...</td>\n      <td>...</td>\n      <td>...</td>\n    </tr>\n    <tr>\n      <th>2155</th>\n      <td>2021-02-08</td>\n      <td>18.102501</td>\n      <td>18.165001</td>\n      <td>14.5050</td>\n      <td>15.0000</td>\n      <td>15.000000</td>\n      <td>102749200</td>\n      <td>I have $200 bucks, where can I yolo||SNDL 🚀||$...</td>\n      <td>1.113846</td>\n      <td>4.526374</td>\n      <td>0.152009</td>\n      <td>0.044976</td>\n      <td>0.800815</td>\n      <td>0.150271</td>\n    </tr>\n    <tr>\n      <th>2156</th>\n      <td>2021-02-09</td>\n      <td>14.152500</td>\n      <td>14.250000</td>\n      <td>11.6300</td>\n      <td>12.5775</td>\n      <td>12.577500</td>\n      <td>107372400</td>\n      <td>Cindicator Capital Wants to Hire r/WallStreetB...</td>\n      <td>1.000714</td>\n      <td>17.286530</td>\n      <td>0.141212</td>\n      <td>0.050631</td>\n      <td>0.807442</td>\n      <td>0.130000</td>\n    </tr>\n    <tr>\n      <th>2157</th>\n      <td>2021-02-10</td>\n      <td>12.692500</td>\n      <td>15.707500</td>\n      <td>11.6375</td>\n      <td>12.8000</td>\n      <td>12.800000</td>\n      <td>145820000</td>\n      <td>Weed to the moon.||Halo Collective $HCANF||HMN...</td>\n      <td>6.080738</td>\n      <td>12.311236</td>\n      <td>0.150552</td>\n      <td>0.038095</td>\n      <td>0.808944</td>\n      <td>0.163170</td>\n    </tr>\n    <tr>\n      <th>2158</th>\n      <td>2021-02-11</td>\n      <td>12.502500</td>\n      <td>13.830000</td>\n      <td>12.0550</td>\n      <td>12.7750</td>\n      <td>12.775000</td>\n      <td>52226800</td>\n      <td>SNDL to the MOON 🚀🚀🚀🚀🚀🚀||DRAFT KING SHORTYS MU...</td>\n      <td>1.887141</td>\n      <td>19.164354</td>\n      <td>0.147041</td>\n      <td>0.043510</td>\n      <td>0.807590</td>\n      <td>0.145756</td>\n    </tr>\n    <tr>\n      <th>2159</th>\n      <td>2021-02-12</td>\n      <td>12.687500</td>\n      <td>13.810000</td>\n      <td>12.0125</td>\n      <td>13.1000</td>\n      <td>13.100000</td>\n      <td>58293200</td>\n      <td>This only makes me want to buy MORE. Fuck the ...</td>\n      <td>1.002478</td>\n      <td>17.504364</td>\n      <td>0.132765</td>\n      <td>0.054883</td>\n      <td>0.809981</td>\n      <td>0.118106</td>\n    </tr>\n  </tbody>\n</table>\n<p>2160 rows × 14 columns</p>\n</div>"
     },
     "metadata": {},
     "output_type": "display_data"
    },
    {
     "name": "stdout",
     "output_type": "stream",
     "text": [
      "saved to ../data/mergedDF.csv\n"
     ]
    }
   ],
   "source": [
    "dataPlug.get_price_dataframe()\n",
    "dataPlug.merge_dataframes()\n",
    "display(dataPlug.mergedDF)\n",
    "dataPlug.mergedDF.to_csv('../data/mergedDF.csv')\n",
    "print(f'saved to ../data/mergedDF.csv')"
   ],
   "metadata": {
    "collapsed": false
   }
  },
  {
   "cell_type": "code",
   "execution_count": null,
   "outputs": [],
   "source": [],
   "metadata": {
    "collapsed": false
   }
  },
  {
   "cell_type": "markdown",
   "source": [
    "---\n",
    "\n",
    "### Run if you want to load the dataframe from a file to avoid re-running sentiment analysis"
   ],
   "metadata": {
    "collapsed": false
   }
  },
  {
   "cell_type": "code",
   "execution_count": 120,
   "outputs": [],
   "source": [
    "# If you want to load the mergedDF from a csv file\n",
    "dataPlug.mergedDF = pd.read_csv('../data/mergedDF.csv')\n",
    "dataPlug.mergedDF = dataPlug.mergedDF.drop('Open', axis=1)\n",
    "dataPlug.mergedDF = dataPlug.mergedDF.drop('Low', axis=1)\n",
    "dataPlug.mergedDF = dataPlug.mergedDF.drop('Close', axis=1)\n",
    "dataPlug.mergedDF = dataPlug.mergedDF.drop('Adj Close', axis=1)\n",
    "dataPlug.mergedDF = dataPlug.mergedDF.drop('Volume', axis=1)\n",
    "timestamp_info = dataPlug.mergedDF['timestamp']\n",
    "dataPlug.mergedDF = dataPlug.mergedDF.drop('timestamp', axis=1)\n",
    "dataPlug.mergedDF = dataPlug.mergedDF.drop('Unnamed: 0', axis=1)\n",
    "dataPlug.mergedDF = dataPlug.mergedDF.drop('title', axis=1)"
   ],
   "metadata": {
    "collapsed": false
   }
  },
  {
   "cell_type": "markdown",
   "source": [
    "---"
   ],
   "metadata": {
    "collapsed": false
   }
  },
  {
   "cell_type": "code",
   "execution_count": 121,
   "outputs": [],
   "source": [
    "from sklearn.model_selection import train_test_split"
   ],
   "metadata": {
    "collapsed": false
   }
  },
  {
   "cell_type": "code",
   "execution_count": 122,
   "outputs": [
    {
     "data": {
      "text/plain": "           High      score  num_comments  Positive_Sentiment  \\\n0      5.380000  13.000000     22.000000            0.000000   \n1      5.427500   2.000000      0.000000            0.000000   \n2      5.452500   1.000000      0.000000            0.205000   \n3      5.550000  12.000000     21.000000            0.000000   \n4      5.592500   7.000000      4.000000            0.000000   \n...         ...        ...           ...                 ...   \n2144  18.165001   1.009107     13.816064            0.139391   \n2145  14.250000   1.596173     16.164578            0.146855   \n2146  15.707500   3.926822     15.815921            0.153168   \n2147  13.830000   1.809865     17.874789            0.137863   \n2148  13.810000   1.000281     13.948523            0.136230   \n\n      Negative_Sentiment  Neutral_Sentiment  Compound_Sentiment  \n0               0.000000           1.000000            0.000000  \n1               0.000000           1.000000            0.000000  \n2               0.000000           0.795000            0.476700  \n3               0.000000           1.000000            0.000000  \n4               0.000000           1.000000            0.000000  \n...                  ...                ...                 ...  \n2144            0.048590           0.810973            0.129618  \n2145            0.047587           0.804542            0.143152  \n2146            0.036687           0.808064            0.165109  \n2147            0.051644           0.808132            0.126163  \n2148            0.050498           0.811023            0.124137  \n\n[2149 rows x 7 columns]",
      "text/html": "<div>\n<style scoped>\n    .dataframe tbody tr th:only-of-type {\n        vertical-align: middle;\n    }\n\n    .dataframe tbody tr th {\n        vertical-align: top;\n    }\n\n    .dataframe thead th {\n        text-align: right;\n    }\n</style>\n<table border=\"1\" class=\"dataframe\">\n  <thead>\n    <tr style=\"text-align: right;\">\n      <th></th>\n      <th>High</th>\n      <th>score</th>\n      <th>num_comments</th>\n      <th>Positive_Sentiment</th>\n      <th>Negative_Sentiment</th>\n      <th>Neutral_Sentiment</th>\n      <th>Compound_Sentiment</th>\n    </tr>\n  </thead>\n  <tbody>\n    <tr>\n      <th>0</th>\n      <td>5.380000</td>\n      <td>13.000000</td>\n      <td>22.000000</td>\n      <td>0.000000</td>\n      <td>0.000000</td>\n      <td>1.000000</td>\n      <td>0.000000</td>\n    </tr>\n    <tr>\n      <th>1</th>\n      <td>5.427500</td>\n      <td>2.000000</td>\n      <td>0.000000</td>\n      <td>0.000000</td>\n      <td>0.000000</td>\n      <td>1.000000</td>\n      <td>0.000000</td>\n    </tr>\n    <tr>\n      <th>2</th>\n      <td>5.452500</td>\n      <td>1.000000</td>\n      <td>0.000000</td>\n      <td>0.205000</td>\n      <td>0.000000</td>\n      <td>0.795000</td>\n      <td>0.476700</td>\n    </tr>\n    <tr>\n      <th>3</th>\n      <td>5.550000</td>\n      <td>12.000000</td>\n      <td>21.000000</td>\n      <td>0.000000</td>\n      <td>0.000000</td>\n      <td>1.000000</td>\n      <td>0.000000</td>\n    </tr>\n    <tr>\n      <th>4</th>\n      <td>5.592500</td>\n      <td>7.000000</td>\n      <td>4.000000</td>\n      <td>0.000000</td>\n      <td>0.000000</td>\n      <td>1.000000</td>\n      <td>0.000000</td>\n    </tr>\n    <tr>\n      <th>...</th>\n      <td>...</td>\n      <td>...</td>\n      <td>...</td>\n      <td>...</td>\n      <td>...</td>\n      <td>...</td>\n      <td>...</td>\n    </tr>\n    <tr>\n      <th>2144</th>\n      <td>18.165001</td>\n      <td>1.009107</td>\n      <td>13.816064</td>\n      <td>0.139391</td>\n      <td>0.048590</td>\n      <td>0.810973</td>\n      <td>0.129618</td>\n    </tr>\n    <tr>\n      <th>2145</th>\n      <td>14.250000</td>\n      <td>1.596173</td>\n      <td>16.164578</td>\n      <td>0.146855</td>\n      <td>0.047587</td>\n      <td>0.804542</td>\n      <td>0.143152</td>\n    </tr>\n    <tr>\n      <th>2146</th>\n      <td>15.707500</td>\n      <td>3.926822</td>\n      <td>15.815921</td>\n      <td>0.153168</td>\n      <td>0.036687</td>\n      <td>0.808064</td>\n      <td>0.165109</td>\n    </tr>\n    <tr>\n      <th>2147</th>\n      <td>13.830000</td>\n      <td>1.809865</td>\n      <td>17.874789</td>\n      <td>0.137863</td>\n      <td>0.051644</td>\n      <td>0.808132</td>\n      <td>0.126163</td>\n    </tr>\n    <tr>\n      <th>2148</th>\n      <td>13.810000</td>\n      <td>1.000281</td>\n      <td>13.948523</td>\n      <td>0.136230</td>\n      <td>0.050498</td>\n      <td>0.811023</td>\n      <td>0.124137</td>\n    </tr>\n  </tbody>\n</table>\n<p>2149 rows × 7 columns</p>\n</div>"
     },
     "metadata": {},
     "output_type": "display_data"
    }
   ],
   "source": [
    "display(dataPlug.mergedDF)"
   ],
   "metadata": {
    "collapsed": false
   }
  },
  {
   "cell_type": "code",
   "execution_count": 123,
   "outputs": [
    {
     "name": "stdout",
     "output_type": "stream",
     "text": [
      "Training Features Shape: (1611, 6)\n",
      "Training Labels Shape: (1611,)\n",
      "Testing Features Shape: (538, 6)\n",
      "Testing Labels Shape: (538,)\n"
     ]
    }
   ],
   "source": [
    "labels = np.array(dataPlug.mergedDF['High'])\n",
    "dataPlug.mergedDF = dataPlug.mergedDF.drop('High', axis=1)\n",
    "feature_list = list(dataPlug.mergedDF.columns)\n",
    "dataPlug.features = np.array(dataPlug.mergedDF)\n",
    "\n",
    "train_features, test_features, train_labels, test_labels = train_test_split(dataPlug.features, labels, test_size = 0.25, random_state = 42)\n",
    "\n",
    "print('Training Features Shape:', train_features.shape)\n",
    "print('Training Labels Shape:', train_labels.shape)\n",
    "print('Testing Features Shape:', test_features.shape)\n",
    "print('Testing Labels Shape:', test_labels.shape)"
   ],
   "metadata": {
    "collapsed": false
   }
  },
  {
   "cell_type": "code",
   "execution_count": 124,
   "outputs": [],
   "source": [
    "# Import the model we are using\n",
    "from sklearn.ensemble import RandomForestRegressor\n",
    "# Instantiate model with 1000 decision trees\n",
    "rf = RandomForestRegressor(n_estimators = 1000, random_state = 42)\n",
    "# Train the model on training data\n",
    "rf.fit(train_features, train_labels);"
   ],
   "metadata": {
    "collapsed": false
   }
  },
  {
   "cell_type": "code",
   "execution_count": 125,
   "outputs": [
    {
     "name": "stdout",
     "output_type": "stream",
     "text": [
      "Mean Absolute Error: 1.85 degrees.\n",
      "Accuracy: 66.63 %.\n"
     ]
    }
   ],
   "source": [
    "# Use the forest's predict method on the test data\n",
    "predictions = rf.predict(test_features)\n",
    "# Calculate the absolute errors\n",
    "errors = abs(predictions - test_labels)\n",
    "# Print out the mean absolute error (mae)\n",
    "print('Mean Absolute Error:', round(np.mean(errors), 2), 'degrees.')\n",
    "\n",
    "\n",
    "# Calculate mean absolute percentage error (MAPE)\n",
    "mape = 100 * (errors / test_labels)\n",
    "# Calculate and display accuracy\n",
    "accuracy = 100 - np.mean(mape)\n",
    "print('Accuracy:', round(accuracy, 2), '%.')"
   ],
   "metadata": {
    "collapsed": false
   }
  },
  {
   "cell_type": "code",
   "execution_count": 126,
   "outputs": [],
   "source": [
    "# Import tools needed for visualization\n",
    "from sklearn.tree import export_graphviz\n",
    "import pydot\n",
    "# Pull out one tree from the forest\n",
    "tree = rf.estimators_[5]\n",
    "# Export the image to a dot file\n",
    "\n",
    "export_graphviz(tree, out_file = '../data/tree/tree.dot', feature_names = feature_list, rounded = True, precision = 1)"
   ],
   "metadata": {
    "collapsed": false
   }
  },
  {
   "cell_type": "code",
   "execution_count": 127,
   "outputs": [],
   "source": [
    "\n",
    "# Use dot file to create a graph\n",
    "(graph, ) = pydot.graph_from_dot_file('../data/tree/tree.dot')\n",
    "# Write graph to a png file\n",
    "graph.write_png('../data/tree/tree.png')"
   ],
   "metadata": {
    "collapsed": false
   }
  },
  {
   "cell_type": "code",
   "execution_count": 128,
   "outputs": [],
   "source": [
    "# Limit depth of tree to 3 levels\n",
    "rf_small = RandomForestRegressor(n_estimators=10, max_depth = 3)\n",
    "rf_small.fit(train_features, train_labels)\n",
    "# Extract the small tree\n",
    "tree_small = rf_small.estimators_[5]\n",
    "# Save the tree as a png image\n",
    "export_graphviz(tree_small, out_file = '../data/tree/small_tree.dot', feature_names = feature_list, rounded = True, precision = 1)\n",
    "(graph, ) = pydot.graph_from_dot_file('../data/tree/small_tree.dot')\n",
    "graph.write_png('../data/tree/small_tree.png');"
   ],
   "metadata": {
    "collapsed": false
   }
  },
  {
   "cell_type": "code",
   "execution_count": 129,
   "outputs": [
    {
     "name": "stdout",
     "output_type": "stream",
     "text": [
      "Variable: num_comments         Importance: 0.34\n",
      "Variable: score                Importance: 0.32\n",
      "Variable: Positive_Sentiment   Importance: 0.11\n",
      "Variable: Neutral_Sentiment    Importance: 0.1\n",
      "Variable: Compound_Sentiment   Importance: 0.07\n",
      "Variable: Negative_Sentiment   Importance: 0.06\n"
     ]
    }
   ],
   "source": [
    "# Get numerical feature importances\n",
    "importances = list(rf.feature_importances_)\n",
    "# List of tuples with variable and importance\n",
    "feature_importances = [(feature, round(importance, 2)) for feature, importance in zip(feature_list, importances)]\n",
    "# Sort the feature importances by most important first\n",
    "feature_importances = sorted(feature_importances, key = lambda x: x[1], reverse = True)\n",
    "# Print out the feature and importances\n",
    "[print('Variable: {:20} Importance: {}'.format(*pair)) for pair in feature_importances];"
   ],
   "metadata": {
    "collapsed": false
   }
  },
  {
   "cell_type": "code",
   "execution_count": 130,
   "outputs": [
    {
     "data": {
      "text/plain": "<Figure size 640x480 with 1 Axes>",
      "image/png": "[encoded data removed]"
     },
     "metadata": {},
     "output_type": "display_data"
    }
   ],
   "source": [
    "# Import matplotlib for plotting and use magic command for Jupyter Notebooks\n",
    "import matplotlib.pyplot as plt\n",
    "%matplotlib inline\n",
    "# Set the style\n",
    "plt.style.use('fivethirtyeight')\n",
    "# list of x locations for plotting\n",
    "x_values = list(range(len(importances)))\n",
    "# Make a bar chart\n",
    "plt.bar(x_values, importances, orientation = 'vertical')\n",
    "# Tick labels for x axis\n",
    "plt.xticks(x_values, feature_list, rotation='vertical')\n",
    "# Axis labels and title\n",
    "plt.ylabel('Importance'); plt.xlabel('Variable'); plt.title('Variable Importances');"
   ],
   "metadata": {
    "collapsed": false
   }
  },
  {
   "cell_type": "code",
   "execution_count": 131,
   "outputs": [
    {
     "ename": "ValueError",
     "evalue": "'timestamp' is not in list",
     "output_type": "error",
     "traceback": [
      "\u001B[1;31m---------------------------------------------------------------------------\u001B[0m",
      "\u001B[1;31mValueError\u001B[0m                                Traceback (most recent call last)",
      "Cell \u001B[1;32mIn[131], line 4\u001B[0m\n\u001B[0;32m      2\u001B[0m \u001B[38;5;28;01mimport\u001B[39;00m \u001B[38;5;21;01mdatetime\u001B[39;00m\n\u001B[0;32m      3\u001B[0m \u001B[38;5;66;03m# Dates of training values\u001B[39;00m\n\u001B[1;32m----> 4\u001B[0m months \u001B[38;5;241m=\u001B[39m dataPlug\u001B[38;5;241m.\u001B[39mfeatures[:, \u001B[43mfeature_list\u001B[49m\u001B[38;5;241;43m.\u001B[39;49m\u001B[43mindex\u001B[49m\u001B[43m(\u001B[49m\u001B[38;5;124;43m'\u001B[39;49m\u001B[38;5;124;43mtimestamp\u001B[39;49m\u001B[38;5;124;43m'\u001B[39;49m\u001B[43m)\u001B[49m\u001B[38;5;241m.\u001B[39mmonth]\n\u001B[0;32m      5\u001B[0m days \u001B[38;5;241m=\u001B[39m dataPlug\u001B[38;5;241m.\u001B[39mfeatures[:, feature_list\u001B[38;5;241m.\u001B[39mindex(\u001B[38;5;124m'\u001B[39m\u001B[38;5;124mtimestamp\u001B[39m\u001B[38;5;124m'\u001B[39m)\u001B[38;5;241m.\u001B[39mday]\n\u001B[0;32m      6\u001B[0m years \u001B[38;5;241m=\u001B[39m dataPlug\u001B[38;5;241m.\u001B[39mfeatures[:, feature_list\u001B[38;5;241m.\u001B[39mindex(\u001B[38;5;124m'\u001B[39m\u001B[38;5;124mtimestamp\u001B[39m\u001B[38;5;124m'\u001B[39m)\u001B[38;5;241m.\u001B[39myear]\n",
      "\u001B[1;31mValueError\u001B[0m: 'timestamp' is not in list"
     ]
    }
   ],
   "source": [
    "# Use datetime for creating date objects for plotting\n",
    "import datetime\n",
    "# Dates of training values\n",
    "months = dataPlug.features[:, feature_list.index('timestamp').month]\n",
    "days = dataPlug.features[:, feature_list.index('timestamp').day]\n",
    "years = dataPlug.features[:, feature_list.index('timestamp').year]\n",
    "# List and then convert to datetime object\n",
    "dates = [str(int(year)) + '-' + str(int(month)) + '-' + str(int(day)) for year, month, day in zip(years, months, days)]\n",
    "dates = [datetime.datetime.strptime(date, '%Y-%m-%d') for date in dates]\n",
    "# Dataframe with true values and dates\n",
    "true_data = pd.DataFrame(data = {'date': dates, 'actual': labels})\n",
    "# Dates of predictions\n",
    "months = test_features[:, feature_list.index('timestamp').month]\n",
    "days = test_features[:, feature_list.index('timestamp').day]\n",
    "years = test_features[:, feature_list.index('timestamp').year]\n",
    "# Column of dates\n",
    "test_dates = [str(int(year)) + '-' + str(int(month)) + '-' + str(int(day)) for year, month, day in zip(years, months, days)]\n",
    "# Convert to datetime objects\n",
    "test_dates = [datetime.datetime.strptime(date, '%Y-%m-%d') for date in test_dates]\n",
    "# Dataframe with predictions and dates\n",
    "predictions_data = pd.DataFrame(data = {'date': test_dates, 'prediction': predictions})\n",
    "# Plot the actual values\n",
    "plt.plot(true_data['date'], true_data['actual'], 'b-', label = 'actual')\n",
    "# Plot the predicted values\n",
    "plt.plot(predictions_data['date'], predictions_data['prediction'], 'ro', label = 'prediction')\n",
    "plt.xticks(rotation = '60');\n",
    "plt.legend()\n",
    "# Graph labels\n",
    "plt.xlabel('Date'); plt.ylabel('Maximum Temperature (F)'); plt.title('Actual and Predicted Values');"
   ],
   "metadata": {
    "collapsed": false
   }
  }
 ],
 "metadata": {
  "kernelspec": {
   "display_name": "Python 3",
   "language": "python",
   "name": "python3"
  },
  "language_info": {
   "codemirror_mode": {
    "name": "ipython",
    "version": 2
   },
   "file_extension": ".py",
   "mimetype": "text/x-python",
   "name": "python",
   "nbconvert_exporter": "python",
   "pygments_lexer": "ipython2",
   "version": "2.7.6"
  }
 },
 "nbformat": 4,
 "nbformat_minor": 0
}
