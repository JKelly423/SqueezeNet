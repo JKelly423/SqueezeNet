{
 "cells": [
  {
   "cell_type": "code",
   "execution_count": 1,
   "metadata": {
    "collapsed": true
   },
   "outputs": [],
   "source": [
    "from DataPlug import DataPlug as dp\n",
    "from SqueezeNet import SqueezeNet as sq"
   ]
  },
  {
   "cell_type": "code",
   "execution_count": 2,
   "outputs": [],
   "source": [
    "squeeze = sq(\"SqueezeNet\")\n",
    "dataPlug = dp(\"DataPlug\")\n"
   ],
   "metadata": {
    "collapsed": false
   }
  },
  {
   "cell_type": "code",
   "execution_count": 3,
   "outputs": [
    {
     "data": {
      "text/plain": "                                                   title  score      id  \\\n0      It's not about the money, it's about sending a...     55  l6ulcx   \n1      Math Professor Scott Steiner says the numbers ...    110  l6uibd   \n2                                        Exit the system      0  l6uhhn   \n3      NEW SEC FILING FOR GME! CAN SOMEONE LESS RETAR...     29  l6ugk6   \n4      Not to distract from GME, just thought our AMC...     71  l6ufgy   \n...                                                  ...    ...     ...   \n53182    What I Learned Investigating SAVA FUD Spreaders    238  owd2pn   \n53183  Daily Popular Tickers Thread for August 02, 20...    228  owd1a5   \n53184       Hitler reacts to the market being irrational   7398  owc5dr   \n53185        Daily Discussion Thread for August 02, 2021    338  owbfjf   \n53186  Fraternal Association of Gambling Gentlemen an...     40  owaqd6   \n\n                                                     url  comms_num  \\\n0                        https://v.redd.it/6j75regs72e61          6   \n1                        https://v.redd.it/ah50lyny62e61         23   \n2      https://www.reddit.com/r/wallstreetbets/commen...         47   \n3      https://sec.report/Document/0001193125-21-019848/         74   \n4                    https://i.redd.it/4h2sukb662e61.jpg        156   \n...                                                  ...        ...   \n53182  https://www.reddit.com/r/wallstreetbets/commen...         87   \n53183  https://www.reddit.com/r/wallstreetbets/commen...       1070   \n53184                    https://v.redd.it/46jxu074exe71        372   \n53185  https://www.reddit.com/r/wallstreetbets/commen...      11688   \n53186  https://www.reddit.com/r/wallstreetbets/commen...        810   \n\n            created                                               body  \\\n0      1.611863e+09                                                NaN   \n1      1.611862e+09                                                NaN   \n2      1.611862e+09  The CEO of NASDAQ pushed to halt trading “to g...   \n3      1.611862e+09                                                NaN   \n4      1.611862e+09                                                NaN   \n...             ...                                                ...   \n53182  1.627906e+09  ***TLDR: Three bitter scientists partnered up ...   \n53183  1.627906e+09  \\nYour daily hype thread. Please keep the shit...   \n53184  1.627902e+09                                                NaN   \n53185  1.627898e+09  Your daily trading discussion thread. Please k...   \n53186  1.627895e+09  This is an old Yacht Club thread. Click /u/Vis...   \n\n       timestamp  \n0     2021-01-28  \n1     2021-01-28  \n2     2021-01-28  \n3     2021-01-28  \n4     2021-01-28  \n...          ...  \n53182 2021-08-02  \n53183 2021-08-02  \n53184 2021-08-02  \n53185 2021-08-02  \n53186 2021-08-02  \n\n[53187 rows x 8 columns]",
      "text/html": "<div>\n<style scoped>\n    .dataframe tbody tr th:only-of-type {\n        vertical-align: middle;\n    }\n\n    .dataframe tbody tr th {\n        vertical-align: top;\n    }\n\n    .dataframe thead th {\n        text-align: right;\n    }\n</style>\n<table border=\"1\" class=\"dataframe\">\n  <thead>\n    <tr style=\"text-align: right;\">\n      <th></th>\n      <th>title</th>\n      <th>score</th>\n      <th>id</th>\n      <th>url</th>\n      <th>comms_num</th>\n      <th>created</th>\n      <th>body</th>\n      <th>timestamp</th>\n    </tr>\n  </thead>\n  <tbody>\n    <tr>\n      <th>0</th>\n      <td>It's not about the money, it's about sending a...</td>\n      <td>55</td>\n      <td>l6ulcx</td>\n      <td>https://v.redd.it/6j75regs72e61</td>\n      <td>6</td>\n      <td>1.611863e+09</td>\n      <td>NaN</td>\n      <td>2021-01-28</td>\n    </tr>\n    <tr>\n      <th>1</th>\n      <td>Math Professor Scott Steiner says the numbers ...</td>\n      <td>110</td>\n      <td>l6uibd</td>\n      <td>https://v.redd.it/ah50lyny62e61</td>\n      <td>23</td>\n      <td>1.611862e+09</td>\n      <td>NaN</td>\n      <td>2021-01-28</td>\n    </tr>\n    <tr>\n      <th>2</th>\n      <td>Exit the system</td>\n      <td>0</td>\n      <td>l6uhhn</td>\n      <td>https://www.reddit.com/r/wallstreetbets/commen...</td>\n      <td>47</td>\n      <td>1.611862e+09</td>\n      <td>The CEO of NASDAQ pushed to halt trading “to g...</td>\n      <td>2021-01-28</td>\n    </tr>\n    <tr>\n      <th>3</th>\n      <td>NEW SEC FILING FOR GME! CAN SOMEONE LESS RETAR...</td>\n      <td>29</td>\n      <td>l6ugk6</td>\n      <td>https://sec.report/Document/0001193125-21-019848/</td>\n      <td>74</td>\n      <td>1.611862e+09</td>\n      <td>NaN</td>\n      <td>2021-01-28</td>\n    </tr>\n    <tr>\n      <th>4</th>\n      <td>Not to distract from GME, just thought our AMC...</td>\n      <td>71</td>\n      <td>l6ufgy</td>\n      <td>https://i.redd.it/4h2sukb662e61.jpg</td>\n      <td>156</td>\n      <td>1.611862e+09</td>\n      <td>NaN</td>\n      <td>2021-01-28</td>\n    </tr>\n    <tr>\n      <th>...</th>\n      <td>...</td>\n      <td>...</td>\n      <td>...</td>\n      <td>...</td>\n      <td>...</td>\n      <td>...</td>\n      <td>...</td>\n      <td>...</td>\n    </tr>\n    <tr>\n      <th>53182</th>\n      <td>What I Learned Investigating SAVA FUD Spreaders</td>\n      <td>238</td>\n      <td>owd2pn</td>\n      <td>https://www.reddit.com/r/wallstreetbets/commen...</td>\n      <td>87</td>\n      <td>1.627906e+09</td>\n      <td>***TLDR: Three bitter scientists partnered up ...</td>\n      <td>2021-08-02</td>\n    </tr>\n    <tr>\n      <th>53183</th>\n      <td>Daily Popular Tickers Thread for August 02, 20...</td>\n      <td>228</td>\n      <td>owd1a5</td>\n      <td>https://www.reddit.com/r/wallstreetbets/commen...</td>\n      <td>1070</td>\n      <td>1.627906e+09</td>\n      <td>\\nYour daily hype thread. Please keep the shit...</td>\n      <td>2021-08-02</td>\n    </tr>\n    <tr>\n      <th>53184</th>\n      <td>Hitler reacts to the market being irrational</td>\n      <td>7398</td>\n      <td>owc5dr</td>\n      <td>https://v.redd.it/46jxu074exe71</td>\n      <td>372</td>\n      <td>1.627902e+09</td>\n      <td>NaN</td>\n      <td>2021-08-02</td>\n    </tr>\n    <tr>\n      <th>53185</th>\n      <td>Daily Discussion Thread for August 02, 2021</td>\n      <td>338</td>\n      <td>owbfjf</td>\n      <td>https://www.reddit.com/r/wallstreetbets/commen...</td>\n      <td>11688</td>\n      <td>1.627898e+09</td>\n      <td>Your daily trading discussion thread. Please k...</td>\n      <td>2021-08-02</td>\n    </tr>\n    <tr>\n      <th>53186</th>\n      <td>Fraternal Association of Gambling Gentlemen an...</td>\n      <td>40</td>\n      <td>owaqd6</td>\n      <td>https://www.reddit.com/r/wallstreetbets/commen...</td>\n      <td>810</td>\n      <td>1.627895e+09</td>\n      <td>This is an old Yacht Club thread. Click /u/Vis...</td>\n      <td>2021-08-02</td>\n    </tr>\n  </tbody>\n</table>\n<p>53187 rows × 8 columns</p>\n</div>"
     },
     "metadata": {},
     "output_type": "display_data"
    }
   ],
   "source": [
    "data = dataPlug.get_reddit_dataframe()\n",
    "\n",
    "\n",
    "display(dataPlug.df)"
   ],
   "metadata": {
    "collapsed": false
   }
  },
  {
   "cell_type": "code",
   "execution_count": 3,
   "outputs": [],
   "source": [],
   "metadata": {
    "collapsed": false
   }
  },
  {
   "cell_type": "code",
   "execution_count": 3,
   "outputs": [],
   "source": [
    "\n"
   ],
   "metadata": {
    "collapsed": false
   }
  },
  {
   "cell_type": "code",
   "execution_count": 4,
   "outputs": [
    {
     "data": {
      "text/plain": "           Date     Open       High      Low      Close  Adj Close    Volume\n0    2020-09-01   1.8250   1.955000   1.6925   1.912500   1.912500  92634400\n1    2020-09-02   1.9500   2.012500   1.7775   1.927500   1.927500  52044400\n2    2020-09-03   1.9700   2.112500   1.8100   1.955000   1.955000  57378000\n3    2020-09-04   1.9450   1.980000   1.7925   1.912500   1.912500  30648000\n4    2020-09-08   1.8875   2.070000   1.8700   1.925000   1.925000  39266400\n..          ...      ...        ...      ...        ...        ...       ...\n653  2023-04-06  22.0000  22.670000  21.7700  22.400000  22.400000   2506900\n654  2023-04-10  21.8500  22.430000  21.8200  22.370001  22.370001   2176100\n655  2023-04-11  22.5700  23.170000  22.4200  22.690001  22.690001   2540000\n656  2023-04-12  22.9000  23.280001  22.2600  22.260000  22.260000   2141100\n657  2023-04-13  22.5000  22.850000  22.3300  22.549999  22.549999   1800800\n\n[658 rows x 7 columns]",
      "text/html": "<div>\n<style scoped>\n    .dataframe tbody tr th:only-of-type {\n        vertical-align: middle;\n    }\n\n    .dataframe tbody tr th {\n        vertical-align: top;\n    }\n\n    .dataframe thead th {\n        text-align: right;\n    }\n</style>\n<table border=\"1\" class=\"dataframe\">\n  <thead>\n    <tr style=\"text-align: right;\">\n      <th></th>\n      <th>Date</th>\n      <th>Open</th>\n      <th>High</th>\n      <th>Low</th>\n      <th>Close</th>\n      <th>Adj Close</th>\n      <th>Volume</th>\n    </tr>\n  </thead>\n  <tbody>\n    <tr>\n      <th>0</th>\n      <td>2020-09-01</td>\n      <td>1.8250</td>\n      <td>1.955000</td>\n      <td>1.6925</td>\n      <td>1.912500</td>\n      <td>1.912500</td>\n      <td>92634400</td>\n    </tr>\n    <tr>\n      <th>1</th>\n      <td>2020-09-02</td>\n      <td>1.9500</td>\n      <td>2.012500</td>\n      <td>1.7775</td>\n      <td>1.927500</td>\n      <td>1.927500</td>\n      <td>52044400</td>\n    </tr>\n    <tr>\n      <th>2</th>\n      <td>2020-09-03</td>\n      <td>1.9700</td>\n      <td>2.112500</td>\n      <td>1.8100</td>\n      <td>1.955000</td>\n      <td>1.955000</td>\n      <td>57378000</td>\n    </tr>\n    <tr>\n      <th>3</th>\n      <td>2020-09-04</td>\n      <td>1.9450</td>\n      <td>1.980000</td>\n      <td>1.7925</td>\n      <td>1.912500</td>\n      <td>1.912500</td>\n      <td>30648000</td>\n    </tr>\n    <tr>\n      <th>4</th>\n      <td>2020-09-08</td>\n      <td>1.8875</td>\n      <td>2.070000</td>\n      <td>1.8700</td>\n      <td>1.925000</td>\n      <td>1.925000</td>\n      <td>39266400</td>\n    </tr>\n    <tr>\n      <th>...</th>\n      <td>...</td>\n      <td>...</td>\n      <td>...</td>\n      <td>...</td>\n      <td>...</td>\n      <td>...</td>\n      <td>...</td>\n    </tr>\n    <tr>\n      <th>653</th>\n      <td>2023-04-06</td>\n      <td>22.0000</td>\n      <td>22.670000</td>\n      <td>21.7700</td>\n      <td>22.400000</td>\n      <td>22.400000</td>\n      <td>2506900</td>\n    </tr>\n    <tr>\n      <th>654</th>\n      <td>2023-04-10</td>\n      <td>21.8500</td>\n      <td>22.430000</td>\n      <td>21.8200</td>\n      <td>22.370001</td>\n      <td>22.370001</td>\n      <td>2176100</td>\n    </tr>\n    <tr>\n      <th>655</th>\n      <td>2023-04-11</td>\n      <td>22.5700</td>\n      <td>23.170000</td>\n      <td>22.4200</td>\n      <td>22.690001</td>\n      <td>22.690001</td>\n      <td>2540000</td>\n    </tr>\n    <tr>\n      <th>656</th>\n      <td>2023-04-12</td>\n      <td>22.9000</td>\n      <td>23.280001</td>\n      <td>22.2600</td>\n      <td>22.260000</td>\n      <td>22.260000</td>\n      <td>2141100</td>\n    </tr>\n    <tr>\n      <th>657</th>\n      <td>2023-04-13</td>\n      <td>22.5000</td>\n      <td>22.850000</td>\n      <td>22.3300</td>\n      <td>22.549999</td>\n      <td>22.549999</td>\n      <td>1800800</td>\n    </tr>\n  </tbody>\n</table>\n<p>658 rows × 7 columns</p>\n</div>"
     },
     "execution_count": 4,
     "metadata": {},
     "output_type": "execute_result"
    }
   ],
   "source": [
    "dataPlug.get_price_datafrane()"
   ],
   "metadata": {
    "collapsed": false
   }
  }
 ],
 "metadata": {
  "kernelspec": {
   "display_name": "Python 3",
   "language": "python",
   "name": "python3"
  },
  "language_info": {
   "codemirror_mode": {
    "name": "ipython",
    "version": 2
   },
   "file_extension": ".py",
   "mimetype": "text/x-python",
   "name": "python",
   "nbconvert_exporter": "python",
   "pygments_lexer": "ipython2",
   "version": "2.7.6"
  }
 },
 "nbformat": 4,
 "nbformat_minor": 0
}
