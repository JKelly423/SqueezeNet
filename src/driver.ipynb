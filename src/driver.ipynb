{
 "cells": [
  {
   "cell_type": "code",
   "execution_count": 1,
   "metadata": {
    "collapsed": true
   },
   "outputs": [],
   "source": [
    "from DataPlug import DataPlug as dp\n",
    "from SqueezeNet import SqueezeNet as sq"
   ]
  },
  {
   "cell_type": "code",
   "execution_count": 2,
   "outputs": [],
   "source": [
    "squeeze = sq(\"SqueezeNet\")\n",
    "dataPlug = dp(\"DataPlug\")\n"
   ],
   "metadata": {
    "collapsed": false
   }
  },
  {
   "cell_type": "code",
   "execution_count": 3,
   "outputs": [
    {
     "data": {
      "text/plain": "                                                   title  score      id  \\\n0      It's not about the money, it's about sending a...     55  l6ulcx   \n1      Math Professor Scott Steiner says the numbers ...    110  l6uibd   \n2                                        Exit the system      0  l6uhhn   \n3      NEW SEC FILING FOR GME! CAN SOMEONE LESS RETAR...     29  l6ugk6   \n4      Not to distract from GME, just thought our AMC...     71  l6ufgy   \n...                                                  ...    ...     ...   \n53182    What I Learned Investigating SAVA FUD Spreaders    238  owd2pn   \n53183  Daily Popular Tickers Thread for August 02, 20...    228  owd1a5   \n53184       Hitler reacts to the market being irrational   7398  owc5dr   \n53185        Daily Discussion Thread for August 02, 2021    338  owbfjf   \n53186  Fraternal Association of Gambling Gentlemen an...     40  owaqd6   \n\n                                                     url  comms_num  \\\n0                        https://v.redd.it/6j75regs72e61          6   \n1                        https://v.redd.it/ah50lyny62e61         23   \n2      https://www.reddit.com/r/wallstreetbets/commen...         47   \n3      https://sec.report/Document/0001193125-21-019848/         74   \n4                    https://i.redd.it/4h2sukb662e61.jpg        156   \n...                                                  ...        ...   \n53182  https://www.reddit.com/r/wallstreetbets/commen...         87   \n53183  https://www.reddit.com/r/wallstreetbets/commen...       1070   \n53184                    https://v.redd.it/46jxu074exe71        372   \n53185  https://www.reddit.com/r/wallstreetbets/commen...      11688   \n53186  https://www.reddit.com/r/wallstreetbets/commen...        810   \n\n            created                                               body  \\\n0      1.611863e+09                                                NaN   \n1      1.611862e+09                                                NaN   \n2      1.611862e+09  The CEO of NASDAQ pushed to halt trading “to g...   \n3      1.611862e+09                                                NaN   \n4      1.611862e+09                                                NaN   \n...             ...                                                ...   \n53182  1.627906e+09  ***TLDR: Three bitter scientists partnered up ...   \n53183  1.627906e+09  \\nYour daily hype thread. Please keep the shit...   \n53184  1.627902e+09                                                NaN   \n53185  1.627898e+09  Your daily trading discussion thread. Please k...   \n53186  1.627895e+09  This is an old Yacht Club thread. Click /u/Vis...   \n\n       timestamp  \n0     2021-01-28  \n1     2021-01-28  \n2     2021-01-28  \n3     2021-01-28  \n4     2021-01-28  \n...          ...  \n53182 2021-08-02  \n53183 2021-08-02  \n53184 2021-08-02  \n53185 2021-08-02  \n53186 2021-08-02  \n\n[53187 rows x 8 columns]",
      "text/html": "<div>\n<style scoped>\n    .dataframe tbody tr th:only-of-type {\n        vertical-align: middle;\n    }\n\n    .dataframe tbody tr th {\n        vertical-align: top;\n    }\n\n    .dataframe thead th {\n        text-align: right;\n    }\n</style>\n<table border=\"1\" class=\"dataframe\">\n  <thead>\n    <tr style=\"text-align: right;\">\n      <th></th>\n      <th>title</th>\n      <th>score</th>\n      <th>id</th>\n      <th>url</th>\n      <th>comms_num</th>\n      <th>created</th>\n      <th>body</th>\n      <th>timestamp</th>\n    </tr>\n  </thead>\n  <tbody>\n    <tr>\n      <th>0</th>\n      <td>It's not about the money, it's about sending a...</td>\n      <td>55</td>\n      <td>l6ulcx</td>\n      <td>https://v.redd.it/6j75regs72e61</td>\n      <td>6</td>\n      <td>1.611863e+09</td>\n      <td>NaN</td>\n      <td>2021-01-28</td>\n    </tr>\n    <tr>\n      <th>1</th>\n      <td>Math Professor Scott Steiner says the numbers ...</td>\n      <td>110</td>\n      <td>l6uibd</td>\n      <td>https://v.redd.it/ah50lyny62e61</td>\n      <td>23</td>\n      <td>1.611862e+09</td>\n      <td>NaN</td>\n      <td>2021-01-28</td>\n    </tr>\n    <tr>\n      <th>2</th>\n      <td>Exit the system</td>\n      <td>0</td>\n      <td>l6uhhn</td>\n      <td>https://www.reddit.com/r/wallstreetbets/commen...</td>\n      <td>47</td>\n      <td>1.611862e+09</td>\n      <td>The CEO of NASDAQ pushed to halt trading “to g...</td>\n      <td>2021-01-28</td>\n    </tr>\n    <tr>\n      <th>3</th>\n      <td>NEW SEC FILING FOR GME! CAN SOMEONE LESS RETAR...</td>\n      <td>29</td>\n      <td>l6ugk6</td>\n      <td>https://sec.report/Document/0001193125-21-019848/</td>\n      <td>74</td>\n      <td>1.611862e+09</td>\n      <td>NaN</td>\n      <td>2021-01-28</td>\n    </tr>\n    <tr>\n      <th>4</th>\n      <td>Not to distract from GME, just thought our AMC...</td>\n      <td>71</td>\n      <td>l6ufgy</td>\n      <td>https://i.redd.it/4h2sukb662e61.jpg</td>\n      <td>156</td>\n      <td>1.611862e+09</td>\n      <td>NaN</td>\n      <td>2021-01-28</td>\n    </tr>\n    <tr>\n      <th>...</th>\n      <td>...</td>\n      <td>...</td>\n      <td>...</td>\n      <td>...</td>\n      <td>...</td>\n      <td>...</td>\n      <td>...</td>\n      <td>...</td>\n    </tr>\n    <tr>\n      <th>53182</th>\n      <td>What I Learned Investigating SAVA FUD Spreaders</td>\n      <td>238</td>\n      <td>owd2pn</td>\n      <td>https://www.reddit.com/r/wallstreetbets/commen...</td>\n      <td>87</td>\n      <td>1.627906e+09</td>\n      <td>***TLDR: Three bitter scientists partnered up ...</td>\n      <td>2021-08-02</td>\n    </tr>\n    <tr>\n      <th>53183</th>\n      <td>Daily Popular Tickers Thread for August 02, 20...</td>\n      <td>228</td>\n      <td>owd1a5</td>\n      <td>https://www.reddit.com/r/wallstreetbets/commen...</td>\n      <td>1070</td>\n      <td>1.627906e+09</td>\n      <td>\\nYour daily hype thread. Please keep the shit...</td>\n      <td>2021-08-02</td>\n    </tr>\n    <tr>\n      <th>53184</th>\n      <td>Hitler reacts to the market being irrational</td>\n      <td>7398</td>\n      <td>owc5dr</td>\n      <td>https://v.redd.it/46jxu074exe71</td>\n      <td>372</td>\n      <td>1.627902e+09</td>\n      <td>NaN</td>\n      <td>2021-08-02</td>\n    </tr>\n    <tr>\n      <th>53185</th>\n      <td>Daily Discussion Thread for August 02, 2021</td>\n      <td>338</td>\n      <td>owbfjf</td>\n      <td>https://www.reddit.com/r/wallstreetbets/commen...</td>\n      <td>11688</td>\n      <td>1.627898e+09</td>\n      <td>Your daily trading discussion thread. Please k...</td>\n      <td>2021-08-02</td>\n    </tr>\n    <tr>\n      <th>53186</th>\n      <td>Fraternal Association of Gambling Gentlemen an...</td>\n      <td>40</td>\n      <td>owaqd6</td>\n      <td>https://www.reddit.com/r/wallstreetbets/commen...</td>\n      <td>810</td>\n      <td>1.627895e+09</td>\n      <td>This is an old Yacht Club thread. Click /u/Vis...</td>\n      <td>2021-08-02</td>\n    </tr>\n  </tbody>\n</table>\n<p>53187 rows × 8 columns</p>\n</div>"
     },
     "metadata": {},
     "output_type": "display_data"
    }
   ],
   "source": [
    "data = dataPlug.get_reddit_dataframe()\n",
    "\n",
    "\n",
    "display(dataPlug.df)"
   ],
   "metadata": {
    "collapsed": false
   }
  },
  {
   "cell_type": "code",
   "execution_count": 4,
   "outputs": [
    {
     "data": {
      "text/plain": "     timestamp     Open       High      Low      Close  Adj Close    Volume\n0   2020-09-01   1.8250   1.955000   1.6925   1.912500   1.912500  92634400\n1   2020-09-02   1.9500   2.012500   1.7775   1.927500   1.927500  52044400\n2   2020-09-03   1.9700   2.112500   1.8100   1.955000   1.955000  57378000\n3   2020-09-04   1.9450   1.980000   1.7925   1.912500   1.912500  30648000\n4   2020-09-08   1.8875   2.070000   1.8700   1.925000   1.925000  39266400\n..         ...      ...        ...      ...        ...        ...       ...\n653 2023-04-06  22.0000  22.670000  21.7700  22.400000  22.400000   2506900\n654 2023-04-10  21.8500  22.430000  21.8200  22.370001  22.370001   2176100\n655 2023-04-11  22.5700  23.170000  22.4200  22.690001  22.690001   2540000\n656 2023-04-12  22.9000  23.280001  22.2600  22.260000  22.260000   2141100\n657 2023-04-13  22.5000  22.850000  22.3300  22.549999  22.549999   1800800\n\n[658 rows x 7 columns]",
      "text/html": "<div>\n<style scoped>\n    .dataframe tbody tr th:only-of-type {\n        vertical-align: middle;\n    }\n\n    .dataframe tbody tr th {\n        vertical-align: top;\n    }\n\n    .dataframe thead th {\n        text-align: right;\n    }\n</style>\n<table border=\"1\" class=\"dataframe\">\n  <thead>\n    <tr style=\"text-align: right;\">\n      <th></th>\n      <th>timestamp</th>\n      <th>Open</th>\n      <th>High</th>\n      <th>Low</th>\n      <th>Close</th>\n      <th>Adj Close</th>\n      <th>Volume</th>\n    </tr>\n  </thead>\n  <tbody>\n    <tr>\n      <th>0</th>\n      <td>2020-09-01</td>\n      <td>1.8250</td>\n      <td>1.955000</td>\n      <td>1.6925</td>\n      <td>1.912500</td>\n      <td>1.912500</td>\n      <td>92634400</td>\n    </tr>\n    <tr>\n      <th>1</th>\n      <td>2020-09-02</td>\n      <td>1.9500</td>\n      <td>2.012500</td>\n      <td>1.7775</td>\n      <td>1.927500</td>\n      <td>1.927500</td>\n      <td>52044400</td>\n    </tr>\n    <tr>\n      <th>2</th>\n      <td>2020-09-03</td>\n      <td>1.9700</td>\n      <td>2.112500</td>\n      <td>1.8100</td>\n      <td>1.955000</td>\n      <td>1.955000</td>\n      <td>57378000</td>\n    </tr>\n    <tr>\n      <th>3</th>\n      <td>2020-09-04</td>\n      <td>1.9450</td>\n      <td>1.980000</td>\n      <td>1.7925</td>\n      <td>1.912500</td>\n      <td>1.912500</td>\n      <td>30648000</td>\n    </tr>\n    <tr>\n      <th>4</th>\n      <td>2020-09-08</td>\n      <td>1.8875</td>\n      <td>2.070000</td>\n      <td>1.8700</td>\n      <td>1.925000</td>\n      <td>1.925000</td>\n      <td>39266400</td>\n    </tr>\n    <tr>\n      <th>...</th>\n      <td>...</td>\n      <td>...</td>\n      <td>...</td>\n      <td>...</td>\n      <td>...</td>\n      <td>...</td>\n      <td>...</td>\n    </tr>\n    <tr>\n      <th>653</th>\n      <td>2023-04-06</td>\n      <td>22.0000</td>\n      <td>22.670000</td>\n      <td>21.7700</td>\n      <td>22.400000</td>\n      <td>22.400000</td>\n      <td>2506900</td>\n    </tr>\n    <tr>\n      <th>654</th>\n      <td>2023-04-10</td>\n      <td>21.8500</td>\n      <td>22.430000</td>\n      <td>21.8200</td>\n      <td>22.370001</td>\n      <td>22.370001</td>\n      <td>2176100</td>\n    </tr>\n    <tr>\n      <th>655</th>\n      <td>2023-04-11</td>\n      <td>22.5700</td>\n      <td>23.170000</td>\n      <td>22.4200</td>\n      <td>22.690001</td>\n      <td>22.690001</td>\n      <td>2540000</td>\n    </tr>\n    <tr>\n      <th>656</th>\n      <td>2023-04-12</td>\n      <td>22.9000</td>\n      <td>23.280001</td>\n      <td>22.2600</td>\n      <td>22.260000</td>\n      <td>22.260000</td>\n      <td>2141100</td>\n    </tr>\n    <tr>\n      <th>657</th>\n      <td>2023-04-13</td>\n      <td>22.5000</td>\n      <td>22.850000</td>\n      <td>22.3300</td>\n      <td>22.549999</td>\n      <td>22.549999</td>\n      <td>1800800</td>\n    </tr>\n  </tbody>\n</table>\n<p>658 rows × 7 columns</p>\n</div>"
     },
     "execution_count": 4,
     "metadata": {},
     "output_type": "execute_result"
    }
   ],
   "source": [
    "dataPlug.get_price_dataframe()"
   ],
   "metadata": {
    "collapsed": false
   }
  },
  {
   "cell_type": "code",
   "execution_count": 5,
   "outputs": [
    {
     "data": {
      "text/plain": "                                                        title        score  \\\ntimestamp                                                                    \n2020-09-29  $CBAT $SUNW $SPI $OXBR Y'all are missing the p...     4.000000   \n2021-01-28  It's not about the money, it's about sending a...   960.609023   \n2021-01-29  Current data on GME short positions||ZOM||xspa...   408.457309   \n2021-01-30  Fellow retards! Hold that shit. Don’t panic.||...  4618.594101   \n2021-01-31  WE ALL DID IT! CITRON IS THROWING IN THE TOWEL...  5230.513312   \n...                                                       ...          ...   \n2021-08-12  Here you go you sick fucks $WISH||The guide to...   647.386667   \n2021-08-13  Would manny monitors help you make more or los...   773.593750   \n2021-08-14  My First 3 Months with WSB||Nice monitors, I u...  1204.837838   \n2021-08-15  UWMC Q2 EARNINGS CHEAT CODE!||$AMZN is up to s...  1210.619048   \n2021-08-16  The CLOV clinician letter is worth a read||Wat...    66.090909   \n\n                                                           id  \\\ntimestamp                                                       \n2020-09-29                                             j1fmmo   \n2021-01-28  l6ulcx||l6uibd||l6uhhn||l6ugk6||l6ufgy||l6uf7d...   \n2021-01-29  l6yxto||l6yxqf||l6yxjc||l6yx9l||l6yx9k||l6yx9c...   \n2021-01-30  l7uyb5||l7uyae||l7uya6||l7uy9j||l7uy8r||l7uy8e...   \n2021-01-31  l8nv7s||l8o31w||l8oblj||l8obkv||l8obkm||l8obk3...   \n...                                                       ...   \n2021-08-12  p38oq7||p388pe||p3841a||p37krv||p371r9||p3719y...   \n2021-08-13  p3tl78||p3tino||p3sv76||p3sv17||p3s821||p3rjhp...   \n2021-08-14  p4e21n||p4df57||p4chcx||p4cfun||p4cdx5||p4bji7...   \n2021-08-15  p517bu||p50n5p||p50kxh||p50ids||p4zwww||p4zpd6...   \n2021-08-16  p5ahrj||p59txq||p59a57||p599nb||p58soc||p58hq6...   \n\n                                                          url   comms_num  \\\ntimestamp                                                                   \n2020-09-29  https://www.reddit.com/r/wallstreetbets/commen...   11.000000   \n2021-01-28  https://v.redd.it/6j75regs72e61||https://v.red...  142.193818   \n2021-01-29  https://www.reddit.com/r/wallstreetbets/commen...   52.371288   \n2021-01-30  https://www.reddit.com/r/wallstreetbets/commen...  515.766152   \n2021-01-31  https://i.redd.it/rpase2bamhe61.jpg||https://w...  306.713525   \n...                                                       ...         ...   \n2021-08-12  https://i.redd.it/bmf0yo4fqzg71.jpg||https://w...  481.200000   \n2021-08-13  https://v.redd.it/w4lkj0upr6h71||https://i.red...  695.546875   \n2021-08-14  https://v.redd.it/9ldnh4figdh71||https://v.red...  153.783784   \n2021-08-15  https://www.reddit.com/r/wallstreetbets/commen...  630.666667   \n2021-08-16  https://www.reddit.com/r/wallstreetbets/commen...   28.272727   \n\n                 created                                               body  \ntimestamp                                                                    \n2020-09-29  1.601340e+09  $CBAT is going to be a great play further yet:...  \n2021-01-28  1.611863e+09  NaN||NaN||The CEO of NASDAQ pushed to halt tra...  \n2021-01-29  1.611875e+09  Is there data on current short positions in GM...  \n2021-01-30  1.611962e+09  We got this! Buy more if you can||What's the t...  \n2021-01-31  1.612049e+09  NaN||I can’t help but feel that whilst it was ...  \n...                  ...                                                ...  \n2021-08-12  1.628802e+09  NaN||As you are all aware the Haitian presiden...  \n2021-08-13  1.628887e+09  NaN||NaN||Your weekend discussion thread. Plea...  \n2021-08-14  1.628968e+09  NaN||NaN||NaN||📷\\n\\nhttps://preview.redd.it/4o...  \n2021-08-15  1.629060e+09  At the bottom please find a link to a webinar ...  \n2021-08-16  1.629095e+09  I am a doctor trained in internal medicine and...  \n\n[177 rows x 7 columns]",
      "text/html": "<div>\n<style scoped>\n    .dataframe tbody tr th:only-of-type {\n        vertical-align: middle;\n    }\n\n    .dataframe tbody tr th {\n        vertical-align: top;\n    }\n\n    .dataframe thead th {\n        text-align: right;\n    }\n</style>\n<table border=\"1\" class=\"dataframe\">\n  <thead>\n    <tr style=\"text-align: right;\">\n      <th></th>\n      <th>title</th>\n      <th>score</th>\n      <th>id</th>\n      <th>url</th>\n      <th>comms_num</th>\n      <th>created</th>\n      <th>body</th>\n    </tr>\n    <tr>\n      <th>timestamp</th>\n      <th></th>\n      <th></th>\n      <th></th>\n      <th></th>\n      <th></th>\n      <th></th>\n      <th></th>\n    </tr>\n  </thead>\n  <tbody>\n    <tr>\n      <th>2020-09-29</th>\n      <td>$CBAT $SUNW $SPI $OXBR Y'all are missing the p...</td>\n      <td>4.000000</td>\n      <td>j1fmmo</td>\n      <td>https://www.reddit.com/r/wallstreetbets/commen...</td>\n      <td>11.000000</td>\n      <td>1.601340e+09</td>\n      <td>$CBAT is going to be a great play further yet:...</td>\n    </tr>\n    <tr>\n      <th>2021-01-28</th>\n      <td>It's not about the money, it's about sending a...</td>\n      <td>960.609023</td>\n      <td>l6ulcx||l6uibd||l6uhhn||l6ugk6||l6ufgy||l6uf7d...</td>\n      <td>https://v.redd.it/6j75regs72e61||https://v.red...</td>\n      <td>142.193818</td>\n      <td>1.611863e+09</td>\n      <td>NaN||NaN||The CEO of NASDAQ pushed to halt tra...</td>\n    </tr>\n    <tr>\n      <th>2021-01-29</th>\n      <td>Current data on GME short positions||ZOM||xspa...</td>\n      <td>408.457309</td>\n      <td>l6yxto||l6yxqf||l6yxjc||l6yx9l||l6yx9k||l6yx9c...</td>\n      <td>https://www.reddit.com/r/wallstreetbets/commen...</td>\n      <td>52.371288</td>\n      <td>1.611875e+09</td>\n      <td>Is there data on current short positions in GM...</td>\n    </tr>\n    <tr>\n      <th>2021-01-30</th>\n      <td>Fellow retards! Hold that shit. Don’t panic.||...</td>\n      <td>4618.594101</td>\n      <td>l7uyb5||l7uyae||l7uya6||l7uy9j||l7uy8r||l7uy8e...</td>\n      <td>https://www.reddit.com/r/wallstreetbets/commen...</td>\n      <td>515.766152</td>\n      <td>1.611962e+09</td>\n      <td>We got this! Buy more if you can||What's the t...</td>\n    </tr>\n    <tr>\n      <th>2021-01-31</th>\n      <td>WE ALL DID IT! CITRON IS THROWING IN THE TOWEL...</td>\n      <td>5230.513312</td>\n      <td>l8nv7s||l8o31w||l8oblj||l8obkv||l8obkm||l8obk3...</td>\n      <td>https://i.redd.it/rpase2bamhe61.jpg||https://w...</td>\n      <td>306.713525</td>\n      <td>1.612049e+09</td>\n      <td>NaN||I can’t help but feel that whilst it was ...</td>\n    </tr>\n    <tr>\n      <th>...</th>\n      <td>...</td>\n      <td>...</td>\n      <td>...</td>\n      <td>...</td>\n      <td>...</td>\n      <td>...</td>\n      <td>...</td>\n    </tr>\n    <tr>\n      <th>2021-08-12</th>\n      <td>Here you go you sick fucks $WISH||The guide to...</td>\n      <td>647.386667</td>\n      <td>p38oq7||p388pe||p3841a||p37krv||p371r9||p3719y...</td>\n      <td>https://i.redd.it/bmf0yo4fqzg71.jpg||https://w...</td>\n      <td>481.200000</td>\n      <td>1.628802e+09</td>\n      <td>NaN||As you are all aware the Haitian presiden...</td>\n    </tr>\n    <tr>\n      <th>2021-08-13</th>\n      <td>Would manny monitors help you make more or los...</td>\n      <td>773.593750</td>\n      <td>p3tl78||p3tino||p3sv76||p3sv17||p3s821||p3rjhp...</td>\n      <td>https://v.redd.it/w4lkj0upr6h71||https://i.red...</td>\n      <td>695.546875</td>\n      <td>1.628887e+09</td>\n      <td>NaN||NaN||Your weekend discussion thread. Plea...</td>\n    </tr>\n    <tr>\n      <th>2021-08-14</th>\n      <td>My First 3 Months with WSB||Nice monitors, I u...</td>\n      <td>1204.837838</td>\n      <td>p4e21n||p4df57||p4chcx||p4cfun||p4cdx5||p4bji7...</td>\n      <td>https://v.redd.it/9ldnh4figdh71||https://v.red...</td>\n      <td>153.783784</td>\n      <td>1.628968e+09</td>\n      <td>NaN||NaN||NaN||📷\\n\\nhttps://preview.redd.it/4o...</td>\n    </tr>\n    <tr>\n      <th>2021-08-15</th>\n      <td>UWMC Q2 EARNINGS CHEAT CODE!||$AMZN is up to s...</td>\n      <td>1210.619048</td>\n      <td>p517bu||p50n5p||p50kxh||p50ids||p4zwww||p4zpd6...</td>\n      <td>https://www.reddit.com/r/wallstreetbets/commen...</td>\n      <td>630.666667</td>\n      <td>1.629060e+09</td>\n      <td>At the bottom please find a link to a webinar ...</td>\n    </tr>\n    <tr>\n      <th>2021-08-16</th>\n      <td>The CLOV clinician letter is worth a read||Wat...</td>\n      <td>66.090909</td>\n      <td>p5ahrj||p59txq||p59a57||p599nb||p58soc||p58hq6...</td>\n      <td>https://www.reddit.com/r/wallstreetbets/commen...</td>\n      <td>28.272727</td>\n      <td>1.629095e+09</td>\n      <td>I am a doctor trained in internal medicine and...</td>\n    </tr>\n  </tbody>\n</table>\n<p>177 rows × 7 columns</p>\n</div>"
     },
     "metadata": {},
     "output_type": "display_data"
    }
   ],
   "source": [
    "\n",
    "dataPlug.aggregate_reddit_posts_daily()\n",
    "\n",
    "\n",
    "\n",
    "display(dataPlug.df)\n",
    "\n"
   ],
   "metadata": {
    "collapsed": false
   }
  },
  {
   "cell_type": "code",
   "execution_count": 8,
   "outputs": [
    {
     "data": {
      "text/plain": "     timestamp       Open        High        Low      Close  Adj Close  \\\n0   2020-09-29   2.500000    2.662500   2.482500   2.587500   2.587500   \n1   2021-01-28  66.250000  120.750000  28.062500  48.400002  48.400002   \n2   2021-01-29  94.927498  103.495003  62.500000  81.250000  81.250000   \n3   2021-02-01  79.139999   80.500000  53.000000  56.250000  56.250000   \n4   2021-02-02  35.189999   39.500000  18.555000  22.500000  22.500000   \n..         ...        ...         ...        ...        ...        ...   \n118 2021-08-10  40.340000   41.724998  38.837502  39.762501  39.762501   \n119 2021-08-11  39.607498   39.762501  38.654999  39.695000  39.695000   \n120 2021-08-12  39.970001   41.070000  39.332500  40.587502  40.587502   \n121 2021-08-13  40.117500   40.887501  39.352501  40.630001  40.630001   \n122 2021-08-16  40.250000   42.470001  39.790001  40.982498  40.982498   \n\n        Volume                                              title  \\\n0     20950400  $CBAT $SUNW $SPI $OXBR Y'all are missing the p...   \n1    235263200  It's not about the money, it's about sending a...   \n2    202264400  Current data on GME short positions||ZOM||xspa...   \n3    149528800  RH closing positions and limiting buying due t...   \n4    312732400  Bloomberg reports short interest down to 39% f...   \n..         ...                                                ...   \n118    6493200  Follow The Money - How To Catch Every Rotation...   \n119    3781600  GROW: the same guy who discovered GME in June ...   \n120    5271200  Here you go you sick fucks $WISH||The guide to...   \n121    4059200  Would manny monitors help you make more or los...   \n122    6290400  The CLOV clinician letter is worth a read||Wat...   \n\n           score   comms_num  \\\n0       4.000000   11.000000   \n1     960.609023  142.193818   \n2     408.457309   52.371288   \n3    4230.302036  531.211538   \n4     786.005326  101.698402   \n..           ...         ...   \n118   538.592593  630.555556   \n119   613.945055  365.296703   \n120   647.386667  481.200000   \n121   773.593750  695.546875   \n122    66.090909   28.272727   \n\n                                                  body  \n0    $CBAT is going to be a great play further yet:...  \n1    NaN||NaN||The CEO of NASDAQ pushed to halt tra...  \n2    Is there data on current short positions in GM...  \n3    This is another sign that we're definitely in ...  \n4    NaN||NaN||The news is saying Reddit (which wou...  \n..                                                 ...  \n118  # I. Introduction\\n\\nSorry for the wall of tex...  \n119   **Facts:**\\n\\n* Josh Klein is a deep-value in...  \n120  NaN||As you are all aware the Haitian presiden...  \n121  NaN||NaN||Your weekend discussion thread. Plea...  \n122  I am a doctor trained in internal medicine and...  \n\n[123 rows x 11 columns]",
      "text/html": "<div>\n<style scoped>\n    .dataframe tbody tr th:only-of-type {\n        vertical-align: middle;\n    }\n\n    .dataframe tbody tr th {\n        vertical-align: top;\n    }\n\n    .dataframe thead th {\n        text-align: right;\n    }\n</style>\n<table border=\"1\" class=\"dataframe\">\n  <thead>\n    <tr style=\"text-align: right;\">\n      <th></th>\n      <th>timestamp</th>\n      <th>Open</th>\n      <th>High</th>\n      <th>Low</th>\n      <th>Close</th>\n      <th>Adj Close</th>\n      <th>Volume</th>\n      <th>title</th>\n      <th>score</th>\n      <th>comms_num</th>\n      <th>body</th>\n    </tr>\n  </thead>\n  <tbody>\n    <tr>\n      <th>0</th>\n      <td>2020-09-29</td>\n      <td>2.500000</td>\n      <td>2.662500</td>\n      <td>2.482500</td>\n      <td>2.587500</td>\n      <td>2.587500</td>\n      <td>20950400</td>\n      <td>$CBAT $SUNW $SPI $OXBR Y'all are missing the p...</td>\n      <td>4.000000</td>\n      <td>11.000000</td>\n      <td>$CBAT is going to be a great play further yet:...</td>\n    </tr>\n    <tr>\n      <th>1</th>\n      <td>2021-01-28</td>\n      <td>66.250000</td>\n      <td>120.750000</td>\n      <td>28.062500</td>\n      <td>48.400002</td>\n      <td>48.400002</td>\n      <td>235263200</td>\n      <td>It's not about the money, it's about sending a...</td>\n      <td>960.609023</td>\n      <td>142.193818</td>\n      <td>NaN||NaN||The CEO of NASDAQ pushed to halt tra...</td>\n    </tr>\n    <tr>\n      <th>2</th>\n      <td>2021-01-29</td>\n      <td>94.927498</td>\n      <td>103.495003</td>\n      <td>62.500000</td>\n      <td>81.250000</td>\n      <td>81.250000</td>\n      <td>202264400</td>\n      <td>Current data on GME short positions||ZOM||xspa...</td>\n      <td>408.457309</td>\n      <td>52.371288</td>\n      <td>Is there data on current short positions in GM...</td>\n    </tr>\n    <tr>\n      <th>3</th>\n      <td>2021-02-01</td>\n      <td>79.139999</td>\n      <td>80.500000</td>\n      <td>53.000000</td>\n      <td>56.250000</td>\n      <td>56.250000</td>\n      <td>149528800</td>\n      <td>RH closing positions and limiting buying due t...</td>\n      <td>4230.302036</td>\n      <td>531.211538</td>\n      <td>This is another sign that we're definitely in ...</td>\n    </tr>\n    <tr>\n      <th>4</th>\n      <td>2021-02-02</td>\n      <td>35.189999</td>\n      <td>39.500000</td>\n      <td>18.555000</td>\n      <td>22.500000</td>\n      <td>22.500000</td>\n      <td>312732400</td>\n      <td>Bloomberg reports short interest down to 39% f...</td>\n      <td>786.005326</td>\n      <td>101.698402</td>\n      <td>NaN||NaN||The news is saying Reddit (which wou...</td>\n    </tr>\n    <tr>\n      <th>...</th>\n      <td>...</td>\n      <td>...</td>\n      <td>...</td>\n      <td>...</td>\n      <td>...</td>\n      <td>...</td>\n      <td>...</td>\n      <td>...</td>\n      <td>...</td>\n      <td>...</td>\n      <td>...</td>\n    </tr>\n    <tr>\n      <th>118</th>\n      <td>2021-08-10</td>\n      <td>40.340000</td>\n      <td>41.724998</td>\n      <td>38.837502</td>\n      <td>39.762501</td>\n      <td>39.762501</td>\n      <td>6493200</td>\n      <td>Follow The Money - How To Catch Every Rotation...</td>\n      <td>538.592593</td>\n      <td>630.555556</td>\n      <td># I. Introduction\\n\\nSorry for the wall of tex...</td>\n    </tr>\n    <tr>\n      <th>119</th>\n      <td>2021-08-11</td>\n      <td>39.607498</td>\n      <td>39.762501</td>\n      <td>38.654999</td>\n      <td>39.695000</td>\n      <td>39.695000</td>\n      <td>3781600</td>\n      <td>GROW: the same guy who discovered GME in June ...</td>\n      <td>613.945055</td>\n      <td>365.296703</td>\n      <td>**Facts:**\\n\\n* Josh Klein is a deep-value in...</td>\n    </tr>\n    <tr>\n      <th>120</th>\n      <td>2021-08-12</td>\n      <td>39.970001</td>\n      <td>41.070000</td>\n      <td>39.332500</td>\n      <td>40.587502</td>\n      <td>40.587502</td>\n      <td>5271200</td>\n      <td>Here you go you sick fucks $WISH||The guide to...</td>\n      <td>647.386667</td>\n      <td>481.200000</td>\n      <td>NaN||As you are all aware the Haitian presiden...</td>\n    </tr>\n    <tr>\n      <th>121</th>\n      <td>2021-08-13</td>\n      <td>40.117500</td>\n      <td>40.887501</td>\n      <td>39.352501</td>\n      <td>40.630001</td>\n      <td>40.630001</td>\n      <td>4059200</td>\n      <td>Would manny monitors help you make more or los...</td>\n      <td>773.593750</td>\n      <td>695.546875</td>\n      <td>NaN||NaN||Your weekend discussion thread. Plea...</td>\n    </tr>\n    <tr>\n      <th>122</th>\n      <td>2021-08-16</td>\n      <td>40.250000</td>\n      <td>42.470001</td>\n      <td>39.790001</td>\n      <td>40.982498</td>\n      <td>40.982498</td>\n      <td>6290400</td>\n      <td>The CLOV clinician letter is worth a read||Wat...</td>\n      <td>66.090909</td>\n      <td>28.272727</td>\n      <td>I am a doctor trained in internal medicine and...</td>\n    </tr>\n  </tbody>\n</table>\n<p>123 rows × 11 columns</p>\n</div>"
     },
     "metadata": {},
     "output_type": "display_data"
    }
   ],
   "source": [
    "# Merge the dataframes\n",
    "merged_df = dataPlug.priceDF.merge(dataPlug.df, how = 'inner', on = ['timestamp'])\n",
    "\n",
    "# Drop the columns we do not need\n",
    "\n",
    "merged_df = merged_df.drop(columns = ['id', 'url','created'])\n",
    "\n",
    "display(merged_df)"
   ],
   "metadata": {
    "collapsed": false
   }
  },
  {
   "cell_type": "code",
   "execution_count": null,
   "outputs": [],
   "source": [],
   "metadata": {
    "collapsed": false
   }
  }
 ],
 "metadata": {
  "kernelspec": {
   "display_name": "Python 3",
   "language": "python",
   "name": "python3"
  },
  "language_info": {
   "codemirror_mode": {
    "name": "ipython",
    "version": 2
   },
   "file_extension": ".py",
   "mimetype": "text/x-python",
   "name": "python",
   "nbconvert_exporter": "python",
   "pygments_lexer": "ipython2",
   "version": "2.7.6"
  }
 },
 "nbformat": 4,
 "nbformat_minor": 0
}
