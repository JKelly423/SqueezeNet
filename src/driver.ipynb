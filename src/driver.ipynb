{
 "cells": [
  {
   "cell_type": "code",
   "execution_count": 3,
   "metadata": {
    "collapsed": true
   },
   "outputs": [],
   "source": [
    "import pandas as pd\n",
    "\n",
    "from DataPlug import DataPlug as dp\n",
    "from SqueezeNet import SqueezeNet as sq"
   ]
  },
  {
   "cell_type": "code",
   "execution_count": 9,
   "outputs": [],
   "source": [
    "squeeze = sq(\"SqueezeNet\")\n",
    "dataPlug = dp(\"DataPlug\")\n"
   ],
   "metadata": {
    "collapsed": false
   }
  },
  {
   "cell_type": "code",
   "execution_count": 6,
   "outputs": [
    {
     "name": "stderr",
     "output_type": "stream",
     "text": [
      "C:\\Users\\jackk\\AppData\\Local\\Temp\\ipykernel_17748\\2779442282.py:1: DtypeWarning: Columns (5,7) have mixed types. Specify dtype option on import or set low_memory=False.\n",
      "  df = pd.read_csv('../data/r_wallstreetbets_posts.csv')\n"
     ]
    }
   ],
   "source": [],
   "metadata": {
    "collapsed": false
   }
  },
  {
   "cell_type": "code",
   "execution_count": 7,
   "outputs": [
    {
     "data": {
      "text/plain": "             id                                              title  score  \\\n0        ll0n5k                          Whats going on with PLTR?      1   \n1        ll0n4p  Need explanations on Level 2 data for GME, why...      1   \n2        ll0my2       XRT is being used as a laundry short machine      1   \n3        ll0mxr                                          Airlines?      1   \n4        ll0mx4                                         Buy TRXC 🚀      1   \n...         ...                                                ...    ...   \n1118858   shtex  EBAY posts higher 1Q net income and revenue, s...      7   \n1118859   se66f  Anyone betting on VVUS and their potential app...      1   \n1118860   sd5ai  My poorly timed opening position for AAPL earn...     12   \n1118861   s6r57         GOOG - beat estimates, price barely rises.      2   \n1118862   s4jw1         Earnings season is here.  Place your bets.     13   \n\n                   author author_flair_text removed_by  total_awards_received  \\\n0                Zaccko98               NaN  moderator                    0.0   \n1               toutoucnc       \u001B210115:1:1  moderator                    0.0   \n2                  thabat               NaN  moderator                    0.0   \n3             AsianTwink_               NaN  moderator                    0.0   \n4          Oneverystreet8               NaN  moderator                    0.0   \n...                   ...               ...        ...                    ...   \n1118858  secondhandsondek               NaN        NaN                    NaN   \n1118859         [deleted]               NaN        NaN                    NaN   \n1118860         [deleted]               NaN        NaN                    NaN   \n1118861         [deleted]               NaN        NaN                    NaN   \n1118862         [deleted]               NaN        NaN                    NaN   \n\n        awarders         created_utc  \\\n0             [] 2021-02-16 09:53:12   \n1             [] 2021-02-16 09:53:09   \n2             [] 2021-02-16 09:52:46   \n3             [] 2021-02-16 09:52:45   \n4             [] 2021-02-16 09:52:44   \n...          ...                 ...   \n1118858      NaN 2012-04-19 14:10:20   \n1118859      NaN 2012-04-17 13:41:30   \n1118860      NaN 2012-04-16 22:29:37   \n1118861      NaN 2012-04-12 20:37:31   \n1118862      NaN 2012-04-11 16:40:40   \n\n                                                 full_link  num_comments  \\\n0        https://www.reddit.com/r/wallstreetbets/commen...             2   \n1        https://www.reddit.com/r/wallstreetbets/commen...             2   \n2        https://www.reddit.com/r/wallstreetbets/commen...             2   \n3        https://www.reddit.com/r/wallstreetbets/commen...             2   \n4        https://www.reddit.com/r/wallstreetbets/commen...             2   \n...                                                    ...           ...   \n1118858  https://www.reddit.com/r/wallstreetbets/commen...             4   \n1118859  https://www.reddit.com/r/wallstreetbets/commen...             0   \n1118860  https://www.reddit.com/r/wallstreetbets/commen...            21   \n1118861  https://www.reddit.com/r/wallstreetbets/commen...             0   \n1118862  https://www.reddit.com/r/wallstreetbets/commen...            22   \n\n         over_18  timestamp  \n0          False 2021-02-16  \n1          False 2021-02-16  \n2          False 2021-02-16  \n3          False 2021-02-16  \n4          False 2021-02-16  \n...          ...        ...  \n1118858    False 2012-04-19  \n1118859    False 2012-04-17  \n1118860    False 2012-04-16  \n1118861    False 2012-04-12  \n1118862    False 2012-04-11  \n\n[1118863 rows x 13 columns]",
      "text/html": "<div>\n<style scoped>\n    .dataframe tbody tr th:only-of-type {\n        vertical-align: middle;\n    }\n\n    .dataframe tbody tr th {\n        vertical-align: top;\n    }\n\n    .dataframe thead th {\n        text-align: right;\n    }\n</style>\n<table border=\"1\" class=\"dataframe\">\n  <thead>\n    <tr style=\"text-align: right;\">\n      <th></th>\n      <th>id</th>\n      <th>title</th>\n      <th>score</th>\n      <th>author</th>\n      <th>author_flair_text</th>\n      <th>removed_by</th>\n      <th>total_awards_received</th>\n      <th>awarders</th>\n      <th>created_utc</th>\n      <th>full_link</th>\n      <th>num_comments</th>\n      <th>over_18</th>\n      <th>timestamp</th>\n    </tr>\n  </thead>\n  <tbody>\n    <tr>\n      <th>0</th>\n      <td>ll0n5k</td>\n      <td>Whats going on with PLTR?</td>\n      <td>1</td>\n      <td>Zaccko98</td>\n      <td>NaN</td>\n      <td>moderator</td>\n      <td>0.0</td>\n      <td>[]</td>\n      <td>2021-02-16 09:53:12</td>\n      <td>https://www.reddit.com/r/wallstreetbets/commen...</td>\n      <td>2</td>\n      <td>False</td>\n      <td>2021-02-16</td>\n    </tr>\n    <tr>\n      <th>1</th>\n      <td>ll0n4p</td>\n      <td>Need explanations on Level 2 data for GME, why...</td>\n      <td>1</td>\n      <td>toutoucnc</td>\n      <td>\u001B210115:1:1</td>\n      <td>moderator</td>\n      <td>0.0</td>\n      <td>[]</td>\n      <td>2021-02-16 09:53:09</td>\n      <td>https://www.reddit.com/r/wallstreetbets/commen...</td>\n      <td>2</td>\n      <td>False</td>\n      <td>2021-02-16</td>\n    </tr>\n    <tr>\n      <th>2</th>\n      <td>ll0my2</td>\n      <td>XRT is being used as a laundry short machine</td>\n      <td>1</td>\n      <td>thabat</td>\n      <td>NaN</td>\n      <td>moderator</td>\n      <td>0.0</td>\n      <td>[]</td>\n      <td>2021-02-16 09:52:46</td>\n      <td>https://www.reddit.com/r/wallstreetbets/commen...</td>\n      <td>2</td>\n      <td>False</td>\n      <td>2021-02-16</td>\n    </tr>\n    <tr>\n      <th>3</th>\n      <td>ll0mxr</td>\n      <td>Airlines?</td>\n      <td>1</td>\n      <td>AsianTwink_</td>\n      <td>NaN</td>\n      <td>moderator</td>\n      <td>0.0</td>\n      <td>[]</td>\n      <td>2021-02-16 09:52:45</td>\n      <td>https://www.reddit.com/r/wallstreetbets/commen...</td>\n      <td>2</td>\n      <td>False</td>\n      <td>2021-02-16</td>\n    </tr>\n    <tr>\n      <th>4</th>\n      <td>ll0mx4</td>\n      <td>Buy TRXC 🚀</td>\n      <td>1</td>\n      <td>Oneverystreet8</td>\n      <td>NaN</td>\n      <td>moderator</td>\n      <td>0.0</td>\n      <td>[]</td>\n      <td>2021-02-16 09:52:44</td>\n      <td>https://www.reddit.com/r/wallstreetbets/commen...</td>\n      <td>2</td>\n      <td>False</td>\n      <td>2021-02-16</td>\n    </tr>\n    <tr>\n      <th>...</th>\n      <td>...</td>\n      <td>...</td>\n      <td>...</td>\n      <td>...</td>\n      <td>...</td>\n      <td>...</td>\n      <td>...</td>\n      <td>...</td>\n      <td>...</td>\n      <td>...</td>\n      <td>...</td>\n      <td>...</td>\n      <td>...</td>\n    </tr>\n    <tr>\n      <th>1118858</th>\n      <td>shtex</td>\n      <td>EBAY posts higher 1Q net income and revenue, s...</td>\n      <td>7</td>\n      <td>secondhandsondek</td>\n      <td>NaN</td>\n      <td>NaN</td>\n      <td>NaN</td>\n      <td>NaN</td>\n      <td>2012-04-19 14:10:20</td>\n      <td>https://www.reddit.com/r/wallstreetbets/commen...</td>\n      <td>4</td>\n      <td>False</td>\n      <td>2012-04-19</td>\n    </tr>\n    <tr>\n      <th>1118859</th>\n      <td>se66f</td>\n      <td>Anyone betting on VVUS and their potential app...</td>\n      <td>1</td>\n      <td>[deleted]</td>\n      <td>NaN</td>\n      <td>NaN</td>\n      <td>NaN</td>\n      <td>NaN</td>\n      <td>2012-04-17 13:41:30</td>\n      <td>https://www.reddit.com/r/wallstreetbets/commen...</td>\n      <td>0</td>\n      <td>False</td>\n      <td>2012-04-17</td>\n    </tr>\n    <tr>\n      <th>1118860</th>\n      <td>sd5ai</td>\n      <td>My poorly timed opening position for AAPL earn...</td>\n      <td>12</td>\n      <td>[deleted]</td>\n      <td>NaN</td>\n      <td>NaN</td>\n      <td>NaN</td>\n      <td>NaN</td>\n      <td>2012-04-16 22:29:37</td>\n      <td>https://www.reddit.com/r/wallstreetbets/commen...</td>\n      <td>21</td>\n      <td>False</td>\n      <td>2012-04-16</td>\n    </tr>\n    <tr>\n      <th>1118861</th>\n      <td>s6r57</td>\n      <td>GOOG - beat estimates, price barely rises.</td>\n      <td>2</td>\n      <td>[deleted]</td>\n      <td>NaN</td>\n      <td>NaN</td>\n      <td>NaN</td>\n      <td>NaN</td>\n      <td>2012-04-12 20:37:31</td>\n      <td>https://www.reddit.com/r/wallstreetbets/commen...</td>\n      <td>0</td>\n      <td>False</td>\n      <td>2012-04-12</td>\n    </tr>\n    <tr>\n      <th>1118862</th>\n      <td>s4jw1</td>\n      <td>Earnings season is here.  Place your bets.</td>\n      <td>13</td>\n      <td>[deleted]</td>\n      <td>NaN</td>\n      <td>NaN</td>\n      <td>NaN</td>\n      <td>NaN</td>\n      <td>2012-04-11 16:40:40</td>\n      <td>https://www.reddit.com/r/wallstreetbets/commen...</td>\n      <td>22</td>\n      <td>False</td>\n      <td>2012-04-11</td>\n    </tr>\n  </tbody>\n</table>\n<p>1118863 rows × 13 columns</p>\n</div>"
     },
     "metadata": {},
     "output_type": "display_data"
    }
   ],
   "source": [
    "df = pd.read_csv('../data/r_wallstreetbets_posts.csv')\n",
    "# convert utc time to datetime\n",
    "df['created_utc'] = pd.to_datetime(df['created_utc'], unit='s')\n",
    "df['timestamp'] = df['created_utc'].astype('datetime64[ns]').dt.floor('D')\n",
    "\n",
    "display(df)"
   ],
   "metadata": {
    "collapsed": false
   }
  },
  {
   "cell_type": "code",
   "execution_count": 11,
   "outputs": [
    {
     "name": "stdout",
     "output_type": "stream",
     "text": [
      "id                       1118863\n",
      "title                    1015950\n",
      "score                       3385\n",
      "author                    475759\n",
      "author_flair_text           3291\n",
      "removed_by                     6\n",
      "total_awards_received        215\n",
      "awarders                       4\n",
      "created_utc               938412\n",
      "full_link                1118863\n",
      "num_comments                2913\n",
      "over_18                        2\n",
      "timestamp                   3020\n",
      "dtype: int64\n"
     ]
    }
   ],
   "source": [
    "print(df.nunique())"
   ],
   "metadata": {
    "collapsed": false
   }
  },
  {
   "cell_type": "code",
   "execution_count": 51,
   "outputs": [
    {
     "name": "stdout",
     "output_type": "stream",
     "text": [
      "title        52049\n",
      "score         5210\n",
      "id           53187\n",
      "url          53172\n",
      "comms_num     2045\n",
      "created      43460\n",
      "body         24147\n",
      "timestamp      177\n",
      "dtype: int64\n"
     ]
    },
    {
     "data": {
      "text/plain": "                                                   title  score      id  \\\n0      It's not about the money, it's about sending a...     55  l6ulcx   \n1      Math Professor Scott Steiner says the numbers ...    110  l6uibd   \n2                                        Exit the system      0  l6uhhn   \n3      NEW SEC FILING FOR GME! CAN SOMEONE LESS RETAR...     29  l6ugk6   \n4      Not to distract from GME, just thought our AMC...     71  l6ufgy   \n...                                                  ...    ...     ...   \n53182    What I Learned Investigating SAVA FUD Spreaders    238  owd2pn   \n53183  Daily Popular Tickers Thread for August 02, 20...    228  owd1a5   \n53184       Hitler reacts to the market being irrational   7398  owc5dr   \n53185        Daily Discussion Thread for August 02, 2021    338  owbfjf   \n53186  Fraternal Association of Gambling Gentlemen an...     40  owaqd6   \n\n                                                     url  comms_num  \\\n0                        https://v.redd.it/6j75regs72e61          6   \n1                        https://v.redd.it/ah50lyny62e61         23   \n2      https://www.reddit.com/r/wallstreetbets/commen...         47   \n3      https://sec.report/Document/0001193125-21-019848/         74   \n4                    https://i.redd.it/4h2sukb662e61.jpg        156   \n...                                                  ...        ...   \n53182  https://www.reddit.com/r/wallstreetbets/commen...         87   \n53183  https://www.reddit.com/r/wallstreetbets/commen...       1070   \n53184                    https://v.redd.it/46jxu074exe71        372   \n53185  https://www.reddit.com/r/wallstreetbets/commen...      11688   \n53186  https://www.reddit.com/r/wallstreetbets/commen...        810   \n\n            created                                               body  \\\n0      1.611863e+09                                                NaN   \n1      1.611862e+09                                                NaN   \n2      1.611862e+09  The CEO of NASDAQ pushed to halt trading “to g...   \n3      1.611862e+09                                                NaN   \n4      1.611862e+09                                                NaN   \n...             ...                                                ...   \n53182  1.627906e+09  ***TLDR: Three bitter scientists partnered up ...   \n53183  1.627906e+09  \\nYour daily hype thread. Please keep the shit...   \n53184  1.627902e+09                                                NaN   \n53185  1.627898e+09  Your daily trading discussion thread. Please k...   \n53186  1.627895e+09  This is an old Yacht Club thread. Click /u/Vis...   \n\n       timestamp  \n0     2021-01-28  \n1     2021-01-28  \n2     2021-01-28  \n3     2021-01-28  \n4     2021-01-28  \n...          ...  \n53182 2021-08-02  \n53183 2021-08-02  \n53184 2021-08-02  \n53185 2021-08-02  \n53186 2021-08-02  \n\n[53187 rows x 8 columns]",
      "text/html": "<div>\n<style scoped>\n    .dataframe tbody tr th:only-of-type {\n        vertical-align: middle;\n    }\n\n    .dataframe tbody tr th {\n        vertical-align: top;\n    }\n\n    .dataframe thead th {\n        text-align: right;\n    }\n</style>\n<table border=\"1\" class=\"dataframe\">\n  <thead>\n    <tr style=\"text-align: right;\">\n      <th></th>\n      <th>title</th>\n      <th>score</th>\n      <th>id</th>\n      <th>url</th>\n      <th>comms_num</th>\n      <th>created</th>\n      <th>body</th>\n      <th>timestamp</th>\n    </tr>\n  </thead>\n  <tbody>\n    <tr>\n      <th>0</th>\n      <td>It's not about the money, it's about sending a...</td>\n      <td>55</td>\n      <td>l6ulcx</td>\n      <td>https://v.redd.it/6j75regs72e61</td>\n      <td>6</td>\n      <td>1.611863e+09</td>\n      <td>NaN</td>\n      <td>2021-01-28</td>\n    </tr>\n    <tr>\n      <th>1</th>\n      <td>Math Professor Scott Steiner says the numbers ...</td>\n      <td>110</td>\n      <td>l6uibd</td>\n      <td>https://v.redd.it/ah50lyny62e61</td>\n      <td>23</td>\n      <td>1.611862e+09</td>\n      <td>NaN</td>\n      <td>2021-01-28</td>\n    </tr>\n    <tr>\n      <th>2</th>\n      <td>Exit the system</td>\n      <td>0</td>\n      <td>l6uhhn</td>\n      <td>https://www.reddit.com/r/wallstreetbets/commen...</td>\n      <td>47</td>\n      <td>1.611862e+09</td>\n      <td>The CEO of NASDAQ pushed to halt trading “to g...</td>\n      <td>2021-01-28</td>\n    </tr>\n    <tr>\n      <th>3</th>\n      <td>NEW SEC FILING FOR GME! CAN SOMEONE LESS RETAR...</td>\n      <td>29</td>\n      <td>l6ugk6</td>\n      <td>https://sec.report/Document/0001193125-21-019848/</td>\n      <td>74</td>\n      <td>1.611862e+09</td>\n      <td>NaN</td>\n      <td>2021-01-28</td>\n    </tr>\n    <tr>\n      <th>4</th>\n      <td>Not to distract from GME, just thought our AMC...</td>\n      <td>71</td>\n      <td>l6ufgy</td>\n      <td>https://i.redd.it/4h2sukb662e61.jpg</td>\n      <td>156</td>\n      <td>1.611862e+09</td>\n      <td>NaN</td>\n      <td>2021-01-28</td>\n    </tr>\n    <tr>\n      <th>...</th>\n      <td>...</td>\n      <td>...</td>\n      <td>...</td>\n      <td>...</td>\n      <td>...</td>\n      <td>...</td>\n      <td>...</td>\n      <td>...</td>\n    </tr>\n    <tr>\n      <th>53182</th>\n      <td>What I Learned Investigating SAVA FUD Spreaders</td>\n      <td>238</td>\n      <td>owd2pn</td>\n      <td>https://www.reddit.com/r/wallstreetbets/commen...</td>\n      <td>87</td>\n      <td>1.627906e+09</td>\n      <td>***TLDR: Three bitter scientists partnered up ...</td>\n      <td>2021-08-02</td>\n    </tr>\n    <tr>\n      <th>53183</th>\n      <td>Daily Popular Tickers Thread for August 02, 20...</td>\n      <td>228</td>\n      <td>owd1a5</td>\n      <td>https://www.reddit.com/r/wallstreetbets/commen...</td>\n      <td>1070</td>\n      <td>1.627906e+09</td>\n      <td>\\nYour daily hype thread. Please keep the shit...</td>\n      <td>2021-08-02</td>\n    </tr>\n    <tr>\n      <th>53184</th>\n      <td>Hitler reacts to the market being irrational</td>\n      <td>7398</td>\n      <td>owc5dr</td>\n      <td>https://v.redd.it/46jxu074exe71</td>\n      <td>372</td>\n      <td>1.627902e+09</td>\n      <td>NaN</td>\n      <td>2021-08-02</td>\n    </tr>\n    <tr>\n      <th>53185</th>\n      <td>Daily Discussion Thread for August 02, 2021</td>\n      <td>338</td>\n      <td>owbfjf</td>\n      <td>https://www.reddit.com/r/wallstreetbets/commen...</td>\n      <td>11688</td>\n      <td>1.627898e+09</td>\n      <td>Your daily trading discussion thread. Please k...</td>\n      <td>2021-08-02</td>\n    </tr>\n    <tr>\n      <th>53186</th>\n      <td>Fraternal Association of Gambling Gentlemen an...</td>\n      <td>40</td>\n      <td>owaqd6</td>\n      <td>https://www.reddit.com/r/wallstreetbets/commen...</td>\n      <td>810</td>\n      <td>1.627895e+09</td>\n      <td>This is an old Yacht Club thread. Click /u/Vis...</td>\n      <td>2021-08-02</td>\n    </tr>\n  </tbody>\n</table>\n<p>53187 rows × 8 columns</p>\n</div>"
     },
     "metadata": {},
     "output_type": "display_data"
    }
   ],
   "source": [
    "data = dataPlug.get_reddit_dataframe()\n",
    "\n",
    "print(dataPlug.df.nunique())\n",
    "\n",
    "display(dataPlug.df)"
   ],
   "metadata": {
    "collapsed": false
   }
  },
  {
   "cell_type": "code",
   "execution_count": 52,
   "outputs": [
    {
     "data": {
      "text/plain": "     timestamp     Open       High      Low      Close  Adj Close    Volume\n0   2020-09-01   1.8250   1.955000   1.6925   1.912500   1.912500  92634400\n1   2020-09-02   1.9500   2.012500   1.7775   1.927500   1.927500  52044400\n2   2020-09-03   1.9700   2.112500   1.8100   1.955000   1.955000  57378000\n3   2020-09-04   1.9450   1.980000   1.7925   1.912500   1.912500  30648000\n4   2020-09-08   1.8875   2.070000   1.8700   1.925000   1.925000  39266400\n..         ...      ...        ...      ...        ...        ...       ...\n653 2023-04-06  22.0000  22.670000  21.7700  22.400000  22.400000   2506900\n654 2023-04-10  21.8500  22.430000  21.8200  22.370001  22.370001   2176100\n655 2023-04-11  22.5700  23.170000  22.4200  22.690001  22.690001   2540000\n656 2023-04-12  22.9000  23.280001  22.2600  22.260000  22.260000   2141100\n657 2023-04-13  22.5000  22.850000  22.3300  22.549999  22.549999   1800800\n\n[658 rows x 7 columns]",
      "text/html": "<div>\n<style scoped>\n    .dataframe tbody tr th:only-of-type {\n        vertical-align: middle;\n    }\n\n    .dataframe tbody tr th {\n        vertical-align: top;\n    }\n\n    .dataframe thead th {\n        text-align: right;\n    }\n</style>\n<table border=\"1\" class=\"dataframe\">\n  <thead>\n    <tr style=\"text-align: right;\">\n      <th></th>\n      <th>timestamp</th>\n      <th>Open</th>\n      <th>High</th>\n      <th>Low</th>\n      <th>Close</th>\n      <th>Adj Close</th>\n      <th>Volume</th>\n    </tr>\n  </thead>\n  <tbody>\n    <tr>\n      <th>0</th>\n      <td>2020-09-01</td>\n      <td>1.8250</td>\n      <td>1.955000</td>\n      <td>1.6925</td>\n      <td>1.912500</td>\n      <td>1.912500</td>\n      <td>92634400</td>\n    </tr>\n    <tr>\n      <th>1</th>\n      <td>2020-09-02</td>\n      <td>1.9500</td>\n      <td>2.012500</td>\n      <td>1.7775</td>\n      <td>1.927500</td>\n      <td>1.927500</td>\n      <td>52044400</td>\n    </tr>\n    <tr>\n      <th>2</th>\n      <td>2020-09-03</td>\n      <td>1.9700</td>\n      <td>2.112500</td>\n      <td>1.8100</td>\n      <td>1.955000</td>\n      <td>1.955000</td>\n      <td>57378000</td>\n    </tr>\n    <tr>\n      <th>3</th>\n      <td>2020-09-04</td>\n      <td>1.9450</td>\n      <td>1.980000</td>\n      <td>1.7925</td>\n      <td>1.912500</td>\n      <td>1.912500</td>\n      <td>30648000</td>\n    </tr>\n    <tr>\n      <th>4</th>\n      <td>2020-09-08</td>\n      <td>1.8875</td>\n      <td>2.070000</td>\n      <td>1.8700</td>\n      <td>1.925000</td>\n      <td>1.925000</td>\n      <td>39266400</td>\n    </tr>\n    <tr>\n      <th>...</th>\n      <td>...</td>\n      <td>...</td>\n      <td>...</td>\n      <td>...</td>\n      <td>...</td>\n      <td>...</td>\n      <td>...</td>\n    </tr>\n    <tr>\n      <th>653</th>\n      <td>2023-04-06</td>\n      <td>22.0000</td>\n      <td>22.670000</td>\n      <td>21.7700</td>\n      <td>22.400000</td>\n      <td>22.400000</td>\n      <td>2506900</td>\n    </tr>\n    <tr>\n      <th>654</th>\n      <td>2023-04-10</td>\n      <td>21.8500</td>\n      <td>22.430000</td>\n      <td>21.8200</td>\n      <td>22.370001</td>\n      <td>22.370001</td>\n      <td>2176100</td>\n    </tr>\n    <tr>\n      <th>655</th>\n      <td>2023-04-11</td>\n      <td>22.5700</td>\n      <td>23.170000</td>\n      <td>22.4200</td>\n      <td>22.690001</td>\n      <td>22.690001</td>\n      <td>2540000</td>\n    </tr>\n    <tr>\n      <th>656</th>\n      <td>2023-04-12</td>\n      <td>22.9000</td>\n      <td>23.280001</td>\n      <td>22.2600</td>\n      <td>22.260000</td>\n      <td>22.260000</td>\n      <td>2141100</td>\n    </tr>\n    <tr>\n      <th>657</th>\n      <td>2023-04-13</td>\n      <td>22.5000</td>\n      <td>22.850000</td>\n      <td>22.3300</td>\n      <td>22.549999</td>\n      <td>22.549999</td>\n      <td>1800800</td>\n    </tr>\n  </tbody>\n</table>\n<p>658 rows × 7 columns</p>\n</div>"
     },
     "execution_count": 52,
     "metadata": {},
     "output_type": "execute_result"
    }
   ],
   "source": [
    "dataPlug.get_price_dataframe()"
   ],
   "metadata": {
    "collapsed": false
   }
  },
  {
   "cell_type": "code",
   "execution_count": 13,
   "outputs": [
    {
     "ename": "KeyError",
     "evalue": "'body'",
     "output_type": "error",
     "traceback": [
      "\u001B[1;31m---------------------------------------------------------------------------\u001B[0m",
      "\u001B[1;31mKeyError\u001B[0m                                  Traceback (most recent call last)",
      "File \u001B[1;32m~\\anaconda3\\envs\\MachineLearning\\lib\\site-packages\\pandas\\core\\indexes\\base.py:3803\u001B[0m, in \u001B[0;36mIndex.get_loc\u001B[1;34m(self, key, method, tolerance)\u001B[0m\n\u001B[0;32m   3802\u001B[0m \u001B[38;5;28;01mtry\u001B[39;00m:\n\u001B[1;32m-> 3803\u001B[0m     \u001B[38;5;28;01mreturn\u001B[39;00m \u001B[38;5;28;43mself\u001B[39;49m\u001B[38;5;241;43m.\u001B[39;49m\u001B[43m_engine\u001B[49m\u001B[38;5;241;43m.\u001B[39;49m\u001B[43mget_loc\u001B[49m\u001B[43m(\u001B[49m\u001B[43mcasted_key\u001B[49m\u001B[43m)\u001B[49m\n\u001B[0;32m   3804\u001B[0m \u001B[38;5;28;01mexcept\u001B[39;00m \u001B[38;5;167;01mKeyError\u001B[39;00m \u001B[38;5;28;01mas\u001B[39;00m err:\n",
      "File \u001B[1;32m~\\anaconda3\\envs\\MachineLearning\\lib\\site-packages\\pandas\\_libs\\index.pyx:138\u001B[0m, in \u001B[0;36mpandas._libs.index.IndexEngine.get_loc\u001B[1;34m()\u001B[0m\n",
      "File \u001B[1;32m~\\anaconda3\\envs\\MachineLearning\\lib\\site-packages\\pandas\\_libs\\index.pyx:165\u001B[0m, in \u001B[0;36mpandas._libs.index.IndexEngine.get_loc\u001B[1;34m()\u001B[0m\n",
      "File \u001B[1;32mpandas\\_libs\\hashtable_class_helper.pxi:5745\u001B[0m, in \u001B[0;36mpandas._libs.hashtable.PyObjectHashTable.get_item\u001B[1;34m()\u001B[0m\n",
      "File \u001B[1;32mpandas\\_libs\\hashtable_class_helper.pxi:5753\u001B[0m, in \u001B[0;36mpandas._libs.hashtable.PyObjectHashTable.get_item\u001B[1;34m()\u001B[0m\n",
      "\u001B[1;31mKeyError\u001B[0m: 'body'",
      "\nThe above exception was the direct cause of the following exception:\n",
      "\u001B[1;31mKeyError\u001B[0m                                  Traceback (most recent call last)",
      "Cell \u001B[1;32mIn[13], line 2\u001B[0m\n\u001B[0;32m      1\u001B[0m dataPlug\u001B[38;5;241m.\u001B[39mdf \u001B[38;5;241m=\u001B[39m df\n\u001B[1;32m----> 2\u001B[0m \u001B[43mdataPlug\u001B[49m\u001B[38;5;241;43m.\u001B[39;49m\u001B[43maggregate_reddit_posts_daily\u001B[49m\u001B[43m(\u001B[49m\u001B[43m)\u001B[49m\n\u001B[0;32m      6\u001B[0m display(dataPlug\u001B[38;5;241m.\u001B[39mdf)\n",
      "File \u001B[1;32m~\\Documents\\Abroad Classes\\Computational Analysis of Big Data\\SqueezeNet\\src\\DataPlug.py:137\u001B[0m, in \u001B[0;36mDataPlug.aggregate_reddit_posts_daily\u001B[1;34m(self)\u001B[0m\n\u001B[0;32m    134\u001B[0m agg_func \u001B[38;5;241m=\u001B[39m {\u001B[38;5;124m'\u001B[39m\u001B[38;5;124mtitle\u001B[39m\u001B[38;5;124m'\u001B[39m: \u001B[38;5;28mlist\u001B[39m, \u001B[38;5;124m'\u001B[39m\u001B[38;5;124mscore\u001B[39m\u001B[38;5;124m'\u001B[39m: \u001B[38;5;124m'\u001B[39m\u001B[38;5;124mmean\u001B[39m\u001B[38;5;124m'\u001B[39m, \u001B[38;5;124m'\u001B[39m\u001B[38;5;124mid\u001B[39m\u001B[38;5;124m'\u001B[39m: \u001B[38;5;28mlist\u001B[39m, \u001B[38;5;124m'\u001B[39m\u001B[38;5;124murl\u001B[39m\u001B[38;5;124m'\u001B[39m: \u001B[38;5;28mlist\u001B[39m, \u001B[38;5;124m'\u001B[39m\u001B[38;5;124mcomms_num\u001B[39m\u001B[38;5;124m'\u001B[39m: \u001B[38;5;124m'\u001B[39m\u001B[38;5;124mmean\u001B[39m\u001B[38;5;124m'\u001B[39m, \u001B[38;5;124m'\u001B[39m\u001B[38;5;124mcreated\u001B[39m\u001B[38;5;124m'\u001B[39m: \u001B[38;5;124m'\u001B[39m\u001B[38;5;124mfirst\u001B[39m\u001B[38;5;124m'\u001B[39m, \u001B[38;5;124m'\u001B[39m\u001B[38;5;124mbody\u001B[39m\u001B[38;5;124m'\u001B[39m: \u001B[38;5;28mlist\u001B[39m}\n\u001B[0;32m    136\u001B[0m \u001B[38;5;66;03m# Replace NaN values with 'NaN'\u001B[39;00m\n\u001B[1;32m--> 137\u001B[0m \u001B[38;5;28mself\u001B[39m\u001B[38;5;241m.\u001B[39mdf[\u001B[38;5;124m'\u001B[39m\u001B[38;5;124mbody\u001B[39m\u001B[38;5;124m'\u001B[39m] \u001B[38;5;241m=\u001B[39m \u001B[38;5;28;43mself\u001B[39;49m\u001B[38;5;241;43m.\u001B[39;49m\u001B[43mdf\u001B[49m\u001B[43m[\u001B[49m\u001B[38;5;124;43m'\u001B[39;49m\u001B[38;5;124;43mbody\u001B[39;49m\u001B[38;5;124;43m'\u001B[39;49m\u001B[43m]\u001B[49m\u001B[38;5;241m.\u001B[39mfillna(\u001B[38;5;124m'\u001B[39m\u001B[38;5;124mNaN\u001B[39m\u001B[38;5;124m'\u001B[39m)\n\u001B[0;32m    138\u001B[0m \u001B[38;5;66;03m# Group by date and aggregate\u001B[39;00m\n\u001B[0;32m    139\u001B[0m df_new \u001B[38;5;241m=\u001B[39m \u001B[38;5;28mself\u001B[39m\u001B[38;5;241m.\u001B[39mdf\u001B[38;5;241m.\u001B[39mgroupby(\u001B[38;5;28mself\u001B[39m\u001B[38;5;241m.\u001B[39mdf[\u001B[38;5;124m'\u001B[39m\u001B[38;5;124mtimestamp\u001B[39m\u001B[38;5;124m'\u001B[39m])\u001B[38;5;241m.\u001B[39maggregate(agg_func)\n",
      "File \u001B[1;32m~\\anaconda3\\envs\\MachineLearning\\lib\\site-packages\\pandas\\core\\frame.py:3805\u001B[0m, in \u001B[0;36mDataFrame.__getitem__\u001B[1;34m(self, key)\u001B[0m\n\u001B[0;32m   3803\u001B[0m \u001B[38;5;28;01mif\u001B[39;00m \u001B[38;5;28mself\u001B[39m\u001B[38;5;241m.\u001B[39mcolumns\u001B[38;5;241m.\u001B[39mnlevels \u001B[38;5;241m>\u001B[39m \u001B[38;5;241m1\u001B[39m:\n\u001B[0;32m   3804\u001B[0m     \u001B[38;5;28;01mreturn\u001B[39;00m \u001B[38;5;28mself\u001B[39m\u001B[38;5;241m.\u001B[39m_getitem_multilevel(key)\n\u001B[1;32m-> 3805\u001B[0m indexer \u001B[38;5;241m=\u001B[39m \u001B[38;5;28;43mself\u001B[39;49m\u001B[38;5;241;43m.\u001B[39;49m\u001B[43mcolumns\u001B[49m\u001B[38;5;241;43m.\u001B[39;49m\u001B[43mget_loc\u001B[49m\u001B[43m(\u001B[49m\u001B[43mkey\u001B[49m\u001B[43m)\u001B[49m\n\u001B[0;32m   3806\u001B[0m \u001B[38;5;28;01mif\u001B[39;00m is_integer(indexer):\n\u001B[0;32m   3807\u001B[0m     indexer \u001B[38;5;241m=\u001B[39m [indexer]\n",
      "File \u001B[1;32m~\\anaconda3\\envs\\MachineLearning\\lib\\site-packages\\pandas\\core\\indexes\\base.py:3805\u001B[0m, in \u001B[0;36mIndex.get_loc\u001B[1;34m(self, key, method, tolerance)\u001B[0m\n\u001B[0;32m   3803\u001B[0m     \u001B[38;5;28;01mreturn\u001B[39;00m \u001B[38;5;28mself\u001B[39m\u001B[38;5;241m.\u001B[39m_engine\u001B[38;5;241m.\u001B[39mget_loc(casted_key)\n\u001B[0;32m   3804\u001B[0m \u001B[38;5;28;01mexcept\u001B[39;00m \u001B[38;5;167;01mKeyError\u001B[39;00m \u001B[38;5;28;01mas\u001B[39;00m err:\n\u001B[1;32m-> 3805\u001B[0m     \u001B[38;5;28;01mraise\u001B[39;00m \u001B[38;5;167;01mKeyError\u001B[39;00m(key) \u001B[38;5;28;01mfrom\u001B[39;00m \u001B[38;5;21;01merr\u001B[39;00m\n\u001B[0;32m   3806\u001B[0m \u001B[38;5;28;01mexcept\u001B[39;00m \u001B[38;5;167;01mTypeError\u001B[39;00m:\n\u001B[0;32m   3807\u001B[0m     \u001B[38;5;66;03m# If we have a listlike key, _check_indexing_error will raise\u001B[39;00m\n\u001B[0;32m   3808\u001B[0m     \u001B[38;5;66;03m#  InvalidIndexError. Otherwise we fall through and re-raise\u001B[39;00m\n\u001B[0;32m   3809\u001B[0m     \u001B[38;5;66;03m#  the TypeError.\u001B[39;00m\n\u001B[0;32m   3810\u001B[0m     \u001B[38;5;28mself\u001B[39m\u001B[38;5;241m.\u001B[39m_check_indexing_error(key)\n",
      "\u001B[1;31mKeyError\u001B[0m: 'body'"
     ]
    }
   ],
   "source": [
    "dataPlug.df = df\n",
    "dataPlug.aggregate_reddit_posts_daily()\n",
    "\n",
    "\n",
    "\n",
    "display(dataPlug.df)\n",
    "\n"
   ],
   "metadata": {
    "collapsed": false
   }
  },
  {
   "cell_type": "code",
   "execution_count": 54,
   "outputs": [
    {
     "data": {
      "text/plain": "     timestamp       Open        High        Low      Close  Adj Close  \\\n0   2020-09-29   2.500000    2.662500   2.482500   2.587500   2.587500   \n1   2021-01-28  66.250000  120.750000  28.062500  48.400002  48.400002   \n2   2021-01-29  94.927498  103.495003  62.500000  81.250000  81.250000   \n3   2021-02-01  79.139999   80.500000  53.000000  56.250000  56.250000   \n4   2021-02-02  35.189999   39.500000  18.555000  22.500000  22.500000   \n..         ...        ...         ...        ...        ...        ...   \n118 2021-08-10  40.340000   41.724998  38.837502  39.762501  39.762501   \n119 2021-08-11  39.607498   39.762501  38.654999  39.695000  39.695000   \n120 2021-08-12  39.970001   41.070000  39.332500  40.587502  40.587502   \n121 2021-08-13  40.117500   40.887501  39.352501  40.630001  40.630001   \n122 2021-08-16  40.250000   42.470001  39.790001  40.982498  40.982498   \n\n        Volume                                              title  \\\n0     20950400  $CBAT $SUNW $SPI $OXBR Y'all are missing the p...   \n1    235263200  It's not about the money, it's about sending a...   \n2    202264400  Current data on GME short positions||ZOM||xspa...   \n3    149528800  RH closing positions and limiting buying due t...   \n4    312732400  Bloomberg reports short interest down to 39% f...   \n..         ...                                                ...   \n118    6493200  Follow The Money - How To Catch Every Rotation...   \n119    3781600  GROW: the same guy who discovered GME in June ...   \n120    5271200  Here you go you sick fucks $WISH||The guide to...   \n121    4059200  Would manny monitors help you make more or los...   \n122    6290400  The CLOV clinician letter is worth a read||Wat...   \n\n           score   comms_num  \\\n0       4.000000   11.000000   \n1     960.609023  142.193818   \n2     408.457309   52.371288   \n3    4230.302036  531.211538   \n4     786.005326  101.698402   \n..           ...         ...   \n118   538.592593  630.555556   \n119   613.945055  365.296703   \n120   647.386667  481.200000   \n121   773.593750  695.546875   \n122    66.090909   28.272727   \n\n                                                  body  \n0    $CBAT is going to be a great play further yet:...  \n1    NaN||NaN||The CEO of NASDAQ pushed to halt tra...  \n2    Is there data on current short positions in GM...  \n3    This is another sign that we're definitely in ...  \n4    NaN||NaN||The news is saying Reddit (which wou...  \n..                                                 ...  \n118  # I. Introduction\\n\\nSorry for the wall of tex...  \n119   **Facts:**\\n\\n* Josh Klein is a deep-value in...  \n120  NaN||As you are all aware the Haitian presiden...  \n121  NaN||NaN||Your weekend discussion thread. Plea...  \n122  I am a doctor trained in internal medicine and...  \n\n[123 rows x 11 columns]",
      "text/html": "<div>\n<style scoped>\n    .dataframe tbody tr th:only-of-type {\n        vertical-align: middle;\n    }\n\n    .dataframe tbody tr th {\n        vertical-align: top;\n    }\n\n    .dataframe thead th {\n        text-align: right;\n    }\n</style>\n<table border=\"1\" class=\"dataframe\">\n  <thead>\n    <tr style=\"text-align: right;\">\n      <th></th>\n      <th>timestamp</th>\n      <th>Open</th>\n      <th>High</th>\n      <th>Low</th>\n      <th>Close</th>\n      <th>Adj Close</th>\n      <th>Volume</th>\n      <th>title</th>\n      <th>score</th>\n      <th>comms_num</th>\n      <th>body</th>\n    </tr>\n  </thead>\n  <tbody>\n    <tr>\n      <th>0</th>\n      <td>2020-09-29</td>\n      <td>2.500000</td>\n      <td>2.662500</td>\n      <td>2.482500</td>\n      <td>2.587500</td>\n      <td>2.587500</td>\n      <td>20950400</td>\n      <td>$CBAT $SUNW $SPI $OXBR Y'all are missing the p...</td>\n      <td>4.000000</td>\n      <td>11.000000</td>\n      <td>$CBAT is going to be a great play further yet:...</td>\n    </tr>\n    <tr>\n      <th>1</th>\n      <td>2021-01-28</td>\n      <td>66.250000</td>\n      <td>120.750000</td>\n      <td>28.062500</td>\n      <td>48.400002</td>\n      <td>48.400002</td>\n      <td>235263200</td>\n      <td>It's not about the money, it's about sending a...</td>\n      <td>960.609023</td>\n      <td>142.193818</td>\n      <td>NaN||NaN||The CEO of NASDAQ pushed to halt tra...</td>\n    </tr>\n    <tr>\n      <th>2</th>\n      <td>2021-01-29</td>\n      <td>94.927498</td>\n      <td>103.495003</td>\n      <td>62.500000</td>\n      <td>81.250000</td>\n      <td>81.250000</td>\n      <td>202264400</td>\n      <td>Current data on GME short positions||ZOM||xspa...</td>\n      <td>408.457309</td>\n      <td>52.371288</td>\n      <td>Is there data on current short positions in GM...</td>\n    </tr>\n    <tr>\n      <th>3</th>\n      <td>2021-02-01</td>\n      <td>79.139999</td>\n      <td>80.500000</td>\n      <td>53.000000</td>\n      <td>56.250000</td>\n      <td>56.250000</td>\n      <td>149528800</td>\n      <td>RH closing positions and limiting buying due t...</td>\n      <td>4230.302036</td>\n      <td>531.211538</td>\n      <td>This is another sign that we're definitely in ...</td>\n    </tr>\n    <tr>\n      <th>4</th>\n      <td>2021-02-02</td>\n      <td>35.189999</td>\n      <td>39.500000</td>\n      <td>18.555000</td>\n      <td>22.500000</td>\n      <td>22.500000</td>\n      <td>312732400</td>\n      <td>Bloomberg reports short interest down to 39% f...</td>\n      <td>786.005326</td>\n      <td>101.698402</td>\n      <td>NaN||NaN||The news is saying Reddit (which wou...</td>\n    </tr>\n    <tr>\n      <th>...</th>\n      <td>...</td>\n      <td>...</td>\n      <td>...</td>\n      <td>...</td>\n      <td>...</td>\n      <td>...</td>\n      <td>...</td>\n      <td>...</td>\n      <td>...</td>\n      <td>...</td>\n      <td>...</td>\n    </tr>\n    <tr>\n      <th>118</th>\n      <td>2021-08-10</td>\n      <td>40.340000</td>\n      <td>41.724998</td>\n      <td>38.837502</td>\n      <td>39.762501</td>\n      <td>39.762501</td>\n      <td>6493200</td>\n      <td>Follow The Money - How To Catch Every Rotation...</td>\n      <td>538.592593</td>\n      <td>630.555556</td>\n      <td># I. Introduction\\n\\nSorry for the wall of tex...</td>\n    </tr>\n    <tr>\n      <th>119</th>\n      <td>2021-08-11</td>\n      <td>39.607498</td>\n      <td>39.762501</td>\n      <td>38.654999</td>\n      <td>39.695000</td>\n      <td>39.695000</td>\n      <td>3781600</td>\n      <td>GROW: the same guy who discovered GME in June ...</td>\n      <td>613.945055</td>\n      <td>365.296703</td>\n      <td>**Facts:**\\n\\n* Josh Klein is a deep-value in...</td>\n    </tr>\n    <tr>\n      <th>120</th>\n      <td>2021-08-12</td>\n      <td>39.970001</td>\n      <td>41.070000</td>\n      <td>39.332500</td>\n      <td>40.587502</td>\n      <td>40.587502</td>\n      <td>5271200</td>\n      <td>Here you go you sick fucks $WISH||The guide to...</td>\n      <td>647.386667</td>\n      <td>481.200000</td>\n      <td>NaN||As you are all aware the Haitian presiden...</td>\n    </tr>\n    <tr>\n      <th>121</th>\n      <td>2021-08-13</td>\n      <td>40.117500</td>\n      <td>40.887501</td>\n      <td>39.352501</td>\n      <td>40.630001</td>\n      <td>40.630001</td>\n      <td>4059200</td>\n      <td>Would manny monitors help you make more or los...</td>\n      <td>773.593750</td>\n      <td>695.546875</td>\n      <td>NaN||NaN||Your weekend discussion thread. Plea...</td>\n    </tr>\n    <tr>\n      <th>122</th>\n      <td>2021-08-16</td>\n      <td>40.250000</td>\n      <td>42.470001</td>\n      <td>39.790001</td>\n      <td>40.982498</td>\n      <td>40.982498</td>\n      <td>6290400</td>\n      <td>The CLOV clinician letter is worth a read||Wat...</td>\n      <td>66.090909</td>\n      <td>28.272727</td>\n      <td>I am a doctor trained in internal medicine and...</td>\n    </tr>\n  </tbody>\n</table>\n<p>123 rows × 11 columns</p>\n</div>"
     },
     "metadata": {},
     "output_type": "display_data"
    }
   ],
   "source": [
    "# Merge the dataframes\n",
    "dataPlug.merge_dataframes()\n",
    "\n",
    "\n",
    "display(dataPlug.mergedDF)"
   ],
   "metadata": {
    "collapsed": false
   }
  },
  {
   "cell_type": "code",
   "execution_count": 9,
   "outputs": [
    {
     "name": "stdout",
     "output_type": "stream",
     "text": [
      "Completed 0 of 123 posts | 0.0210 seconds | 0.0222 seconds total\n",
      "Completed 1 of 123 posts | 5.4829 seconds | 5.5053 seconds total\n",
      "Completed 3 of 123 posts | 6.1364 seconds | 11.6418 seconds total\n",
      "Completed 4 of 123 posts | 18.2897 seconds | 29.9317 seconds total\n",
      "Completed 5 of 123 posts | 49.4571 seconds | 79.3889 seconds total\n",
      "Completed 6 of 123 posts | 13.4183 seconds | 92.8082 seconds total\n",
      "Completed 7 of 123 posts | 29.0384 seconds | 121.8468 seconds total\n",
      "Completed 8 of 123 posts | 0.3743 seconds | 122.2212 seconds total\n",
      "Completed 9 of 123 posts | 0.0754 seconds | 122.2967 seconds total\n",
      "Completed 10 of 123 posts | 0.1507 seconds | 122.4474 seconds total\n",
      "Completed 11 of 123 posts | 0.0889 seconds | 122.5364 seconds total\n",
      "Completed 12 of 123 posts | 0.1103 seconds | 122.6469 seconds total\n",
      "Completed 13 of 123 posts | 0.0301 seconds | 122.6770 seconds total\n",
      "Completed 14 of 123 posts | 0.1198 seconds | 122.7969 seconds total\n",
      "Completed 15 of 123 posts | 0.2741 seconds | 123.0711 seconds total\n",
      "Completed 16 of 123 posts | 0.4837 seconds | 123.5549 seconds total\n",
      "Completed 17 of 123 posts | 0.0605 seconds | 123.6156 seconds total\n",
      "Completed 18 of 123 posts | 0.3324 seconds | 123.9480 seconds total\n",
      "Completed 19 of 123 posts | 0.2429 seconds | 124.1910 seconds total\n",
      "Completed 20 of 123 posts | 1.2209 seconds | 125.4121 seconds total\n",
      "Completed 21 of 123 posts | 1.8031 seconds | 127.2153 seconds total\n",
      "Completed 22 of 123 posts | 0.0759 seconds | 127.2914 seconds total\n",
      "Completed 23 of 123 posts | 0.7452 seconds | 128.0367 seconds total\n",
      "Completed 24 of 123 posts | 1.9307 seconds | 129.9675 seconds total\n",
      "Completed 25 of 123 posts | 1.0043 seconds | 130.9720 seconds total\n",
      "Completed 26 of 123 posts | 0.8908 seconds | 131.8629 seconds total\n",
      "Completed 27 of 123 posts | 0.0807 seconds | 131.9437 seconds total\n",
      "Completed 28 of 123 posts | 0.8177 seconds | 132.7614 seconds total\n",
      "Completed 29 of 123 posts | 2.4987 seconds | 135.2602 seconds total\n",
      "Completed 30 of 123 posts | 1.8238 seconds | 137.0841 seconds total\n",
      "Completed 31 of 123 posts | 0.5922 seconds | 137.6765 seconds total\n",
      "Completed 32 of 123 posts | 0.0548 seconds | 137.7314 seconds total\n",
      "Completed 33 of 123 posts | 0.2732 seconds | 138.0047 seconds total\n",
      "Completed 34 of 123 posts | 0.2825 seconds | 138.2873 seconds total\n",
      "Completed 35 of 123 posts | 0.2683 seconds | 138.5557 seconds total\n",
      "Completed 36 of 123 posts | 0.2135 seconds | 138.7693 seconds total\n",
      "Completed 37 of 123 posts | 0.0285 seconds | 138.7979 seconds total\n",
      "Completed 38 of 123 posts | 0.0600 seconds | 138.8579 seconds total\n",
      "Completed 39 of 123 posts | 0.1050 seconds | 138.9630 seconds total\n",
      "Completed 40 of 123 posts | 0.4764 seconds | 139.4394 seconds total\n",
      "Completed 41 of 123 posts | 0.2132 seconds | 139.6530 seconds total\n",
      "Completed 42 of 123 posts | 0.0251 seconds | 139.6783 seconds total\n",
      "Completed 43 of 123 posts | 0.0617 seconds | 139.7400 seconds total\n",
      "Completed 44 of 123 posts | 0.0455 seconds | 139.7856 seconds total\n",
      "Completed 45 of 123 posts | 0.0878 seconds | 139.8735 seconds total\n",
      "Completed 46 of 123 posts | 0.0174 seconds | 139.8911 seconds total\n",
      "Completed 47 of 123 posts | 0.0451 seconds | 139.9362 seconds total\n",
      "Completed 48 of 123 posts | 0.0280 seconds | 139.9643 seconds total\n",
      "Completed 49 of 123 posts | 0.0316 seconds | 139.9959 seconds total\n",
      "Completed 50 of 123 posts | 0.0663 seconds | 140.0623 seconds total\n",
      "Completed 51 of 123 posts | 0.0176 seconds | 140.0799 seconds total\n",
      "Completed 52 of 123 posts | 0.0728 seconds | 140.1527 seconds total\n",
      "Completed 53 of 123 posts | 0.1019 seconds | 140.2549 seconds total\n",
      "Completed 54 of 123 posts | 0.0394 seconds | 140.2943 seconds total\n",
      "Completed 55 of 123 posts | 0.0438 seconds | 140.3381 seconds total\n",
      "Completed 56 of 123 posts | 0.0084 seconds | 140.3466 seconds total\n",
      "Completed 57 of 123 posts | 0.0305 seconds | 140.3771 seconds total\n",
      "Completed 58 of 123 posts | 0.0326 seconds | 140.4098 seconds total\n",
      "Completed 59 of 123 posts | 0.0207 seconds | 140.4307 seconds total\n",
      "Completed 60 of 123 posts | 0.0154 seconds | 140.4462 seconds total\n",
      "Completed 61 of 123 posts | 0.0085 seconds | 140.4547 seconds total\n",
      "Completed 62 of 123 posts | 0.0604 seconds | 140.5151 seconds total\n",
      "Completed 63 of 123 posts | 0.0350 seconds | 140.5501 seconds total\n",
      "Completed 64 of 123 posts | 0.0422 seconds | 140.5923 seconds total\n",
      "Completed 65 of 123 posts | 0.0228 seconds | 140.6153 seconds total\n",
      "Completed 66 of 123 posts | 0.0157 seconds | 140.6310 seconds total\n",
      "Completed 67 of 123 posts | 0.0956 seconds | 140.7266 seconds total\n",
      "Completed 68 of 123 posts | 0.1182 seconds | 140.8449 seconds total\n",
      "Completed 69 of 123 posts | 0.0191 seconds | 140.8641 seconds total\n",
      "Completed 70 of 123 posts | 0.0552 seconds | 140.9193 seconds total\n",
      "Completed 71 of 123 posts | 0.0382 seconds | 140.9576 seconds total\n",
      "Completed 72 of 123 posts | 0.0415 seconds | 140.9991 seconds total\n",
      "Completed 73 of 123 posts | 0.0598 seconds | 141.0589 seconds total\n",
      "Completed 74 of 123 posts | 0.0108 seconds | 141.0699 seconds total\n",
      "Completed 75 of 123 posts | 0.0233 seconds | 141.0932 seconds total\n",
      "Completed 76 of 123 posts | 0.0191 seconds | 141.1124 seconds total\n",
      "Completed 77 of 123 posts | 0.0240 seconds | 141.1364 seconds total\n",
      "Completed 78 of 123 posts | 0.0261 seconds | 141.1626 seconds total\n",
      "Completed 79 of 123 posts | 0.0125 seconds | 141.1751 seconds total\n",
      "Completed 80 of 123 posts | 0.0351 seconds | 141.2102 seconds total\n",
      "Completed 81 of 123 posts | 0.0308 seconds | 141.2411 seconds total\n",
      "Completed 82 of 123 posts | 0.0757 seconds | 141.3168 seconds total\n",
      "Completed 83 of 123 posts | 0.1292 seconds | 141.4461 seconds total\n",
      "Completed 84 of 123 posts | 0.0087 seconds | 141.4548 seconds total\n",
      "Completed 85 of 123 posts | 0.1914 seconds | 141.6462 seconds total\n",
      "Completed 86 of 123 posts | 0.5887 seconds | 142.2350 seconds total\n",
      "Completed 87 of 123 posts | 0.0569 seconds | 142.2920 seconds total\n",
      "Completed 88 of 123 posts | 0.1780 seconds | 142.4700 seconds total\n",
      "Completed 89 of 123 posts | 0.1235 seconds | 142.5937 seconds total\n",
      "Completed 90 of 123 posts | 0.1343 seconds | 142.7280 seconds total\n",
      "Completed 91 of 123 posts | 0.0184 seconds | 142.7465 seconds total\n",
      "Completed 92 of 123 posts | 0.0695 seconds | 142.8160 seconds total\n",
      "Completed 93 of 123 posts | 0.1711 seconds | 142.9872 seconds total\n",
      "Completed 94 of 123 posts | 0.1048 seconds | 143.0921 seconds total\n",
      "Completed 95 of 123 posts | 0.0700 seconds | 143.1621 seconds total\n",
      "Completed 96 of 123 posts | 0.0067 seconds | 143.1689 seconds total\n",
      "Completed 97 of 123 posts | 0.2005 seconds | 143.3694 seconds total\n",
      "Completed 98 of 123 posts | 0.0205 seconds | 143.3900 seconds total\n",
      "Completed 99 of 123 posts | 0.0740 seconds | 143.4640 seconds total\n",
      "Completed 100 of 123 posts | 0.0463 seconds | 143.5104 seconds total\n",
      "Completed 101 of 123 posts | 0.0275 seconds | 143.5379 seconds total\n",
      "Completed 102 of 123 posts | 0.0100 seconds | 143.5479 seconds total\n",
      "Completed 103 of 123 posts | 0.0340 seconds | 143.5820 seconds total\n",
      "Completed 104 of 123 posts | 0.0333 seconds | 143.6155 seconds total\n",
      "Completed 105 of 123 posts | 0.0105 seconds | 143.6260 seconds total\n",
      "Completed 106 of 123 posts | 0.0265 seconds | 143.6526 seconds total\n",
      "Completed 107 of 123 posts | 0.0251 seconds | 143.6777 seconds total\n",
      "Completed 108 of 123 posts | 0.0482 seconds | 143.7260 seconds total\n",
      "Completed 109 of 123 posts | 0.0263 seconds | 143.7523 seconds total\n",
      "Completed 110 of 123 posts | 0.0108 seconds | 143.7631 seconds total\n",
      "Completed 111 of 123 posts | 0.0186 seconds | 143.7817 seconds total\n",
      "Completed 112 of 123 posts | 0.0078 seconds | 143.7895 seconds total\n",
      "Completed 113 of 123 posts | 0.0176 seconds | 143.8072 seconds total\n",
      "Completed 114 of 123 posts | 0.0436 seconds | 143.8508 seconds total\n",
      "Completed 115 of 123 posts | 0.0347 seconds | 143.8856 seconds total\n",
      "Completed 116 of 123 posts | 0.0363 seconds | 143.9219 seconds total\n",
      "Completed 117 of 123 posts | 0.0172 seconds | 143.9392 seconds total\n",
      "Completed 118 of 123 posts | 0.0152 seconds | 143.9544 seconds total\n",
      "Completed 119 of 123 posts | 0.0398 seconds | 143.9942 seconds total\n",
      "Completed 120 of 123 posts | 0.0225 seconds | 144.0167 seconds total\n",
      "Completed 121 of 123 posts | 0.0180 seconds | 144.0349 seconds total\n",
      "Completed 122 of 123 posts | 0.0070 seconds | 144.0420 seconds total\n",
      "Sentiment analysis took 144.0420 seconds total\n"
     ]
    }
   ],
   "source": [
    "positive = []\n",
    "negative = []\n",
    "neutral = []\n",
    "compound = []\n",
    "\n",
    "import time\n",
    "\n",
    "begin = time.time() # timer for entire process\n",
    "\n",
    "for i in range(0, len(dataPlug.mergedDF['title'])):\n",
    "    start = time.time() # timer for each iteration\n",
    "\n",
    "    if i == 2:\n",
    "        positive.append(0)\n",
    "        negative.append(0)\n",
    "        neutral.append(0)\n",
    "        compound.append(0)\n",
    "        continue\n",
    "\n",
    "    text = dataPlug.mergedDF['title'][i]\n",
    "    clean_text = squeeze.clean_text(text)\n",
    "    score = squeeze.sentiment_analysis(clean_text)\n",
    "    # Add scores to array\n",
    "    positive.append(score['pos'])\n",
    "    negative.append(score['neg'])\n",
    "    neutral.append(score['neu'])\n",
    "    compound.append(score['compound'])\n",
    "\n",
    "\n",
    "\n",
    "    end = time.time() # end timer for each iteration\n",
    "\n",
    "    print(f\"Completed {i} of {len(dataPlug.mergedDF['title'])} posts | {end - start:0.4f} seconds | {end - begin:0.4f} seconds total\")\n",
    "\n",
    "print(f\"Sentiment analysis took {end - begin:0.4f} seconds total\")\n",
    "\n"
   ],
   "metadata": {
    "collapsed": false
   }
  },
  {
   "cell_type": "code",
   "execution_count": 55,
   "outputs": [
    {
     "name": "stdout",
     "output_type": "stream",
     "text": [
      "Done!\n"
     ]
    }
   ],
   "source": [
    "# Using DataFrame.insert() to add the sentiment columns to the dataframe\n",
    "dataPlug.mergedDF.insert(8, \"Compound_Sentiment\", compound, True)\n",
    "dataPlug.mergedDF.insert(8, \"Negative_Sentiment\", negative, True)\n",
    "dataPlug.mergedDF.insert(8, \"Neutral_Sentiment\", neutral, True)\n",
    "dataPlug.mergedDF.insert(8, \"Positive_Sentiment\", positive, True)\n",
    "print('Done!')"
   ],
   "metadata": {
    "collapsed": false
   }
  },
  {
   "cell_type": "code",
   "execution_count": 56,
   "outputs": [],
   "source": [
    "# Drop the column with the weird data issue\n",
    "dataPlug.mergedDF = dataPlug.mergedDF.drop(labels=2, axis=0)"
   ],
   "metadata": {
    "collapsed": false
   }
  },
  {
   "cell_type": "code",
   "execution_count": 57,
   "outputs": [
    {
     "data": {
      "text/plain": "     timestamp       Open        High        Low      Close  Adj Close  \\\n0   2020-09-29   2.500000    2.662500   2.482500   2.587500   2.587500   \n1   2021-01-28  66.250000  120.750000  28.062500  48.400002  48.400002   \n3   2021-02-01  79.139999   80.500000  53.000000  56.250000  56.250000   \n4   2021-02-02  35.189999   39.500000  18.555000  22.500000  22.500000   \n5   2021-02-03  28.002501   28.350000  21.312500  23.102501  23.102501   \n..         ...        ...         ...        ...        ...        ...   \n118 2021-08-10  40.340000   41.724998  38.837502  39.762501  39.762501   \n119 2021-08-11  39.607498   39.762501  38.654999  39.695000  39.695000   \n120 2021-08-12  39.970001   41.070000  39.332500  40.587502  40.587502   \n121 2021-08-13  40.117500   40.887501  39.352501  40.630001  40.630001   \n122 2021-08-16  40.250000   42.470001  39.790001  40.982498  40.982498   \n\n        Volume                                              title  \\\n0     20950400  $CBAT $SUNW $SPI $OXBR Y'all are missing the p...   \n1    235263200  It's not about the money, it's about sending a...   \n3    149528800  RH closing positions and limiting buying due t...   \n4    312732400  Bloomberg reports short interest down to 39% f...   \n5    170794000  AXOS CASHAPP PARENT COMPANY SHUTS DOWN AMC AND...   \n..         ...                                                ...   \n118    6493200  Follow The Money - How To Catch Every Rotation...   \n119    3781600  GROW: the same guy who discovered GME in June ...   \n120    5271200  Here you go you sick fucks $WISH||The guide to...   \n121    4059200  Would manny monitors help you make more or los...   \n122    6290400  The CLOV clinician letter is worth a read||Wat...   \n\n     Positive_Sentiment  Neutral_Sentiment  Negative_Sentiment  \\\n0                 0.000              0.784               0.216   \n1                 0.240              0.662               0.099   \n3                 0.283              0.639               0.077   \n4                 0.271              0.640               0.090   \n5                 0.260              0.648               0.092   \n..                  ...                ...                 ...   \n118               0.170              0.757               0.073   \n119               0.164              0.781               0.055   \n120               0.210              0.723               0.066   \n121               0.169              0.732               0.099   \n122               0.146              0.825               0.029   \n\n     Compound_Sentiment        score   comms_num  \\\n0               -0.2960     4.000000   11.000000   \n1                1.0000   960.609023  142.193818   \n3                1.0000  4230.302036  531.211538   \n4                1.0000   786.005326  101.698402   \n5                1.0000   983.322361  128.741203   \n..                  ...          ...         ...   \n118              0.9949   538.592593  630.555556   \n119              0.9988   613.945055  365.296703   \n120              0.9988   647.386667  481.200000   \n121              0.9921   773.593750  695.546875   \n122              0.9095    66.090909   28.272727   \n\n                                                  body  \n0    $CBAT is going to be a great play further yet:...  \n1    NaN||NaN||The CEO of NASDAQ pushed to halt tra...  \n3    This is another sign that we're definitely in ...  \n4    NaN||NaN||The news is saying Reddit (which wou...  \n5    NaN||I know a big drop is scary. Robingay cut ...  \n..                                                 ...  \n118  # I. Introduction\\n\\nSorry for the wall of tex...  \n119   **Facts:**\\n\\n* Josh Klein is a deep-value in...  \n120  NaN||As you are all aware the Haitian presiden...  \n121  NaN||NaN||Your weekend discussion thread. Plea...  \n122  I am a doctor trained in internal medicine and...  \n\n[122 rows x 15 columns]",
      "text/html": "<div>\n<style scoped>\n    .dataframe tbody tr th:only-of-type {\n        vertical-align: middle;\n    }\n\n    .dataframe tbody tr th {\n        vertical-align: top;\n    }\n\n    .dataframe thead th {\n        text-align: right;\n    }\n</style>\n<table border=\"1\" class=\"dataframe\">\n  <thead>\n    <tr style=\"text-align: right;\">\n      <th></th>\n      <th>timestamp</th>\n      <th>Open</th>\n      <th>High</th>\n      <th>Low</th>\n      <th>Close</th>\n      <th>Adj Close</th>\n      <th>Volume</th>\n      <th>title</th>\n      <th>Positive_Sentiment</th>\n      <th>Neutral_Sentiment</th>\n      <th>Negative_Sentiment</th>\n      <th>Compound_Sentiment</th>\n      <th>score</th>\n      <th>comms_num</th>\n      <th>body</th>\n    </tr>\n  </thead>\n  <tbody>\n    <tr>\n      <th>0</th>\n      <td>2020-09-29</td>\n      <td>2.500000</td>\n      <td>2.662500</td>\n      <td>2.482500</td>\n      <td>2.587500</td>\n      <td>2.587500</td>\n      <td>20950400</td>\n      <td>$CBAT $SUNW $SPI $OXBR Y'all are missing the p...</td>\n      <td>0.000</td>\n      <td>0.784</td>\n      <td>0.216</td>\n      <td>-0.2960</td>\n      <td>4.000000</td>\n      <td>11.000000</td>\n      <td>$CBAT is going to be a great play further yet:...</td>\n    </tr>\n    <tr>\n      <th>1</th>\n      <td>2021-01-28</td>\n      <td>66.250000</td>\n      <td>120.750000</td>\n      <td>28.062500</td>\n      <td>48.400002</td>\n      <td>48.400002</td>\n      <td>235263200</td>\n      <td>It's not about the money, it's about sending a...</td>\n      <td>0.240</td>\n      <td>0.662</td>\n      <td>0.099</td>\n      <td>1.0000</td>\n      <td>960.609023</td>\n      <td>142.193818</td>\n      <td>NaN||NaN||The CEO of NASDAQ pushed to halt tra...</td>\n    </tr>\n    <tr>\n      <th>3</th>\n      <td>2021-02-01</td>\n      <td>79.139999</td>\n      <td>80.500000</td>\n      <td>53.000000</td>\n      <td>56.250000</td>\n      <td>56.250000</td>\n      <td>149528800</td>\n      <td>RH closing positions and limiting buying due t...</td>\n      <td>0.283</td>\n      <td>0.639</td>\n      <td>0.077</td>\n      <td>1.0000</td>\n      <td>4230.302036</td>\n      <td>531.211538</td>\n      <td>This is another sign that we're definitely in ...</td>\n    </tr>\n    <tr>\n      <th>4</th>\n      <td>2021-02-02</td>\n      <td>35.189999</td>\n      <td>39.500000</td>\n      <td>18.555000</td>\n      <td>22.500000</td>\n      <td>22.500000</td>\n      <td>312732400</td>\n      <td>Bloomberg reports short interest down to 39% f...</td>\n      <td>0.271</td>\n      <td>0.640</td>\n      <td>0.090</td>\n      <td>1.0000</td>\n      <td>786.005326</td>\n      <td>101.698402</td>\n      <td>NaN||NaN||The news is saying Reddit (which wou...</td>\n    </tr>\n    <tr>\n      <th>5</th>\n      <td>2021-02-03</td>\n      <td>28.002501</td>\n      <td>28.350000</td>\n      <td>21.312500</td>\n      <td>23.102501</td>\n      <td>23.102501</td>\n      <td>170794000</td>\n      <td>AXOS CASHAPP PARENT COMPANY SHUTS DOWN AMC AND...</td>\n      <td>0.260</td>\n      <td>0.648</td>\n      <td>0.092</td>\n      <td>1.0000</td>\n      <td>983.322361</td>\n      <td>128.741203</td>\n      <td>NaN||I know a big drop is scary. Robingay cut ...</td>\n    </tr>\n    <tr>\n      <th>...</th>\n      <td>...</td>\n      <td>...</td>\n      <td>...</td>\n      <td>...</td>\n      <td>...</td>\n      <td>...</td>\n      <td>...</td>\n      <td>...</td>\n      <td>...</td>\n      <td>...</td>\n      <td>...</td>\n      <td>...</td>\n      <td>...</td>\n      <td>...</td>\n      <td>...</td>\n    </tr>\n    <tr>\n      <th>118</th>\n      <td>2021-08-10</td>\n      <td>40.340000</td>\n      <td>41.724998</td>\n      <td>38.837502</td>\n      <td>39.762501</td>\n      <td>39.762501</td>\n      <td>6493200</td>\n      <td>Follow The Money - How To Catch Every Rotation...</td>\n      <td>0.170</td>\n      <td>0.757</td>\n      <td>0.073</td>\n      <td>0.9949</td>\n      <td>538.592593</td>\n      <td>630.555556</td>\n      <td># I. Introduction\\n\\nSorry for the wall of tex...</td>\n    </tr>\n    <tr>\n      <th>119</th>\n      <td>2021-08-11</td>\n      <td>39.607498</td>\n      <td>39.762501</td>\n      <td>38.654999</td>\n      <td>39.695000</td>\n      <td>39.695000</td>\n      <td>3781600</td>\n      <td>GROW: the same guy who discovered GME in June ...</td>\n      <td>0.164</td>\n      <td>0.781</td>\n      <td>0.055</td>\n      <td>0.9988</td>\n      <td>613.945055</td>\n      <td>365.296703</td>\n      <td>**Facts:**\\n\\n* Josh Klein is a deep-value in...</td>\n    </tr>\n    <tr>\n      <th>120</th>\n      <td>2021-08-12</td>\n      <td>39.970001</td>\n      <td>41.070000</td>\n      <td>39.332500</td>\n      <td>40.587502</td>\n      <td>40.587502</td>\n      <td>5271200</td>\n      <td>Here you go you sick fucks $WISH||The guide to...</td>\n      <td>0.210</td>\n      <td>0.723</td>\n      <td>0.066</td>\n      <td>0.9988</td>\n      <td>647.386667</td>\n      <td>481.200000</td>\n      <td>NaN||As you are all aware the Haitian presiden...</td>\n    </tr>\n    <tr>\n      <th>121</th>\n      <td>2021-08-13</td>\n      <td>40.117500</td>\n      <td>40.887501</td>\n      <td>39.352501</td>\n      <td>40.630001</td>\n      <td>40.630001</td>\n      <td>4059200</td>\n      <td>Would manny monitors help you make more or los...</td>\n      <td>0.169</td>\n      <td>0.732</td>\n      <td>0.099</td>\n      <td>0.9921</td>\n      <td>773.593750</td>\n      <td>695.546875</td>\n      <td>NaN||NaN||Your weekend discussion thread. Plea...</td>\n    </tr>\n    <tr>\n      <th>122</th>\n      <td>2021-08-16</td>\n      <td>40.250000</td>\n      <td>42.470001</td>\n      <td>39.790001</td>\n      <td>40.982498</td>\n      <td>40.982498</td>\n      <td>6290400</td>\n      <td>The CLOV clinician letter is worth a read||Wat...</td>\n      <td>0.146</td>\n      <td>0.825</td>\n      <td>0.029</td>\n      <td>0.9095</td>\n      <td>66.090909</td>\n      <td>28.272727</td>\n      <td>I am a doctor trained in internal medicine and...</td>\n    </tr>\n  </tbody>\n</table>\n<p>122 rows × 15 columns</p>\n</div>"
     },
     "metadata": {},
     "output_type": "display_data"
    }
   ],
   "source": [
    "display(dataPlug.mergedDF)"
   ],
   "metadata": {
    "collapsed": false
   }
  },
  {
   "cell_type": "code",
   "execution_count": 58,
   "outputs": [],
   "source": [
    "from sklearn.naive_bayes import BernoulliNB\n",
    "from sklearn.model_selection import train_test_split\n",
    "from sklearn.metrics import accuracy_score, f1_score\n"
   ],
   "metadata": {
    "collapsed": false
   }
  },
  {
   "cell_type": "code",
   "execution_count": 60,
   "outputs": [],
   "source": [
    "prices = dataPlug.mergedDF['High'].tolist()\n",
    "y = []\n",
    "for i in prices:\n",
    "        y.append(float(i))\n",
    "volume_y = dataPlug.mergedDF['Volume'].tolist()\n",
    "\n",
    "\n",
    "dataPlug.mergedDF = dataPlug.mergedDF.drop('Open', axis=1)\n",
    "dataPlug.mergedDF = dataPlug.mergedDF.drop('High', axis=1)\n",
    "dataPlug.mergedDF = dataPlug.mergedDF.drop('Low', axis=1)\n",
    "dataPlug.mergedDF = dataPlug.mergedDF.drop('Close', axis=1)\n",
    "dataPlug.mergedDF = dataPlug.mergedDF.drop('Adj Close', axis=1)\n",
    "dataPlug.mergedDF = dataPlug.mergedDF.drop('Volume', axis=1)\n"
   ],
   "metadata": {
    "collapsed": false
   }
  },
  {
   "cell_type": "code",
   "execution_count": 61,
   "outputs": [
    {
     "data": {
      "text/plain": "                                                 title  Positive_Sentiment  \\\n0    $CBAT $SUNW $SPI $OXBR Y'all are missing the p...               0.000   \n1    It's not about the money, it's about sending a...               0.240   \n3    RH closing positions and limiting buying due t...               0.283   \n4    Bloomberg reports short interest down to 39% f...               0.271   \n5    AXOS CASHAPP PARENT COMPANY SHUTS DOWN AMC AND...               0.260   \n..                                                 ...                 ...   \n118  Follow The Money - How To Catch Every Rotation...               0.170   \n119  GROW: the same guy who discovered GME in June ...               0.164   \n120  Here you go you sick fucks $WISH||The guide to...               0.210   \n121  Would manny monitors help you make more or los...               0.169   \n122  The CLOV clinician letter is worth a read||Wat...               0.146   \n\n     Neutral_Sentiment  Negative_Sentiment  Compound_Sentiment        score  \\\n0                0.784               0.216             -0.2960     4.000000   \n1                0.662               0.099              1.0000   960.609023   \n3                0.639               0.077              1.0000  4230.302036   \n4                0.640               0.090              1.0000   786.005326   \n5                0.648               0.092              1.0000   983.322361   \n..                 ...                 ...                 ...          ...   \n118              0.757               0.073              0.9949   538.592593   \n119              0.781               0.055              0.9988   613.945055   \n120              0.723               0.066              0.9988   647.386667   \n121              0.732               0.099              0.9921   773.593750   \n122              0.825               0.029              0.9095    66.090909   \n\n      comms_num                                               body  \n0     11.000000  $CBAT is going to be a great play further yet:...  \n1    142.193818  NaN||NaN||The CEO of NASDAQ pushed to halt tra...  \n3    531.211538  This is another sign that we're definitely in ...  \n4    101.698402  NaN||NaN||The news is saying Reddit (which wou...  \n5    128.741203  NaN||I know a big drop is scary. Robingay cut ...  \n..          ...                                                ...  \n118  630.555556  # I. Introduction\\n\\nSorry for the wall of tex...  \n119  365.296703   **Facts:**\\n\\n* Josh Klein is a deep-value in...  \n120  481.200000  NaN||As you are all aware the Haitian presiden...  \n121  695.546875  NaN||NaN||Your weekend discussion thread. Plea...  \n122   28.272727  I am a doctor trained in internal medicine and...  \n\n[122 rows x 8 columns]",
      "text/html": "<div>\n<style scoped>\n    .dataframe tbody tr th:only-of-type {\n        vertical-align: middle;\n    }\n\n    .dataframe tbody tr th {\n        vertical-align: top;\n    }\n\n    .dataframe thead th {\n        text-align: right;\n    }\n</style>\n<table border=\"1\" class=\"dataframe\">\n  <thead>\n    <tr style=\"text-align: right;\">\n      <th></th>\n      <th>title</th>\n      <th>Positive_Sentiment</th>\n      <th>Neutral_Sentiment</th>\n      <th>Negative_Sentiment</th>\n      <th>Compound_Sentiment</th>\n      <th>score</th>\n      <th>comms_num</th>\n      <th>body</th>\n    </tr>\n  </thead>\n  <tbody>\n    <tr>\n      <th>0</th>\n      <td>$CBAT $SUNW $SPI $OXBR Y'all are missing the p...</td>\n      <td>0.000</td>\n      <td>0.784</td>\n      <td>0.216</td>\n      <td>-0.2960</td>\n      <td>4.000000</td>\n      <td>11.000000</td>\n      <td>$CBAT is going to be a great play further yet:...</td>\n    </tr>\n    <tr>\n      <th>1</th>\n      <td>It's not about the money, it's about sending a...</td>\n      <td>0.240</td>\n      <td>0.662</td>\n      <td>0.099</td>\n      <td>1.0000</td>\n      <td>960.609023</td>\n      <td>142.193818</td>\n      <td>NaN||NaN||The CEO of NASDAQ pushed to halt tra...</td>\n    </tr>\n    <tr>\n      <th>3</th>\n      <td>RH closing positions and limiting buying due t...</td>\n      <td>0.283</td>\n      <td>0.639</td>\n      <td>0.077</td>\n      <td>1.0000</td>\n      <td>4230.302036</td>\n      <td>531.211538</td>\n      <td>This is another sign that we're definitely in ...</td>\n    </tr>\n    <tr>\n      <th>4</th>\n      <td>Bloomberg reports short interest down to 39% f...</td>\n      <td>0.271</td>\n      <td>0.640</td>\n      <td>0.090</td>\n      <td>1.0000</td>\n      <td>786.005326</td>\n      <td>101.698402</td>\n      <td>NaN||NaN||The news is saying Reddit (which wou...</td>\n    </tr>\n    <tr>\n      <th>5</th>\n      <td>AXOS CASHAPP PARENT COMPANY SHUTS DOWN AMC AND...</td>\n      <td>0.260</td>\n      <td>0.648</td>\n      <td>0.092</td>\n      <td>1.0000</td>\n      <td>983.322361</td>\n      <td>128.741203</td>\n      <td>NaN||I know a big drop is scary. Robingay cut ...</td>\n    </tr>\n    <tr>\n      <th>...</th>\n      <td>...</td>\n      <td>...</td>\n      <td>...</td>\n      <td>...</td>\n      <td>...</td>\n      <td>...</td>\n      <td>...</td>\n      <td>...</td>\n    </tr>\n    <tr>\n      <th>118</th>\n      <td>Follow The Money - How To Catch Every Rotation...</td>\n      <td>0.170</td>\n      <td>0.757</td>\n      <td>0.073</td>\n      <td>0.9949</td>\n      <td>538.592593</td>\n      <td>630.555556</td>\n      <td># I. Introduction\\n\\nSorry for the wall of tex...</td>\n    </tr>\n    <tr>\n      <th>119</th>\n      <td>GROW: the same guy who discovered GME in June ...</td>\n      <td>0.164</td>\n      <td>0.781</td>\n      <td>0.055</td>\n      <td>0.9988</td>\n      <td>613.945055</td>\n      <td>365.296703</td>\n      <td>**Facts:**\\n\\n* Josh Klein is a deep-value in...</td>\n    </tr>\n    <tr>\n      <th>120</th>\n      <td>Here you go you sick fucks $WISH||The guide to...</td>\n      <td>0.210</td>\n      <td>0.723</td>\n      <td>0.066</td>\n      <td>0.9988</td>\n      <td>647.386667</td>\n      <td>481.200000</td>\n      <td>NaN||As you are all aware the Haitian presiden...</td>\n    </tr>\n    <tr>\n      <th>121</th>\n      <td>Would manny monitors help you make more or los...</td>\n      <td>0.169</td>\n      <td>0.732</td>\n      <td>0.099</td>\n      <td>0.9921</td>\n      <td>773.593750</td>\n      <td>695.546875</td>\n      <td>NaN||NaN||Your weekend discussion thread. Plea...</td>\n    </tr>\n    <tr>\n      <th>122</th>\n      <td>The CLOV clinician letter is worth a read||Wat...</td>\n      <td>0.146</td>\n      <td>0.825</td>\n      <td>0.029</td>\n      <td>0.9095</td>\n      <td>66.090909</td>\n      <td>28.272727</td>\n      <td>I am a doctor trained in internal medicine and...</td>\n    </tr>\n  </tbody>\n</table>\n<p>122 rows × 8 columns</p>\n</div>"
     },
     "metadata": {},
     "output_type": "display_data"
    }
   ],
   "source": [
    "dataPlug.mergedDF = dataPlug.mergedDF.drop('timestamp', axis=1)\n",
    "display(dataPlug.mergedDF)"
   ],
   "metadata": {
    "collapsed": false
   }
  },
  {
   "cell_type": "code",
   "execution_count": 62,
   "outputs": [
    {
     "data": {
      "text/plain": "     Positive_Sentiment  Neutral_Sentiment  Negative_Sentiment  \\\n0                 0.000              0.784               0.216   \n1                 0.240              0.662               0.099   \n3                 0.283              0.639               0.077   \n4                 0.271              0.640               0.090   \n5                 0.260              0.648               0.092   \n..                  ...                ...                 ...   \n118               0.170              0.757               0.073   \n119               0.164              0.781               0.055   \n120               0.210              0.723               0.066   \n121               0.169              0.732               0.099   \n122               0.146              0.825               0.029   \n\n     Compound_Sentiment        score   comms_num  \n0               -0.2960     4.000000   11.000000  \n1                1.0000   960.609023  142.193818  \n3                1.0000  4230.302036  531.211538  \n4                1.0000   786.005326  101.698402  \n5                1.0000   983.322361  128.741203  \n..                  ...          ...         ...  \n118              0.9949   538.592593  630.555556  \n119              0.9988   613.945055  365.296703  \n120              0.9988   647.386667  481.200000  \n121              0.9921   773.593750  695.546875  \n122              0.9095    66.090909   28.272727  \n\n[122 rows x 6 columns]",
      "text/html": "<div>\n<style scoped>\n    .dataframe tbody tr th:only-of-type {\n        vertical-align: middle;\n    }\n\n    .dataframe tbody tr th {\n        vertical-align: top;\n    }\n\n    .dataframe thead th {\n        text-align: right;\n    }\n</style>\n<table border=\"1\" class=\"dataframe\">\n  <thead>\n    <tr style=\"text-align: right;\">\n      <th></th>\n      <th>Positive_Sentiment</th>\n      <th>Neutral_Sentiment</th>\n      <th>Negative_Sentiment</th>\n      <th>Compound_Sentiment</th>\n      <th>score</th>\n      <th>comms_num</th>\n    </tr>\n  </thead>\n  <tbody>\n    <tr>\n      <th>0</th>\n      <td>0.000</td>\n      <td>0.784</td>\n      <td>0.216</td>\n      <td>-0.2960</td>\n      <td>4.000000</td>\n      <td>11.000000</td>\n    </tr>\n    <tr>\n      <th>1</th>\n      <td>0.240</td>\n      <td>0.662</td>\n      <td>0.099</td>\n      <td>1.0000</td>\n      <td>960.609023</td>\n      <td>142.193818</td>\n    </tr>\n    <tr>\n      <th>3</th>\n      <td>0.283</td>\n      <td>0.639</td>\n      <td>0.077</td>\n      <td>1.0000</td>\n      <td>4230.302036</td>\n      <td>531.211538</td>\n    </tr>\n    <tr>\n      <th>4</th>\n      <td>0.271</td>\n      <td>0.640</td>\n      <td>0.090</td>\n      <td>1.0000</td>\n      <td>786.005326</td>\n      <td>101.698402</td>\n    </tr>\n    <tr>\n      <th>5</th>\n      <td>0.260</td>\n      <td>0.648</td>\n      <td>0.092</td>\n      <td>1.0000</td>\n      <td>983.322361</td>\n      <td>128.741203</td>\n    </tr>\n    <tr>\n      <th>...</th>\n      <td>...</td>\n      <td>...</td>\n      <td>...</td>\n      <td>...</td>\n      <td>...</td>\n      <td>...</td>\n    </tr>\n    <tr>\n      <th>118</th>\n      <td>0.170</td>\n      <td>0.757</td>\n      <td>0.073</td>\n      <td>0.9949</td>\n      <td>538.592593</td>\n      <td>630.555556</td>\n    </tr>\n    <tr>\n      <th>119</th>\n      <td>0.164</td>\n      <td>0.781</td>\n      <td>0.055</td>\n      <td>0.9988</td>\n      <td>613.945055</td>\n      <td>365.296703</td>\n    </tr>\n    <tr>\n      <th>120</th>\n      <td>0.210</td>\n      <td>0.723</td>\n      <td>0.066</td>\n      <td>0.9988</td>\n      <td>647.386667</td>\n      <td>481.200000</td>\n    </tr>\n    <tr>\n      <th>121</th>\n      <td>0.169</td>\n      <td>0.732</td>\n      <td>0.099</td>\n      <td>0.9921</td>\n      <td>773.593750</td>\n      <td>695.546875</td>\n    </tr>\n    <tr>\n      <th>122</th>\n      <td>0.146</td>\n      <td>0.825</td>\n      <td>0.029</td>\n      <td>0.9095</td>\n      <td>66.090909</td>\n      <td>28.272727</td>\n    </tr>\n  </tbody>\n</table>\n<p>122 rows × 6 columns</p>\n</div>"
     },
     "metadata": {},
     "output_type": "display_data"
    }
   ],
   "source": [
    "dataPlug.mergedDF = dataPlug.mergedDF.drop('title', axis=1)\n",
    "dataPlug.mergedDF = dataPlug.mergedDF.drop('body', axis=1)\n",
    "display(dataPlug.mergedDF)"
   ],
   "metadata": {
    "collapsed": false
   }
  },
  {
   "cell_type": "code",
   "execution_count": 91,
   "outputs": [],
   "source": [
    "X = dataPlug.mergedDF\n",
    "# split data into test and training sets\n",
    "X_train, X_test, y_train_list, y_test_list = train_test_split(X, y, test_size=0.5, random_state=3)\n",
    "y_train = []\n",
    "for item in y_train_list:\n",
    "    y_train.append(int(item))\n",
    "\n",
    "y_test = []\n",
    "for item in y_test_list:\n",
    "    y_test.append(int(item))\n"
   ],
   "metadata": {
    "collapsed": false
   }
  },
  {
   "cell_type": "code",
   "execution_count": 92,
   "outputs": [
    {
     "data": {
      "text/plain": "BernoulliNB()"
     },
     "execution_count": 92,
     "metadata": {},
     "output_type": "execute_result"
    }
   ],
   "source": [
    "# train Bernoulli Naive Bayes model on the training set\n",
    "clf = BernoulliNB()\n",
    "clf.fit(X_train.astype('float'), y_train)\n"
   ],
   "metadata": {
    "collapsed": false
   }
  },
  {
   "cell_type": "code",
   "execution_count": 93,
   "outputs": [
    {
     "name": "stdout",
     "output_type": "stream",
     "text": [
      "Training score: 0.11475409836065574\n"
     ]
    }
   ],
   "source": [
    "import sklearn.metrics as metrics\n",
    "\n",
    "# predict labels for training and test sets\n",
    "y_train_pred = clf.predict(X_train)\n",
    "y_test_pred = clf.predict(X_test)\n",
    "\n",
    "train_score = metrics.accuracy_score(y_train, y_train_pred)\n",
    "\n",
    "\n",
    "\n",
    "\n",
    "print(\"Training score:\", train_score)\n",
    "\n"
   ],
   "metadata": {
    "collapsed": false
   }
  },
  {
   "cell_type": "code",
   "execution_count": 97,
   "outputs": [
    {
     "ename": "ValueError",
     "evalue": "Number of classes, 36, does not match size of target_names, 1. Try specifying the labels parameter",
     "output_type": "error",
     "traceback": [
      "\u001B[0;31m---------------------------------------------------------------------------\u001B[0m",
      "\u001B[0;31mValueError\u001B[0m                                Traceback (most recent call last)",
      "\u001B[0;32m/var/folders/v0/6jgnw7ss4p98tggxj0_xzmch0000gn/T/ipykernel_11346/1844503944.py\u001B[0m in \u001B[0;36m<module>\u001B[0;34m\u001B[0m\n\u001B[1;32m      1\u001B[0m \u001B[0;32mfrom\u001B[0m \u001B[0msklearn\u001B[0m\u001B[0;34m.\u001B[0m\u001B[0mmetrics\u001B[0m \u001B[0;32mimport\u001B[0m \u001B[0mclassification_report\u001B[0m\u001B[0;34m\u001B[0m\u001B[0;34m\u001B[0m\u001B[0m\n\u001B[1;32m      2\u001B[0m \u001B[0mtarget_names\u001B[0m \u001B[0;34m=\u001B[0m \u001B[0;34m[\u001B[0m\u001B[0;34m'High'\u001B[0m\u001B[0;34m]\u001B[0m\u001B[0;34m\u001B[0m\u001B[0;34m\u001B[0m\u001B[0m\n\u001B[0;32m----> 3\u001B[0;31m \u001B[0mprint\u001B[0m\u001B[0;34m(\u001B[0m\u001B[0mclassification_report\u001B[0m\u001B[0;34m(\u001B[0m\u001B[0my_test\u001B[0m\u001B[0;34m,\u001B[0m \u001B[0my_test_pred\u001B[0m\u001B[0;34m.\u001B[0m\u001B[0mastype\u001B[0m\u001B[0;34m(\u001B[0m\u001B[0;34m'int'\u001B[0m\u001B[0;34m)\u001B[0m\u001B[0;34m,\u001B[0m \u001B[0mtarget_names\u001B[0m\u001B[0;34m=\u001B[0m\u001B[0mtarget_names\u001B[0m\u001B[0;34m)\u001B[0m\u001B[0;34m)\u001B[0m\u001B[0;34m\u001B[0m\u001B[0;34m\u001B[0m\u001B[0m\n\u001B[0m\u001B[1;32m      4\u001B[0m \u001B[0;34m\u001B[0m\u001B[0m\n",
      "\u001B[0;32m~/opt/anaconda3/lib/python3.9/site-packages/sklearn/metrics/_classification.py\u001B[0m in \u001B[0;36mclassification_report\u001B[0;34m(y_true, y_pred, labels, target_names, sample_weight, digits, output_dict, zero_division)\u001B[0m\n\u001B[1;32m   2130\u001B[0m             )\n\u001B[1;32m   2131\u001B[0m         \u001B[0;32melse\u001B[0m\u001B[0;34m:\u001B[0m\u001B[0;34m\u001B[0m\u001B[0;34m\u001B[0m\u001B[0m\n\u001B[0;32m-> 2132\u001B[0;31m             raise ValueError(\n\u001B[0m\u001B[1;32m   2133\u001B[0m                 \u001B[0;34m\"Number of classes, {0}, does not match size of \"\u001B[0m\u001B[0;34m\u001B[0m\u001B[0;34m\u001B[0m\u001B[0m\n\u001B[1;32m   2134\u001B[0m                 \u001B[0;34m\"target_names, {1}. Try specifying the labels \"\u001B[0m\u001B[0;34m\u001B[0m\u001B[0;34m\u001B[0m\u001B[0m\n",
      "\u001B[0;31mValueError\u001B[0m: Number of classes, 36, does not match size of target_names, 1. Try specifying the labels parameter"
     ]
    }
   ],
   "source": [
    "from sklearn.metrics import classification_report\n",
    "target_names = ['High']\n",
    "print(classification_report(y_test, y_test_pred.astype('int'), target_names=target_names))\n"
   ],
   "metadata": {
    "collapsed": false
   }
  },
  {
   "cell_type": "code",
   "execution_count": null,
   "outputs": [],
   "source": [],
   "metadata": {
    "collapsed": false
   }
  }
 ],
 "metadata": {
  "kernelspec": {
   "display_name": "Python 3",
   "language": "python",
   "name": "python3"
  },
  "language_info": {
   "codemirror_mode": {
    "name": "ipython",
    "version": 2
   },
   "file_extension": ".py",
   "mimetype": "text/x-python",
   "name": "python",
   "nbconvert_exporter": "python",
   "pygments_lexer": "ipython2",
   "version": "2.7.6"
  }
 },
 "nbformat": 4,
 "nbformat_minor": 0
}
