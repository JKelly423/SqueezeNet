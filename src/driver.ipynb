{
 "cells": [
  {
   "cell_type": "code",
   "execution_count": 1,
   "metadata": {
    "collapsed": true
   },
   "outputs": [
    {
     "name": "stderr",
     "output_type": "stream",
     "text": [
      "[nltk_data] Downloading package stopwords to\n",
      "[nltk_data]     C:\\Users\\jackk\\AppData\\Roaming\\nltk_data...\n",
      "[nltk_data]   Package stopwords is already up-to-date!\n"
     ]
    }
   ],
   "source": [
    "from DataPlug import DataPlug as dp\n",
    "from SqueezeNet import SqueezeNet as sq"
   ]
  },
  {
   "cell_type": "code",
   "execution_count": 2,
   "outputs": [],
   "source": [
    "squeeze = sq(\"SqueezeNet\")\n",
    "dataPlug = dp(\"DataPlug\")\n"
   ],
   "metadata": {
    "collapsed": false
   }
  },
  {
   "cell_type": "code",
   "execution_count": 3,
   "outputs": [
    {
     "data": {
      "text/plain": "                                                   title  score      id  \\\n0      It's not about the money, it's about sending a...     55  l6ulcx   \n1      Math Professor Scott Steiner says the numbers ...    110  l6uibd   \n2                                        Exit the system      0  l6uhhn   \n3      NEW SEC FILING FOR GME! CAN SOMEONE LESS RETAR...     29  l6ugk6   \n4      Not to distract from GME, just thought our AMC...     71  l6ufgy   \n...                                                  ...    ...     ...   \n53182    What I Learned Investigating SAVA FUD Spreaders    238  owd2pn   \n53183  Daily Popular Tickers Thread for August 02, 20...    228  owd1a5   \n53184       Hitler reacts to the market being irrational   7398  owc5dr   \n53185        Daily Discussion Thread for August 02, 2021    338  owbfjf   \n53186  Fraternal Association of Gambling Gentlemen an...     40  owaqd6   \n\n                                                     url  comms_num  \\\n0                        https://v.redd.it/6j75regs72e61          6   \n1                        https://v.redd.it/ah50lyny62e61         23   \n2      https://www.reddit.com/r/wallstreetbets/commen...         47   \n3      https://sec.report/Document/0001193125-21-019848/         74   \n4                    https://i.redd.it/4h2sukb662e61.jpg        156   \n...                                                  ...        ...   \n53182  https://www.reddit.com/r/wallstreetbets/commen...         87   \n53183  https://www.reddit.com/r/wallstreetbets/commen...       1070   \n53184                    https://v.redd.it/46jxu074exe71        372   \n53185  https://www.reddit.com/r/wallstreetbets/commen...      11688   \n53186  https://www.reddit.com/r/wallstreetbets/commen...        810   \n\n            created                                               body  \\\n0      1.611863e+09                                                NaN   \n1      1.611862e+09                                                NaN   \n2      1.611862e+09  The CEO of NASDAQ pushed to halt trading “to g...   \n3      1.611862e+09                                                NaN   \n4      1.611862e+09                                                NaN   \n...             ...                                                ...   \n53182  1.627906e+09  ***TLDR: Three bitter scientists partnered up ...   \n53183  1.627906e+09  \\nYour daily hype thread. Please keep the shit...   \n53184  1.627902e+09                                                NaN   \n53185  1.627898e+09  Your daily trading discussion thread. Please k...   \n53186  1.627895e+09  This is an old Yacht Club thread. Click /u/Vis...   \n\n       timestamp  \n0     2021-01-28  \n1     2021-01-28  \n2     2021-01-28  \n3     2021-01-28  \n4     2021-01-28  \n...          ...  \n53182 2021-08-02  \n53183 2021-08-02  \n53184 2021-08-02  \n53185 2021-08-02  \n53186 2021-08-02  \n\n[53187 rows x 8 columns]",
      "text/html": "<div>\n<style scoped>\n    .dataframe tbody tr th:only-of-type {\n        vertical-align: middle;\n    }\n\n    .dataframe tbody tr th {\n        vertical-align: top;\n    }\n\n    .dataframe thead th {\n        text-align: right;\n    }\n</style>\n<table border=\"1\" class=\"dataframe\">\n  <thead>\n    <tr style=\"text-align: right;\">\n      <th></th>\n      <th>title</th>\n      <th>score</th>\n      <th>id</th>\n      <th>url</th>\n      <th>comms_num</th>\n      <th>created</th>\n      <th>body</th>\n      <th>timestamp</th>\n    </tr>\n  </thead>\n  <tbody>\n    <tr>\n      <th>0</th>\n      <td>It's not about the money, it's about sending a...</td>\n      <td>55</td>\n      <td>l6ulcx</td>\n      <td>https://v.redd.it/6j75regs72e61</td>\n      <td>6</td>\n      <td>1.611863e+09</td>\n      <td>NaN</td>\n      <td>2021-01-28</td>\n    </tr>\n    <tr>\n      <th>1</th>\n      <td>Math Professor Scott Steiner says the numbers ...</td>\n      <td>110</td>\n      <td>l6uibd</td>\n      <td>https://v.redd.it/ah50lyny62e61</td>\n      <td>23</td>\n      <td>1.611862e+09</td>\n      <td>NaN</td>\n      <td>2021-01-28</td>\n    </tr>\n    <tr>\n      <th>2</th>\n      <td>Exit the system</td>\n      <td>0</td>\n      <td>l6uhhn</td>\n      <td>https://www.reddit.com/r/wallstreetbets/commen...</td>\n      <td>47</td>\n      <td>1.611862e+09</td>\n      <td>The CEO of NASDAQ pushed to halt trading “to g...</td>\n      <td>2021-01-28</td>\n    </tr>\n    <tr>\n      <th>3</th>\n      <td>NEW SEC FILING FOR GME! CAN SOMEONE LESS RETAR...</td>\n      <td>29</td>\n      <td>l6ugk6</td>\n      <td>https://sec.report/Document/0001193125-21-019848/</td>\n      <td>74</td>\n      <td>1.611862e+09</td>\n      <td>NaN</td>\n      <td>2021-01-28</td>\n    </tr>\n    <tr>\n      <th>4</th>\n      <td>Not to distract from GME, just thought our AMC...</td>\n      <td>71</td>\n      <td>l6ufgy</td>\n      <td>https://i.redd.it/4h2sukb662e61.jpg</td>\n      <td>156</td>\n      <td>1.611862e+09</td>\n      <td>NaN</td>\n      <td>2021-01-28</td>\n    </tr>\n    <tr>\n      <th>...</th>\n      <td>...</td>\n      <td>...</td>\n      <td>...</td>\n      <td>...</td>\n      <td>...</td>\n      <td>...</td>\n      <td>...</td>\n      <td>...</td>\n    </tr>\n    <tr>\n      <th>53182</th>\n      <td>What I Learned Investigating SAVA FUD Spreaders</td>\n      <td>238</td>\n      <td>owd2pn</td>\n      <td>https://www.reddit.com/r/wallstreetbets/commen...</td>\n      <td>87</td>\n      <td>1.627906e+09</td>\n      <td>***TLDR: Three bitter scientists partnered up ...</td>\n      <td>2021-08-02</td>\n    </tr>\n    <tr>\n      <th>53183</th>\n      <td>Daily Popular Tickers Thread for August 02, 20...</td>\n      <td>228</td>\n      <td>owd1a5</td>\n      <td>https://www.reddit.com/r/wallstreetbets/commen...</td>\n      <td>1070</td>\n      <td>1.627906e+09</td>\n      <td>\\nYour daily hype thread. Please keep the shit...</td>\n      <td>2021-08-02</td>\n    </tr>\n    <tr>\n      <th>53184</th>\n      <td>Hitler reacts to the market being irrational</td>\n      <td>7398</td>\n      <td>owc5dr</td>\n      <td>https://v.redd.it/46jxu074exe71</td>\n      <td>372</td>\n      <td>1.627902e+09</td>\n      <td>NaN</td>\n      <td>2021-08-02</td>\n    </tr>\n    <tr>\n      <th>53185</th>\n      <td>Daily Discussion Thread for August 02, 2021</td>\n      <td>338</td>\n      <td>owbfjf</td>\n      <td>https://www.reddit.com/r/wallstreetbets/commen...</td>\n      <td>11688</td>\n      <td>1.627898e+09</td>\n      <td>Your daily trading discussion thread. Please k...</td>\n      <td>2021-08-02</td>\n    </tr>\n    <tr>\n      <th>53186</th>\n      <td>Fraternal Association of Gambling Gentlemen an...</td>\n      <td>40</td>\n      <td>owaqd6</td>\n      <td>https://www.reddit.com/r/wallstreetbets/commen...</td>\n      <td>810</td>\n      <td>1.627895e+09</td>\n      <td>This is an old Yacht Club thread. Click /u/Vis...</td>\n      <td>2021-08-02</td>\n    </tr>\n  </tbody>\n</table>\n<p>53187 rows × 8 columns</p>\n</div>"
     },
     "metadata": {},
     "output_type": "display_data"
    }
   ],
   "source": [
    "data = dataPlug.get_reddit_dataframe()\n",
    "\n",
    "\n",
    "display(dataPlug.df)"
   ],
   "metadata": {
    "collapsed": false
   }
  },
  {
   "cell_type": "code",
   "execution_count": 4,
   "outputs": [
    {
     "data": {
      "text/plain": "     timestamp     Open       High      Low      Close  Adj Close    Volume\n0   2020-09-01   1.8250   1.955000   1.6925   1.912500   1.912500  92634400\n1   2020-09-02   1.9500   2.012500   1.7775   1.927500   1.927500  52044400\n2   2020-09-03   1.9700   2.112500   1.8100   1.955000   1.955000  57378000\n3   2020-09-04   1.9450   1.980000   1.7925   1.912500   1.912500  30648000\n4   2020-09-08   1.8875   2.070000   1.8700   1.925000   1.925000  39266400\n..         ...      ...        ...      ...        ...        ...       ...\n653 2023-04-06  22.0000  22.670000  21.7700  22.400000  22.400000   2506900\n654 2023-04-10  21.8500  22.430000  21.8200  22.370001  22.370001   2176100\n655 2023-04-11  22.5700  23.170000  22.4200  22.690001  22.690001   2540000\n656 2023-04-12  22.9000  23.280001  22.2600  22.260000  22.260000   2141100\n657 2023-04-13  22.5000  22.850000  22.3300  22.549999  22.549999   1800800\n\n[658 rows x 7 columns]",
      "text/html": "<div>\n<style scoped>\n    .dataframe tbody tr th:only-of-type {\n        vertical-align: middle;\n    }\n\n    .dataframe tbody tr th {\n        vertical-align: top;\n    }\n\n    .dataframe thead th {\n        text-align: right;\n    }\n</style>\n<table border=\"1\" class=\"dataframe\">\n  <thead>\n    <tr style=\"text-align: right;\">\n      <th></th>\n      <th>timestamp</th>\n      <th>Open</th>\n      <th>High</th>\n      <th>Low</th>\n      <th>Close</th>\n      <th>Adj Close</th>\n      <th>Volume</th>\n    </tr>\n  </thead>\n  <tbody>\n    <tr>\n      <th>0</th>\n      <td>2020-09-01</td>\n      <td>1.8250</td>\n      <td>1.955000</td>\n      <td>1.6925</td>\n      <td>1.912500</td>\n      <td>1.912500</td>\n      <td>92634400</td>\n    </tr>\n    <tr>\n      <th>1</th>\n      <td>2020-09-02</td>\n      <td>1.9500</td>\n      <td>2.012500</td>\n      <td>1.7775</td>\n      <td>1.927500</td>\n      <td>1.927500</td>\n      <td>52044400</td>\n    </tr>\n    <tr>\n      <th>2</th>\n      <td>2020-09-03</td>\n      <td>1.9700</td>\n      <td>2.112500</td>\n      <td>1.8100</td>\n      <td>1.955000</td>\n      <td>1.955000</td>\n      <td>57378000</td>\n    </tr>\n    <tr>\n      <th>3</th>\n      <td>2020-09-04</td>\n      <td>1.9450</td>\n      <td>1.980000</td>\n      <td>1.7925</td>\n      <td>1.912500</td>\n      <td>1.912500</td>\n      <td>30648000</td>\n    </tr>\n    <tr>\n      <th>4</th>\n      <td>2020-09-08</td>\n      <td>1.8875</td>\n      <td>2.070000</td>\n      <td>1.8700</td>\n      <td>1.925000</td>\n      <td>1.925000</td>\n      <td>39266400</td>\n    </tr>\n    <tr>\n      <th>...</th>\n      <td>...</td>\n      <td>...</td>\n      <td>...</td>\n      <td>...</td>\n      <td>...</td>\n      <td>...</td>\n      <td>...</td>\n    </tr>\n    <tr>\n      <th>653</th>\n      <td>2023-04-06</td>\n      <td>22.0000</td>\n      <td>22.670000</td>\n      <td>21.7700</td>\n      <td>22.400000</td>\n      <td>22.400000</td>\n      <td>2506900</td>\n    </tr>\n    <tr>\n      <th>654</th>\n      <td>2023-04-10</td>\n      <td>21.8500</td>\n      <td>22.430000</td>\n      <td>21.8200</td>\n      <td>22.370001</td>\n      <td>22.370001</td>\n      <td>2176100</td>\n    </tr>\n    <tr>\n      <th>655</th>\n      <td>2023-04-11</td>\n      <td>22.5700</td>\n      <td>23.170000</td>\n      <td>22.4200</td>\n      <td>22.690001</td>\n      <td>22.690001</td>\n      <td>2540000</td>\n    </tr>\n    <tr>\n      <th>656</th>\n      <td>2023-04-12</td>\n      <td>22.9000</td>\n      <td>23.280001</td>\n      <td>22.2600</td>\n      <td>22.260000</td>\n      <td>22.260000</td>\n      <td>2141100</td>\n    </tr>\n    <tr>\n      <th>657</th>\n      <td>2023-04-13</td>\n      <td>22.5000</td>\n      <td>22.850000</td>\n      <td>22.3300</td>\n      <td>22.549999</td>\n      <td>22.549999</td>\n      <td>1800800</td>\n    </tr>\n  </tbody>\n</table>\n<p>658 rows × 7 columns</p>\n</div>"
     },
     "execution_count": 4,
     "metadata": {},
     "output_type": "execute_result"
    }
   ],
   "source": [
    "dataPlug.get_price_dataframe()"
   ],
   "metadata": {
    "collapsed": false
   }
  },
  {
   "cell_type": "code",
   "execution_count": 5,
   "outputs": [
    {
     "data": {
      "text/plain": "                                                        title        score  \\\ntimestamp                                                                    \n2020-09-29  $CBAT $SUNW $SPI $OXBR Y'all are missing the p...     4.000000   \n2021-01-28  It's not about the money, it's about sending a...   960.609023   \n2021-01-29  Current data on GME short positions||ZOM||xspa...   408.457309   \n2021-01-30  Fellow retards! Hold that shit. Don’t panic.||...  4618.594101   \n2021-01-31  WE ALL DID IT! CITRON IS THROWING IN THE TOWEL...  5230.513312   \n...                                                       ...          ...   \n2021-08-12  Here you go you sick fucks $WISH||The guide to...   647.386667   \n2021-08-13  Would manny monitors help you make more or los...   773.593750   \n2021-08-14  My First 3 Months with WSB||Nice monitors, I u...  1204.837838   \n2021-08-15  UWMC Q2 EARNINGS CHEAT CODE!||$AMZN is up to s...  1210.619048   \n2021-08-16  The CLOV clinician letter is worth a read||Wat...    66.090909   \n\n                                                           id  \\\ntimestamp                                                       \n2020-09-29                                             j1fmmo   \n2021-01-28  l6ulcx||l6uibd||l6uhhn||l6ugk6||l6ufgy||l6uf7d...   \n2021-01-29  l6yxto||l6yxqf||l6yxjc||l6yx9l||l6yx9k||l6yx9c...   \n2021-01-30  l7uyb5||l7uyae||l7uya6||l7uy9j||l7uy8r||l7uy8e...   \n2021-01-31  l8nv7s||l8o31w||l8oblj||l8obkv||l8obkm||l8obk3...   \n...                                                       ...   \n2021-08-12  p38oq7||p388pe||p3841a||p37krv||p371r9||p3719y...   \n2021-08-13  p3tl78||p3tino||p3sv76||p3sv17||p3s821||p3rjhp...   \n2021-08-14  p4e21n||p4df57||p4chcx||p4cfun||p4cdx5||p4bji7...   \n2021-08-15  p517bu||p50n5p||p50kxh||p50ids||p4zwww||p4zpd6...   \n2021-08-16  p5ahrj||p59txq||p59a57||p599nb||p58soc||p58hq6...   \n\n                                                          url   comms_num  \\\ntimestamp                                                                   \n2020-09-29  https://www.reddit.com/r/wallstreetbets/commen...   11.000000   \n2021-01-28  https://v.redd.it/6j75regs72e61||https://v.red...  142.193818   \n2021-01-29  https://www.reddit.com/r/wallstreetbets/commen...   52.371288   \n2021-01-30  https://www.reddit.com/r/wallstreetbets/commen...  515.766152   \n2021-01-31  https://i.redd.it/rpase2bamhe61.jpg||https://w...  306.713525   \n...                                                       ...         ...   \n2021-08-12  https://i.redd.it/bmf0yo4fqzg71.jpg||https://w...  481.200000   \n2021-08-13  https://v.redd.it/w4lkj0upr6h71||https://i.red...  695.546875   \n2021-08-14  https://v.redd.it/9ldnh4figdh71||https://v.red...  153.783784   \n2021-08-15  https://www.reddit.com/r/wallstreetbets/commen...  630.666667   \n2021-08-16  https://www.reddit.com/r/wallstreetbets/commen...   28.272727   \n\n                 created                                               body  \ntimestamp                                                                    \n2020-09-29  1.601340e+09  $CBAT is going to be a great play further yet:...  \n2021-01-28  1.611863e+09  NaN||NaN||The CEO of NASDAQ pushed to halt tra...  \n2021-01-29  1.611875e+09  Is there data on current short positions in GM...  \n2021-01-30  1.611962e+09  We got this! Buy more if you can||What's the t...  \n2021-01-31  1.612049e+09  NaN||I can’t help but feel that whilst it was ...  \n...                  ...                                                ...  \n2021-08-12  1.628802e+09  NaN||As you are all aware the Haitian presiden...  \n2021-08-13  1.628887e+09  NaN||NaN||Your weekend discussion thread. Plea...  \n2021-08-14  1.628968e+09  NaN||NaN||NaN||📷\\n\\nhttps://preview.redd.it/4o...  \n2021-08-15  1.629060e+09  At the bottom please find a link to a webinar ...  \n2021-08-16  1.629095e+09  I am a doctor trained in internal medicine and...  \n\n[177 rows x 7 columns]",
      "text/html": "<div>\n<style scoped>\n    .dataframe tbody tr th:only-of-type {\n        vertical-align: middle;\n    }\n\n    .dataframe tbody tr th {\n        vertical-align: top;\n    }\n\n    .dataframe thead th {\n        text-align: right;\n    }\n</style>\n<table border=\"1\" class=\"dataframe\">\n  <thead>\n    <tr style=\"text-align: right;\">\n      <th></th>\n      <th>title</th>\n      <th>score</th>\n      <th>id</th>\n      <th>url</th>\n      <th>comms_num</th>\n      <th>created</th>\n      <th>body</th>\n    </tr>\n    <tr>\n      <th>timestamp</th>\n      <th></th>\n      <th></th>\n      <th></th>\n      <th></th>\n      <th></th>\n      <th></th>\n      <th></th>\n    </tr>\n  </thead>\n  <tbody>\n    <tr>\n      <th>2020-09-29</th>\n      <td>$CBAT $SUNW $SPI $OXBR Y'all are missing the p...</td>\n      <td>4.000000</td>\n      <td>j1fmmo</td>\n      <td>https://www.reddit.com/r/wallstreetbets/commen...</td>\n      <td>11.000000</td>\n      <td>1.601340e+09</td>\n      <td>$CBAT is going to be a great play further yet:...</td>\n    </tr>\n    <tr>\n      <th>2021-01-28</th>\n      <td>It's not about the money, it's about sending a...</td>\n      <td>960.609023</td>\n      <td>l6ulcx||l6uibd||l6uhhn||l6ugk6||l6ufgy||l6uf7d...</td>\n      <td>https://v.redd.it/6j75regs72e61||https://v.red...</td>\n      <td>142.193818</td>\n      <td>1.611863e+09</td>\n      <td>NaN||NaN||The CEO of NASDAQ pushed to halt tra...</td>\n    </tr>\n    <tr>\n      <th>2021-01-29</th>\n      <td>Current data on GME short positions||ZOM||xspa...</td>\n      <td>408.457309</td>\n      <td>l6yxto||l6yxqf||l6yxjc||l6yx9l||l6yx9k||l6yx9c...</td>\n      <td>https://www.reddit.com/r/wallstreetbets/commen...</td>\n      <td>52.371288</td>\n      <td>1.611875e+09</td>\n      <td>Is there data on current short positions in GM...</td>\n    </tr>\n    <tr>\n      <th>2021-01-30</th>\n      <td>Fellow retards! Hold that shit. Don’t panic.||...</td>\n      <td>4618.594101</td>\n      <td>l7uyb5||l7uyae||l7uya6||l7uy9j||l7uy8r||l7uy8e...</td>\n      <td>https://www.reddit.com/r/wallstreetbets/commen...</td>\n      <td>515.766152</td>\n      <td>1.611962e+09</td>\n      <td>We got this! Buy more if you can||What's the t...</td>\n    </tr>\n    <tr>\n      <th>2021-01-31</th>\n      <td>WE ALL DID IT! CITRON IS THROWING IN THE TOWEL...</td>\n      <td>5230.513312</td>\n      <td>l8nv7s||l8o31w||l8oblj||l8obkv||l8obkm||l8obk3...</td>\n      <td>https://i.redd.it/rpase2bamhe61.jpg||https://w...</td>\n      <td>306.713525</td>\n      <td>1.612049e+09</td>\n      <td>NaN||I can’t help but feel that whilst it was ...</td>\n    </tr>\n    <tr>\n      <th>...</th>\n      <td>...</td>\n      <td>...</td>\n      <td>...</td>\n      <td>...</td>\n      <td>...</td>\n      <td>...</td>\n      <td>...</td>\n    </tr>\n    <tr>\n      <th>2021-08-12</th>\n      <td>Here you go you sick fucks $WISH||The guide to...</td>\n      <td>647.386667</td>\n      <td>p38oq7||p388pe||p3841a||p37krv||p371r9||p3719y...</td>\n      <td>https://i.redd.it/bmf0yo4fqzg71.jpg||https://w...</td>\n      <td>481.200000</td>\n      <td>1.628802e+09</td>\n      <td>NaN||As you are all aware the Haitian presiden...</td>\n    </tr>\n    <tr>\n      <th>2021-08-13</th>\n      <td>Would manny monitors help you make more or los...</td>\n      <td>773.593750</td>\n      <td>p3tl78||p3tino||p3sv76||p3sv17||p3s821||p3rjhp...</td>\n      <td>https://v.redd.it/w4lkj0upr6h71||https://i.red...</td>\n      <td>695.546875</td>\n      <td>1.628887e+09</td>\n      <td>NaN||NaN||Your weekend discussion thread. Plea...</td>\n    </tr>\n    <tr>\n      <th>2021-08-14</th>\n      <td>My First 3 Months with WSB||Nice monitors, I u...</td>\n      <td>1204.837838</td>\n      <td>p4e21n||p4df57||p4chcx||p4cfun||p4cdx5||p4bji7...</td>\n      <td>https://v.redd.it/9ldnh4figdh71||https://v.red...</td>\n      <td>153.783784</td>\n      <td>1.628968e+09</td>\n      <td>NaN||NaN||NaN||📷\\n\\nhttps://preview.redd.it/4o...</td>\n    </tr>\n    <tr>\n      <th>2021-08-15</th>\n      <td>UWMC Q2 EARNINGS CHEAT CODE!||$AMZN is up to s...</td>\n      <td>1210.619048</td>\n      <td>p517bu||p50n5p||p50kxh||p50ids||p4zwww||p4zpd6...</td>\n      <td>https://www.reddit.com/r/wallstreetbets/commen...</td>\n      <td>630.666667</td>\n      <td>1.629060e+09</td>\n      <td>At the bottom please find a link to a webinar ...</td>\n    </tr>\n    <tr>\n      <th>2021-08-16</th>\n      <td>The CLOV clinician letter is worth a read||Wat...</td>\n      <td>66.090909</td>\n      <td>p5ahrj||p59txq||p59a57||p599nb||p58soc||p58hq6...</td>\n      <td>https://www.reddit.com/r/wallstreetbets/commen...</td>\n      <td>28.272727</td>\n      <td>1.629095e+09</td>\n      <td>I am a doctor trained in internal medicine and...</td>\n    </tr>\n  </tbody>\n</table>\n<p>177 rows × 7 columns</p>\n</div>"
     },
     "metadata": {},
     "output_type": "display_data"
    }
   ],
   "source": [
    "\n",
    "dataPlug.aggregate_reddit_posts_daily()\n",
    "\n",
    "\n",
    "\n",
    "display(dataPlug.df)\n",
    "\n"
   ],
   "metadata": {
    "collapsed": false
   }
  },
  {
   "cell_type": "code",
   "execution_count": 36,
   "outputs": [
    {
     "data": {
      "text/plain": "     timestamp       Open        High        Low      Close  Adj Close  \\\n0   2020-09-29   2.500000    2.662500   2.482500   2.587500   2.587500   \n1   2021-01-28  66.250000  120.750000  28.062500  48.400002  48.400002   \n2   2021-01-29  94.927498  103.495003  62.500000  81.250000  81.250000   \n3   2021-02-01  79.139999   80.500000  53.000000  56.250000  56.250000   \n4   2021-02-02  35.189999   39.500000  18.555000  22.500000  22.500000   \n..         ...        ...         ...        ...        ...        ...   \n118 2021-08-10  40.340000   41.724998  38.837502  39.762501  39.762501   \n119 2021-08-11  39.607498   39.762501  38.654999  39.695000  39.695000   \n120 2021-08-12  39.970001   41.070000  39.332500  40.587502  40.587502   \n121 2021-08-13  40.117500   40.887501  39.352501  40.630001  40.630001   \n122 2021-08-16  40.250000   42.470001  39.790001  40.982498  40.982498   \n\n        Volume                                              title  \\\n0     20950400  $CBAT $SUNW $SPI $OXBR Y'all are missing the p...   \n1    235263200  It's not about the money, it's about sending a...   \n2    202264400  Current data on GME short positions||ZOM||xspa...   \n3    149528800  RH closing positions and limiting buying due t...   \n4    312732400  Bloomberg reports short interest down to 39% f...   \n..         ...                                                ...   \n118    6493200  Follow The Money - How To Catch Every Rotation...   \n119    3781600  GROW: the same guy who discovered GME in June ...   \n120    5271200  Here you go you sick fucks $WISH||The guide to...   \n121    4059200  Would manny monitors help you make more or los...   \n122    6290400  The CLOV clinician letter is worth a read||Wat...   \n\n           score   comms_num  \\\n0       4.000000   11.000000   \n1     960.609023  142.193818   \n2     408.457309   52.371288   \n3    4230.302036  531.211538   \n4     786.005326  101.698402   \n..           ...         ...   \n118   538.592593  630.555556   \n119   613.945055  365.296703   \n120   647.386667  481.200000   \n121   773.593750  695.546875   \n122    66.090909   28.272727   \n\n                                                  body  \n0    $CBAT is going to be a great play further yet:...  \n1    NaN||NaN||The CEO of NASDAQ pushed to halt tra...  \n2    Is there data on current short positions in GM...  \n3    This is another sign that we're definitely in ...  \n4    NaN||NaN||The news is saying Reddit (which wou...  \n..                                                 ...  \n118  # I. Introduction\\n\\nSorry for the wall of tex...  \n119   **Facts:**\\n\\n* Josh Klein is a deep-value in...  \n120  NaN||As you are all aware the Haitian presiden...  \n121  NaN||NaN||Your weekend discussion thread. Plea...  \n122  I am a doctor trained in internal medicine and...  \n\n[123 rows x 11 columns]",
      "text/html": "<div>\n<style scoped>\n    .dataframe tbody tr th:only-of-type {\n        vertical-align: middle;\n    }\n\n    .dataframe tbody tr th {\n        vertical-align: top;\n    }\n\n    .dataframe thead th {\n        text-align: right;\n    }\n</style>\n<table border=\"1\" class=\"dataframe\">\n  <thead>\n    <tr style=\"text-align: right;\">\n      <th></th>\n      <th>timestamp</th>\n      <th>Open</th>\n      <th>High</th>\n      <th>Low</th>\n      <th>Close</th>\n      <th>Adj Close</th>\n      <th>Volume</th>\n      <th>title</th>\n      <th>score</th>\n      <th>comms_num</th>\n      <th>body</th>\n    </tr>\n  </thead>\n  <tbody>\n    <tr>\n      <th>0</th>\n      <td>2020-09-29</td>\n      <td>2.500000</td>\n      <td>2.662500</td>\n      <td>2.482500</td>\n      <td>2.587500</td>\n      <td>2.587500</td>\n      <td>20950400</td>\n      <td>$CBAT $SUNW $SPI $OXBR Y'all are missing the p...</td>\n      <td>4.000000</td>\n      <td>11.000000</td>\n      <td>$CBAT is going to be a great play further yet:...</td>\n    </tr>\n    <tr>\n      <th>1</th>\n      <td>2021-01-28</td>\n      <td>66.250000</td>\n      <td>120.750000</td>\n      <td>28.062500</td>\n      <td>48.400002</td>\n      <td>48.400002</td>\n      <td>235263200</td>\n      <td>It's not about the money, it's about sending a...</td>\n      <td>960.609023</td>\n      <td>142.193818</td>\n      <td>NaN||NaN||The CEO of NASDAQ pushed to halt tra...</td>\n    </tr>\n    <tr>\n      <th>2</th>\n      <td>2021-01-29</td>\n      <td>94.927498</td>\n      <td>103.495003</td>\n      <td>62.500000</td>\n      <td>81.250000</td>\n      <td>81.250000</td>\n      <td>202264400</td>\n      <td>Current data on GME short positions||ZOM||xspa...</td>\n      <td>408.457309</td>\n      <td>52.371288</td>\n      <td>Is there data on current short positions in GM...</td>\n    </tr>\n    <tr>\n      <th>3</th>\n      <td>2021-02-01</td>\n      <td>79.139999</td>\n      <td>80.500000</td>\n      <td>53.000000</td>\n      <td>56.250000</td>\n      <td>56.250000</td>\n      <td>149528800</td>\n      <td>RH closing positions and limiting buying due t...</td>\n      <td>4230.302036</td>\n      <td>531.211538</td>\n      <td>This is another sign that we're definitely in ...</td>\n    </tr>\n    <tr>\n      <th>4</th>\n      <td>2021-02-02</td>\n      <td>35.189999</td>\n      <td>39.500000</td>\n      <td>18.555000</td>\n      <td>22.500000</td>\n      <td>22.500000</td>\n      <td>312732400</td>\n      <td>Bloomberg reports short interest down to 39% f...</td>\n      <td>786.005326</td>\n      <td>101.698402</td>\n      <td>NaN||NaN||The news is saying Reddit (which wou...</td>\n    </tr>\n    <tr>\n      <th>...</th>\n      <td>...</td>\n      <td>...</td>\n      <td>...</td>\n      <td>...</td>\n      <td>...</td>\n      <td>...</td>\n      <td>...</td>\n      <td>...</td>\n      <td>...</td>\n      <td>...</td>\n      <td>...</td>\n    </tr>\n    <tr>\n      <th>118</th>\n      <td>2021-08-10</td>\n      <td>40.340000</td>\n      <td>41.724998</td>\n      <td>38.837502</td>\n      <td>39.762501</td>\n      <td>39.762501</td>\n      <td>6493200</td>\n      <td>Follow The Money - How To Catch Every Rotation...</td>\n      <td>538.592593</td>\n      <td>630.555556</td>\n      <td># I. Introduction\\n\\nSorry for the wall of tex...</td>\n    </tr>\n    <tr>\n      <th>119</th>\n      <td>2021-08-11</td>\n      <td>39.607498</td>\n      <td>39.762501</td>\n      <td>38.654999</td>\n      <td>39.695000</td>\n      <td>39.695000</td>\n      <td>3781600</td>\n      <td>GROW: the same guy who discovered GME in June ...</td>\n      <td>613.945055</td>\n      <td>365.296703</td>\n      <td>**Facts:**\\n\\n* Josh Klein is a deep-value in...</td>\n    </tr>\n    <tr>\n      <th>120</th>\n      <td>2021-08-12</td>\n      <td>39.970001</td>\n      <td>41.070000</td>\n      <td>39.332500</td>\n      <td>40.587502</td>\n      <td>40.587502</td>\n      <td>5271200</td>\n      <td>Here you go you sick fucks $WISH||The guide to...</td>\n      <td>647.386667</td>\n      <td>481.200000</td>\n      <td>NaN||As you are all aware the Haitian presiden...</td>\n    </tr>\n    <tr>\n      <th>121</th>\n      <td>2021-08-13</td>\n      <td>40.117500</td>\n      <td>40.887501</td>\n      <td>39.352501</td>\n      <td>40.630001</td>\n      <td>40.630001</td>\n      <td>4059200</td>\n      <td>Would manny monitors help you make more or los...</td>\n      <td>773.593750</td>\n      <td>695.546875</td>\n      <td>NaN||NaN||Your weekend discussion thread. Plea...</td>\n    </tr>\n    <tr>\n      <th>122</th>\n      <td>2021-08-16</td>\n      <td>40.250000</td>\n      <td>42.470001</td>\n      <td>39.790001</td>\n      <td>40.982498</td>\n      <td>40.982498</td>\n      <td>6290400</td>\n      <td>The CLOV clinician letter is worth a read||Wat...</td>\n      <td>66.090909</td>\n      <td>28.272727</td>\n      <td>I am a doctor trained in internal medicine and...</td>\n    </tr>\n  </tbody>\n</table>\n<p>123 rows × 11 columns</p>\n</div>"
     },
     "metadata": {},
     "output_type": "display_data"
    }
   ],
   "source": [
    "# Merge the dataframes\n",
    "dataPlug.merge_dataframes()\n",
    "\n",
    "\n",
    "display(dataPlug.mergedDF)"
   ],
   "metadata": {
    "collapsed": false
   }
  },
  {
   "cell_type": "code",
   "execution_count": 31,
   "outputs": [
    {
     "name": "stdout",
     "output_type": "stream",
     "text": [
      "Completed 0 of 123 posts | 0.0110 seconds | 0.0120 seconds total\n",
      "Completed 1 of 123 posts | 7.8177 seconds | 7.8297 seconds total\n",
      "Completed 3 of 123 posts | 8.6651 seconds | 16.4958 seconds total\n",
      "Completed 4 of 123 posts | 25.6527 seconds | 42.1485 seconds total\n",
      "Completed 5 of 123 posts | 75.4704 seconds | 117.6188 seconds total\n",
      "Completed 6 of 123 posts | 20.4297 seconds | 138.0495 seconds total\n",
      "Completed 7 of 123 posts | 43.2706 seconds | 181.3201 seconds total\n",
      "Completed 8 of 123 posts | 0.5463 seconds | 181.8664 seconds total\n",
      "Completed 9 of 123 posts | 0.1091 seconds | 181.9755 seconds total\n",
      "Completed 10 of 123 posts | 0.2271 seconds | 182.2026 seconds total\n",
      "Completed 11 of 123 posts | 0.1350 seconds | 182.3376 seconds total\n",
      "Completed 12 of 123 posts | 0.1650 seconds | 182.5026 seconds total\n",
      "Completed 13 of 123 posts | 0.0460 seconds | 182.5486 seconds total\n",
      "Completed 14 of 123 posts | 0.1820 seconds | 182.7306 seconds total\n",
      "Completed 15 of 123 posts | 0.4812 seconds | 183.2117 seconds total\n",
      "Completed 16 of 123 posts | 0.8382 seconds | 184.0500 seconds total\n",
      "Completed 17 of 123 posts | 0.0860 seconds | 184.1369 seconds total\n",
      "Completed 18 of 123 posts | 0.4918 seconds | 184.6287 seconds total\n",
      "Completed 19 of 123 posts | 0.3237 seconds | 184.9525 seconds total\n",
      "Completed 20 of 123 posts | 1.7129 seconds | 186.6654 seconds total\n",
      "Completed 21 of 123 posts | 2.5791 seconds | 189.2444 seconds total\n",
      "Completed 22 of 123 posts | 0.1243 seconds | 189.3688 seconds total\n",
      "Completed 23 of 123 posts | 1.1084 seconds | 190.4772 seconds total\n",
      "Completed 24 of 123 posts | 2.9262 seconds | 193.4034 seconds total\n",
      "Completed 25 of 123 posts | 1.5582 seconds | 194.9616 seconds total\n",
      "Completed 26 of 123 posts | 1.3640 seconds | 196.3256 seconds total\n",
      "Completed 27 of 123 posts | 0.1553 seconds | 196.4809 seconds total\n",
      "Completed 28 of 123 posts | 1.2456 seconds | 197.7265 seconds total\n",
      "Completed 29 of 123 posts | 3.7993 seconds | 201.5259 seconds total\n",
      "Completed 30 of 123 posts | 3.0906 seconds | 204.6172 seconds total\n",
      "Completed 31 of 123 posts | 0.9152 seconds | 205.5323 seconds total\n",
      "Completed 32 of 123 posts | 0.0835 seconds | 205.6158 seconds total\n",
      "Completed 33 of 123 posts | 0.4121 seconds | 206.0279 seconds total\n",
      "Completed 34 of 123 posts | 0.3992 seconds | 206.4271 seconds total\n",
      "Completed 35 of 123 posts | 0.3877 seconds | 206.8158 seconds total\n",
      "Completed 36 of 123 posts | 0.3069 seconds | 207.1228 seconds total\n",
      "Completed 37 of 123 posts | 0.0411 seconds | 207.1638 seconds total\n",
      "Completed 38 of 123 posts | 0.0880 seconds | 207.2518 seconds total\n",
      "Completed 39 of 123 posts | 0.1606 seconds | 207.4124 seconds total\n",
      "Completed 40 of 123 posts | 0.6729 seconds | 208.0863 seconds total\n",
      "Completed 41 of 123 posts | 0.2828 seconds | 208.3691 seconds total\n",
      "Completed 42 of 123 posts | 0.0350 seconds | 208.4051 seconds total\n",
      "Completed 43 of 123 posts | 0.0850 seconds | 208.4901 seconds total\n",
      "Completed 44 of 123 posts | 0.0620 seconds | 208.5521 seconds total\n",
      "Completed 45 of 123 posts | 0.1220 seconds | 208.6740 seconds total\n",
      "Completed 46 of 123 posts | 0.0220 seconds | 208.6971 seconds total\n",
      "Completed 47 of 123 posts | 0.0600 seconds | 208.7570 seconds total\n",
      "Completed 48 of 123 posts | 0.0400 seconds | 208.7971 seconds total\n",
      "Completed 49 of 123 posts | 0.0456 seconds | 208.8426 seconds total\n",
      "Completed 50 of 123 posts | 0.0891 seconds | 208.9317 seconds total\n",
      "Completed 51 of 123 posts | 0.0240 seconds | 208.9557 seconds total\n",
      "Completed 52 of 123 posts | 0.1026 seconds | 209.0583 seconds total\n",
      "Completed 53 of 123 posts | 0.1470 seconds | 209.2053 seconds total\n",
      "Completed 54 of 123 posts | 0.0610 seconds | 209.2663 seconds total\n",
      "Completed 55 of 123 posts | 0.0680 seconds | 209.3343 seconds total\n",
      "Completed 56 of 123 posts | 0.0140 seconds | 209.3483 seconds total\n",
      "Completed 57 of 123 posts | 0.0440 seconds | 209.3923 seconds total\n",
      "Completed 58 of 123 posts | 0.0443 seconds | 209.4375 seconds total\n",
      "Completed 59 of 123 posts | 0.0320 seconds | 209.4695 seconds total\n",
      "Completed 60 of 123 posts | 0.0260 seconds | 209.4955 seconds total\n",
      "Completed 61 of 123 posts | 0.0150 seconds | 209.5106 seconds total\n",
      "Completed 62 of 123 posts | 0.0808 seconds | 209.5913 seconds total\n",
      "Completed 63 of 123 posts | 0.0470 seconds | 209.6393 seconds total\n",
      "Completed 64 of 123 posts | 0.0594 seconds | 209.6987 seconds total\n",
      "Completed 65 of 123 posts | 0.0288 seconds | 209.7275 seconds total\n",
      "Completed 66 of 123 posts | 0.0201 seconds | 209.7476 seconds total\n",
      "Completed 67 of 123 posts | 0.1308 seconds | 209.8784 seconds total\n",
      "Completed 68 of 123 posts | 0.1578 seconds | 210.0361 seconds total\n",
      "Completed 69 of 123 posts | 0.0280 seconds | 210.0641 seconds total\n",
      "Completed 70 of 123 posts | 0.0770 seconds | 210.1411 seconds total\n",
      "Completed 71 of 123 posts | 0.0490 seconds | 210.1901 seconds total\n",
      "Completed 72 of 123 posts | 0.0570 seconds | 210.2481 seconds total\n",
      "Completed 73 of 123 posts | 0.0796 seconds | 210.3277 seconds total\n",
      "Completed 74 of 123 posts | 0.0160 seconds | 210.3437 seconds total\n",
      "Completed 75 of 123 posts | 0.0320 seconds | 210.3757 seconds total\n",
      "Completed 76 of 123 posts | 0.0282 seconds | 210.4039 seconds total\n",
      "Completed 77 of 123 posts | 0.0348 seconds | 210.4387 seconds total\n",
      "Completed 78 of 123 posts | 0.0380 seconds | 210.4767 seconds total\n",
      "Completed 79 of 123 posts | 0.0180 seconds | 210.4957 seconds total\n",
      "Completed 80 of 123 posts | 0.0511 seconds | 210.5468 seconds total\n",
      "Completed 81 of 123 posts | 0.0450 seconds | 210.5918 seconds total\n",
      "Completed 82 of 123 posts | 0.1077 seconds | 210.6994 seconds total\n",
      "Completed 83 of 123 posts | 0.1834 seconds | 210.8828 seconds total\n",
      "Completed 84 of 123 posts | 0.0120 seconds | 210.8958 seconds total\n",
      "Completed 85 of 123 posts | 0.2629 seconds | 211.1588 seconds total\n",
      "Completed 86 of 123 posts | 0.7908 seconds | 211.9496 seconds total\n",
      "Completed 87 of 123 posts | 0.0880 seconds | 212.0376 seconds total\n",
      "Completed 88 of 123 posts | 0.2920 seconds | 212.3296 seconds total\n",
      "Completed 89 of 123 posts | 0.1710 seconds | 212.5016 seconds total\n",
      "Completed 90 of 123 posts | 0.1862 seconds | 212.6878 seconds total\n",
      "Completed 91 of 123 posts | 0.0270 seconds | 212.7148 seconds total\n",
      "Completed 92 of 123 posts | 0.0971 seconds | 212.8119 seconds total\n",
      "Completed 93 of 123 posts | 0.2576 seconds | 213.0696 seconds total\n",
      "Completed 94 of 123 posts | 0.1690 seconds | 213.2386 seconds total\n",
      "Completed 95 of 123 posts | 0.1066 seconds | 213.3452 seconds total\n",
      "Completed 96 of 123 posts | 0.0120 seconds | 213.3572 seconds total\n",
      "Completed 97 of 123 posts | 0.3104 seconds | 213.6676 seconds total\n",
      "Completed 98 of 123 posts | 0.0340 seconds | 213.7016 seconds total\n",
      "Completed 99 of 123 posts | 0.1111 seconds | 213.8127 seconds total\n",
      "Completed 100 of 123 posts | 0.0709 seconds | 213.8836 seconds total\n",
      "Completed 101 of 123 posts | 0.0437 seconds | 213.9273 seconds total\n",
      "Completed 102 of 123 posts | 0.0180 seconds | 213.9453 seconds total\n",
      "Completed 103 of 123 posts | 0.0520 seconds | 213.9974 seconds total\n",
      "Completed 104 of 123 posts | 0.0505 seconds | 214.0478 seconds total\n",
      "Completed 105 of 123 posts | 0.0160 seconds | 214.0638 seconds total\n",
      "Completed 106 of 123 posts | 0.0398 seconds | 214.1036 seconds total\n",
      "Completed 107 of 123 posts | 0.0390 seconds | 214.1426 seconds total\n",
      "Completed 108 of 123 posts | 0.0708 seconds | 214.2134 seconds total\n",
      "Completed 109 of 123 posts | 0.0411 seconds | 214.2545 seconds total\n",
      "Completed 110 of 123 posts | 0.0171 seconds | 214.2716 seconds total\n",
      "Completed 111 of 123 posts | 0.0291 seconds | 214.3006 seconds total\n",
      "Completed 112 of 123 posts | 0.0125 seconds | 214.3131 seconds total\n",
      "Completed 113 of 123 posts | 0.0256 seconds | 214.3397 seconds total\n",
      "Completed 114 of 123 posts | 0.0630 seconds | 214.4027 seconds total\n",
      "Completed 115 of 123 posts | 0.0636 seconds | 214.4663 seconds total\n",
      "Completed 116 of 123 posts | 0.0707 seconds | 214.5400 seconds total\n",
      "Completed 117 of 123 posts | 0.0290 seconds | 214.5690 seconds total\n",
      "Completed 118 of 123 posts | 0.0266 seconds | 214.5956 seconds total\n",
      "Completed 119 of 123 posts | 0.0676 seconds | 214.6632 seconds total\n",
      "Completed 120 of 123 posts | 0.0350 seconds | 214.6982 seconds total\n",
      "Completed 121 of 123 posts | 0.0290 seconds | 214.7272 seconds total\n",
      "Completed 122 of 123 posts | 0.0134 seconds | 214.7407 seconds total\n",
      "Sentiment analysis took 214.7407 seconds total\n"
     ]
    }
   ],
   "source": [
    "positive = []\n",
    "negative = []\n",
    "neutral = []\n",
    "compound = []\n",
    "\n",
    "import time\n",
    "\n",
    "begin = time.time() # timer for entire process\n",
    "\n",
    "for i in range(0, len(dataPlug.mergedDF['title'])):\n",
    "    start = time.time() # timer for each iteration\n",
    "\n",
    "    if i == 2:\n",
    "        positive.append(0)\n",
    "        negative.append(0)\n",
    "        neutral.append(0)\n",
    "        compound.append(0)\n",
    "        continue\n",
    "\n",
    "    text = dataPlug.mergedDF['title'][i]\n",
    "    clean_text = squeeze.clean_text(text)\n",
    "    score = squeeze.sentiment_analysis(clean_text)\n",
    "    # Add scores to array\n",
    "    positive.append(score['pos'])\n",
    "    negative.append(score['neg'])\n",
    "    neutral.append(score['neu'])\n",
    "    compound.append(score['compound'])\n",
    "\n",
    "\n",
    "\n",
    "    end = time.time() # end timer for each iteration\n",
    "\n",
    "    print(f\"Completed {i} of {len(dataPlug.mergedDF['title'])} posts | {end - start:0.4f} seconds | {end - begin:0.4f} seconds total\")\n",
    "\n",
    "print(f\"Sentiment analysis took {end - begin:0.4f} seconds total\")\n",
    "\n"
   ],
   "metadata": {
    "collapsed": false
   }
  },
  {
   "cell_type": "code",
   "execution_count": 37,
   "outputs": [
    {
     "name": "stdout",
     "output_type": "stream",
     "text": [
      "Done!\n"
     ]
    }
   ],
   "source": [
    "# Using DataFrame.insert() to add the sentiment columns to the dataframe\n",
    "dataPlug.mergedDF.insert(8, \"Compound_Sentiment\", compound, True)\n",
    "dataPlug.mergedDF.insert(8, \"Negative_Sentiment\", negative, True)\n",
    "dataPlug.mergedDF.insert(8, \"Neutral_Sentiment\", neutral, True)\n",
    "dataPlug.mergedDF.insert(8, \"Positive_Sentiment\", positive, True)\n",
    "print('Done!')"
   ],
   "metadata": {
    "collapsed": false
   }
  },
  {
   "cell_type": "code",
   "execution_count": 38,
   "outputs": [],
   "source": [
    "# Drop the column with the weird data issue\n",
    "dataPlug.mergedDF = dataPlug.mergedDF.drop(labels=2, axis=0)"
   ],
   "metadata": {
    "collapsed": false
   }
  },
  {
   "cell_type": "code",
   "execution_count": 39,
   "outputs": [
    {
     "data": {
      "text/plain": "     timestamp       Open        High        Low      Close  Adj Close  \\\n0   2020-09-29   2.500000    2.662500   2.482500   2.587500   2.587500   \n1   2021-01-28  66.250000  120.750000  28.062500  48.400002  48.400002   \n3   2021-02-01  79.139999   80.500000  53.000000  56.250000  56.250000   \n4   2021-02-02  35.189999   39.500000  18.555000  22.500000  22.500000   \n5   2021-02-03  28.002501   28.350000  21.312500  23.102501  23.102501   \n..         ...        ...         ...        ...        ...        ...   \n118 2021-08-10  40.340000   41.724998  38.837502  39.762501  39.762501   \n119 2021-08-11  39.607498   39.762501  38.654999  39.695000  39.695000   \n120 2021-08-12  39.970001   41.070000  39.332500  40.587502  40.587502   \n121 2021-08-13  40.117500   40.887501  39.352501  40.630001  40.630001   \n122 2021-08-16  40.250000   42.470001  39.790001  40.982498  40.982498   \n\n        Volume                                              title  \\\n0     20950400  $CBAT $SUNW $SPI $OXBR Y'all are missing the p...   \n1    235263200  It's not about the money, it's about sending a...   \n3    149528800  RH closing positions and limiting buying due t...   \n4    312732400  Bloomberg reports short interest down to 39% f...   \n5    170794000  AXOS CASHAPP PARENT COMPANY SHUTS DOWN AMC AND...   \n..         ...                                                ...   \n118    6493200  Follow The Money - How To Catch Every Rotation...   \n119    3781600  GROW: the same guy who discovered GME in June ...   \n120    5271200  Here you go you sick fucks $WISH||The guide to...   \n121    4059200  Would manny monitors help you make more or los...   \n122    6290400  The CLOV clinician letter is worth a read||Wat...   \n\n     Positive_Sentiment  Neutral_Sentiment  Negative_Sentiment  \\\n0                 0.000              0.784               0.216   \n1                 0.240              0.662               0.099   \n3                 0.283              0.639               0.077   \n4                 0.271              0.640               0.090   \n5                 0.260              0.648               0.092   \n..                  ...                ...                 ...   \n118               0.170              0.757               0.073   \n119               0.164              0.781               0.055   \n120               0.210              0.723               0.066   \n121               0.169              0.732               0.099   \n122               0.146              0.825               0.029   \n\n     Compound_Sentiment        score   comms_num  \\\n0               -0.2960     4.000000   11.000000   \n1                1.0000   960.609023  142.193818   \n3                1.0000  4230.302036  531.211538   \n4                1.0000   786.005326  101.698402   \n5                1.0000   983.322361  128.741203   \n..                  ...          ...         ...   \n118              0.9949   538.592593  630.555556   \n119              0.9988   613.945055  365.296703   \n120              0.9988   647.386667  481.200000   \n121              0.9921   773.593750  695.546875   \n122              0.9095    66.090909   28.272727   \n\n                                                  body  \n0    $CBAT is going to be a great play further yet:...  \n1    NaN||NaN||The CEO of NASDAQ pushed to halt tra...  \n3    This is another sign that we're definitely in ...  \n4    NaN||NaN||The news is saying Reddit (which wou...  \n5    NaN||I know a big drop is scary. Robingay cut ...  \n..                                                 ...  \n118  # I. Introduction\\n\\nSorry for the wall of tex...  \n119   **Facts:**\\n\\n* Josh Klein is a deep-value in...  \n120  NaN||As you are all aware the Haitian presiden...  \n121  NaN||NaN||Your weekend discussion thread. Plea...  \n122  I am a doctor trained in internal medicine and...  \n\n[122 rows x 15 columns]",
      "text/html": "<div>\n<style scoped>\n    .dataframe tbody tr th:only-of-type {\n        vertical-align: middle;\n    }\n\n    .dataframe tbody tr th {\n        vertical-align: top;\n    }\n\n    .dataframe thead th {\n        text-align: right;\n    }\n</style>\n<table border=\"1\" class=\"dataframe\">\n  <thead>\n    <tr style=\"text-align: right;\">\n      <th></th>\n      <th>timestamp</th>\n      <th>Open</th>\n      <th>High</th>\n      <th>Low</th>\n      <th>Close</th>\n      <th>Adj Close</th>\n      <th>Volume</th>\n      <th>title</th>\n      <th>Positive_Sentiment</th>\n      <th>Neutral_Sentiment</th>\n      <th>Negative_Sentiment</th>\n      <th>Compound_Sentiment</th>\n      <th>score</th>\n      <th>comms_num</th>\n      <th>body</th>\n    </tr>\n  </thead>\n  <tbody>\n    <tr>\n      <th>0</th>\n      <td>2020-09-29</td>\n      <td>2.500000</td>\n      <td>2.662500</td>\n      <td>2.482500</td>\n      <td>2.587500</td>\n      <td>2.587500</td>\n      <td>20950400</td>\n      <td>$CBAT $SUNW $SPI $OXBR Y'all are missing the p...</td>\n      <td>0.000</td>\n      <td>0.784</td>\n      <td>0.216</td>\n      <td>-0.2960</td>\n      <td>4.000000</td>\n      <td>11.000000</td>\n      <td>$CBAT is going to be a great play further yet:...</td>\n    </tr>\n    <tr>\n      <th>1</th>\n      <td>2021-01-28</td>\n      <td>66.250000</td>\n      <td>120.750000</td>\n      <td>28.062500</td>\n      <td>48.400002</td>\n      <td>48.400002</td>\n      <td>235263200</td>\n      <td>It's not about the money, it's about sending a...</td>\n      <td>0.240</td>\n      <td>0.662</td>\n      <td>0.099</td>\n      <td>1.0000</td>\n      <td>960.609023</td>\n      <td>142.193818</td>\n      <td>NaN||NaN||The CEO of NASDAQ pushed to halt tra...</td>\n    </tr>\n    <tr>\n      <th>3</th>\n      <td>2021-02-01</td>\n      <td>79.139999</td>\n      <td>80.500000</td>\n      <td>53.000000</td>\n      <td>56.250000</td>\n      <td>56.250000</td>\n      <td>149528800</td>\n      <td>RH closing positions and limiting buying due t...</td>\n      <td>0.283</td>\n      <td>0.639</td>\n      <td>0.077</td>\n      <td>1.0000</td>\n      <td>4230.302036</td>\n      <td>531.211538</td>\n      <td>This is another sign that we're definitely in ...</td>\n    </tr>\n    <tr>\n      <th>4</th>\n      <td>2021-02-02</td>\n      <td>35.189999</td>\n      <td>39.500000</td>\n      <td>18.555000</td>\n      <td>22.500000</td>\n      <td>22.500000</td>\n      <td>312732400</td>\n      <td>Bloomberg reports short interest down to 39% f...</td>\n      <td>0.271</td>\n      <td>0.640</td>\n      <td>0.090</td>\n      <td>1.0000</td>\n      <td>786.005326</td>\n      <td>101.698402</td>\n      <td>NaN||NaN||The news is saying Reddit (which wou...</td>\n    </tr>\n    <tr>\n      <th>5</th>\n      <td>2021-02-03</td>\n      <td>28.002501</td>\n      <td>28.350000</td>\n      <td>21.312500</td>\n      <td>23.102501</td>\n      <td>23.102501</td>\n      <td>170794000</td>\n      <td>AXOS CASHAPP PARENT COMPANY SHUTS DOWN AMC AND...</td>\n      <td>0.260</td>\n      <td>0.648</td>\n      <td>0.092</td>\n      <td>1.0000</td>\n      <td>983.322361</td>\n      <td>128.741203</td>\n      <td>NaN||I know a big drop is scary. Robingay cut ...</td>\n    </tr>\n    <tr>\n      <th>...</th>\n      <td>...</td>\n      <td>...</td>\n      <td>...</td>\n      <td>...</td>\n      <td>...</td>\n      <td>...</td>\n      <td>...</td>\n      <td>...</td>\n      <td>...</td>\n      <td>...</td>\n      <td>...</td>\n      <td>...</td>\n      <td>...</td>\n      <td>...</td>\n      <td>...</td>\n    </tr>\n    <tr>\n      <th>118</th>\n      <td>2021-08-10</td>\n      <td>40.340000</td>\n      <td>41.724998</td>\n      <td>38.837502</td>\n      <td>39.762501</td>\n      <td>39.762501</td>\n      <td>6493200</td>\n      <td>Follow The Money - How To Catch Every Rotation...</td>\n      <td>0.170</td>\n      <td>0.757</td>\n      <td>0.073</td>\n      <td>0.9949</td>\n      <td>538.592593</td>\n      <td>630.555556</td>\n      <td># I. Introduction\\n\\nSorry for the wall of tex...</td>\n    </tr>\n    <tr>\n      <th>119</th>\n      <td>2021-08-11</td>\n      <td>39.607498</td>\n      <td>39.762501</td>\n      <td>38.654999</td>\n      <td>39.695000</td>\n      <td>39.695000</td>\n      <td>3781600</td>\n      <td>GROW: the same guy who discovered GME in June ...</td>\n      <td>0.164</td>\n      <td>0.781</td>\n      <td>0.055</td>\n      <td>0.9988</td>\n      <td>613.945055</td>\n      <td>365.296703</td>\n      <td>**Facts:**\\n\\n* Josh Klein is a deep-value in...</td>\n    </tr>\n    <tr>\n      <th>120</th>\n      <td>2021-08-12</td>\n      <td>39.970001</td>\n      <td>41.070000</td>\n      <td>39.332500</td>\n      <td>40.587502</td>\n      <td>40.587502</td>\n      <td>5271200</td>\n      <td>Here you go you sick fucks $WISH||The guide to...</td>\n      <td>0.210</td>\n      <td>0.723</td>\n      <td>0.066</td>\n      <td>0.9988</td>\n      <td>647.386667</td>\n      <td>481.200000</td>\n      <td>NaN||As you are all aware the Haitian presiden...</td>\n    </tr>\n    <tr>\n      <th>121</th>\n      <td>2021-08-13</td>\n      <td>40.117500</td>\n      <td>40.887501</td>\n      <td>39.352501</td>\n      <td>40.630001</td>\n      <td>40.630001</td>\n      <td>4059200</td>\n      <td>Would manny monitors help you make more or los...</td>\n      <td>0.169</td>\n      <td>0.732</td>\n      <td>0.099</td>\n      <td>0.9921</td>\n      <td>773.593750</td>\n      <td>695.546875</td>\n      <td>NaN||NaN||Your weekend discussion thread. Plea...</td>\n    </tr>\n    <tr>\n      <th>122</th>\n      <td>2021-08-16</td>\n      <td>40.250000</td>\n      <td>42.470001</td>\n      <td>39.790001</td>\n      <td>40.982498</td>\n      <td>40.982498</td>\n      <td>6290400</td>\n      <td>The CLOV clinician letter is worth a read||Wat...</td>\n      <td>0.146</td>\n      <td>0.825</td>\n      <td>0.029</td>\n      <td>0.9095</td>\n      <td>66.090909</td>\n      <td>28.272727</td>\n      <td>I am a doctor trained in internal medicine and...</td>\n    </tr>\n  </tbody>\n</table>\n<p>122 rows × 15 columns</p>\n</div>"
     },
     "metadata": {},
     "output_type": "display_data"
    }
   ],
   "source": [
    "display(dataPlug.mergedDF)"
   ],
   "metadata": {
    "collapsed": false
   }
  },
  {
   "cell_type": "code",
   "execution_count": 17,
   "outputs": [
    {
     "name": "stdout",
     "output_type": "stream",
     "text": [
      "{'neg': 0.216, 'neu': 0.784, 'pos': 0.0, 'compound': -0.296}\n"
     ]
    }
   ],
   "source": [],
   "metadata": {
    "collapsed": false
   }
  }
 ],
 "metadata": {
  "kernelspec": {
   "display_name": "Python 3",
   "language": "python",
   "name": "python3"
  },
  "language_info": {
   "codemirror_mode": {
    "name": "ipython",
    "version": 2
   },
   "file_extension": ".py",
   "mimetype": "text/x-python",
   "name": "python",
   "nbconvert_exporter": "python",
   "pygments_lexer": "ipython2",
   "version": "2.7.6"
  }
 },
 "nbformat": 4,
 "nbformat_minor": 0
}
